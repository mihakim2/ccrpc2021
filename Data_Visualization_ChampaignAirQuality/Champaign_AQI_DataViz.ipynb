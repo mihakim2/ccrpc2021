{
 "cells": [
  {
   "cell_type": "markdown",
   "metadata": {},
   "source": [
    "#### Housekeeping"
   ]
  },
  {
   "cell_type": "code",
   "execution_count": 2,
   "metadata": {
    "ExecuteTime": {
     "end_time": "2020-08-02T20:56:49.051454Z",
     "start_time": "2020-08-02T20:56:49.044338Z"
    }
   },
   "outputs": [],
   "source": [
    "#pip install datapane\n",
    "\n",
    "import pandas as pd \n",
    "import datapane as dp \n",
    "import plotly.express as px\n",
    "import plotly.graph_objs as go\n",
    "from plotly.subplots import make_subplots\n",
    "import datetime\n",
    "import statsmodels\n",
    "from ipywidgets import interact, interactive, fixed, interact_manual\n",
    "import ipywidgets as widgets"
   ]
  },
  {
   "cell_type": "code",
   "execution_count": 3,
   "metadata": {},
   "outputs": [
    {
     "data": {
      "application/javascript": [
       "IPython.OutputArea.prototype._should_scroll = function(lines) {\n",
       "    return false;\n",
       "}\n"
      ],
      "text/plain": [
       "<IPython.core.display.Javascript object>"
      ]
     },
     "metadata": {},
     "output_type": "display_data"
    }
   ],
   "source": [
    "%%javascript\n",
    "IPython.OutputArea.prototype._should_scroll = function(lines) {\n",
    "    return false;\n",
    "}"
   ]
  },
  {
   "cell_type": "markdown",
   "metadata": {},
   "source": [
    "# Exploring Air Quality and Temperature Relationship for Champaign County, IL\n",
    "\n",
    "In this project, data vidualizations have been presented to represent and visualize relationships between Air quality, Temperature and Precipitation data for Champaign Count, Illinois. <br>The structure of this project is: <br> 1) Data Exploration of Air Quality Data for County from U.S EPA. <br> 2) Exploring and visualizing climate data from MRCC, UIUC. <br> 3) Merging datasets and visualizing for analysis."
   ]
  },
  {
   "cell_type": "markdown",
   "metadata": {},
   "source": [
    "### Air Quality Index (AQI)\n",
    "\n",
    "<p>&bull; Air quality monitors measure PM2.5 and PM10 concentrations in g/m3<br /> &bull; Local, regional, and national governments decide how to disseminate monitor measurements to the public<br /> &bull; Preferred way to communicate is via a color-coded Air Quality Index (AQI) that is easy for the public to understand</p>\n",
    "<p><strong>What is the Air Quality Index?</strong><br />&bull; Index for reporting air quality<br />&bull; Color is key for communication<br />&bull; Ranges from 0 to 500 (no units)<br />&bull; Provides indicator of the quality of the air and its health effects<br />&bull; 101 typically corresponds to the level that violates the national health standard</p>\n",
    "<p><img src=\"https://www.epa.gov/sites/production/files/styles/large/public/2019-07/aqitableforcourse.png\" alt=\"\" width=\"478\" height=\"453\" /></p>"
   ]
  },
  {
   "cell_type": "markdown",
   "metadata": {},
   "source": [
    "### Air Quality index for Champaign County (1980-2020)\n",
    "I have imported data from EPA website. I am using the Air Quality Index of Champaign since 1980 till 2020 and visualizing this information. The data was obtained from the public website as comma seperated value files and stored on Github for access."
   ]
  },
  {
   "cell_type": "code",
   "execution_count": 17,
   "metadata": {
    "ExecuteTime": {
     "end_time": "2020-08-02T20:56:52.643388Z",
     "start_time": "2020-08-02T20:56:52.618203Z"
    }
   },
   "outputs": [
    {
     "data": {
      "text/html": [
       "<div>\n",
       "<style scoped>\n",
       "    .dataframe tbody tr th:only-of-type {\n",
       "        vertical-align: middle;\n",
       "    }\n",
       "\n",
       "    .dataframe tbody tr th {\n",
       "        vertical-align: top;\n",
       "    }\n",
       "\n",
       "    .dataframe thead th {\n",
       "        text-align: right;\n",
       "    }\n",
       "</style>\n",
       "<table border=\"1\" class=\"dataframe\">\n",
       "  <thead>\n",
       "    <tr style=\"text-align: right;\">\n",
       "      <th></th>\n",
       "      <th>AQI</th>\n",
       "      <th>MainPollutant</th>\n",
       "      <th>Year</th>\n",
       "      <th>Month</th>\n",
       "      <th>Date</th>\n",
       "      <th>Day</th>\n",
       "    </tr>\n",
       "    <tr>\n",
       "      <th>Record</th>\n",
       "      <th></th>\n",
       "      <th></th>\n",
       "      <th></th>\n",
       "      <th></th>\n",
       "      <th></th>\n",
       "      <th></th>\n",
       "    </tr>\n",
       "  </thead>\n",
       "  <tbody>\n",
       "    <tr>\n",
       "      <th>01/01/1980</th>\n",
       "      <td>9</td>\n",
       "      <td>Ozone</td>\n",
       "      <td>1980</td>\n",
       "      <td>1</td>\n",
       "      <td>1</td>\n",
       "      <td>1</td>\n",
       "    </tr>\n",
       "    <tr>\n",
       "      <th>01/02/1980</th>\n",
       "      <td>9</td>\n",
       "      <td>Ozone</td>\n",
       "      <td>1980</td>\n",
       "      <td>1</td>\n",
       "      <td>2</td>\n",
       "      <td>2</td>\n",
       "    </tr>\n",
       "    <tr>\n",
       "      <th>01/03/1980</th>\n",
       "      <td>10</td>\n",
       "      <td>Ozone</td>\n",
       "      <td>1980</td>\n",
       "      <td>1</td>\n",
       "      <td>3</td>\n",
       "      <td>3</td>\n",
       "    </tr>\n",
       "    <tr>\n",
       "      <th>01/04/1980</th>\n",
       "      <td>9</td>\n",
       "      <td>Ozone</td>\n",
       "      <td>1980</td>\n",
       "      <td>1</td>\n",
       "      <td>4</td>\n",
       "      <td>4</td>\n",
       "    </tr>\n",
       "    <tr>\n",
       "      <th>01/05/1980</th>\n",
       "      <td>18</td>\n",
       "      <td>Ozone</td>\n",
       "      <td>1980</td>\n",
       "      <td>1</td>\n",
       "      <td>5</td>\n",
       "      <td>5</td>\n",
       "    </tr>\n",
       "    <tr>\n",
       "      <th>01/06/1980</th>\n",
       "      <td>16</td>\n",
       "      <td>Ozone</td>\n",
       "      <td>1980</td>\n",
       "      <td>1</td>\n",
       "      <td>6</td>\n",
       "      <td>6</td>\n",
       "    </tr>\n",
       "    <tr>\n",
       "      <th>01/07/1980</th>\n",
       "      <td>13</td>\n",
       "      <td>Ozone</td>\n",
       "      <td>1980</td>\n",
       "      <td>1</td>\n",
       "      <td>7</td>\n",
       "      <td>7</td>\n",
       "    </tr>\n",
       "    <tr>\n",
       "      <th>01/08/1980</th>\n",
       "      <td>15</td>\n",
       "      <td>Ozone</td>\n",
       "      <td>1980</td>\n",
       "      <td>1</td>\n",
       "      <td>8</td>\n",
       "      <td>8</td>\n",
       "    </tr>\n",
       "    <tr>\n",
       "      <th>01/09/1980</th>\n",
       "      <td>10</td>\n",
       "      <td>Ozone</td>\n",
       "      <td>1980</td>\n",
       "      <td>1</td>\n",
       "      <td>9</td>\n",
       "      <td>9</td>\n",
       "    </tr>\n",
       "    <tr>\n",
       "      <th>01/10/1980</th>\n",
       "      <td>9</td>\n",
       "      <td>Ozone</td>\n",
       "      <td>1980</td>\n",
       "      <td>1</td>\n",
       "      <td>10</td>\n",
       "      <td>10</td>\n",
       "    </tr>\n",
       "  </tbody>\n",
       "</table>\n",
       "</div>"
      ],
      "text/plain": [
       "            AQI MainPollutant  Year  Month  Date  Day\n",
       "Record                                               \n",
       "01/01/1980    9         Ozone  1980      1     1    1\n",
       "01/02/1980    9         Ozone  1980      1     2    2\n",
       "01/03/1980   10         Ozone  1980      1     3    3\n",
       "01/04/1980    9         Ozone  1980      1     4    4\n",
       "01/05/1980   18         Ozone  1980      1     5    5\n",
       "01/06/1980   16         Ozone  1980      1     6    6\n",
       "01/07/1980   13         Ozone  1980      1     7    7\n",
       "01/08/1980   15         Ozone  1980      1     8    8\n",
       "01/09/1980   10         Ozone  1980      1     9    9\n",
       "01/10/1980    9         Ozone  1980      1    10   10"
      ]
     },
     "execution_count": 17,
     "metadata": {},
     "output_type": "execute_result"
    }
   ],
   "source": [
    "# Dataset from https://www.epa.gov/outdoor-air-quality-data/download-daily-data for Champaign County.\n",
    "data = pd.read_csv('https://github.com/mihakim2/IS445FinalProject/raw/main/ChampaignAQI40year.csv')\n",
    "\n",
    "data = data.rename(columns={'Date':'Record','Overall AQI Value': 'AQI', 'Main Pollutant': 'MainPollutant'}) #Renaming COlumns\n",
    "data = data[['Record', 'AQI', 'MainPollutant']]\n",
    "#Setting Date ranges\n",
    "data = data.set_index(['Record'])\n",
    "data['Year'] = pd.DatetimeIndex(data.index).year\n",
    "data['Month'] = pd.DatetimeIndex(data.index).month\n",
    "data['Date'] = pd.DatetimeIndex(data.index).day\n",
    "data['Day'] = pd.DatetimeIndex(data.index).dayofyear\n",
    "\n",
    "data.head(10)"
   ]
  },
  {
   "cell_type": "markdown",
   "metadata": {},
   "source": [
    "#### Exploring Air Quality Index over a single year.\n",
    "\n",
    "In this visualization an interactive graphic representing the AQI values in one calender year are being represented. Use the Scroller to compare and analyse the AQI from 1980 to 2020 for the county.\n",
    "\n",
    "Additionally, a trend line has been shown that is based on LOWESS (Locally Weighted Scatterplot Smoothing), also known as LOESS (locally weighted smoothing), which is a popular tool used in regression analysis that creates a smooth line through a timeplot or scatter plot to help analyse relationship between variables and foresee trends."
   ]
  },
  {
   "cell_type": "code",
   "execution_count": 21,
   "metadata": {},
   "outputs": [
    {
     "data": {
      "application/vnd.jupyter.widget-view+json": {
       "model_id": "5cb6b6c1c4204ecfb71b52abc00e0b2e",
       "version_major": 2,
       "version_minor": 0
      },
      "text/plain": [
       "interactive(children=(IntSlider(value=2000, description='Year', max=2020, min=1980), Output()), _dom_classes=(…"
      ]
     },
     "metadata": {},
     "output_type": "display_data"
    },
    {
     "data": {
      "text/plain": [
       "<function __main__.f(Year)>"
      ]
     },
     "execution_count": 21,
     "metadata": {},
     "output_type": "execute_result"
    }
   ],
   "source": [
    "def f(Year):\n",
    "    df=data.loc[data['Year'] == Year]\n",
    "    fig = px.scatter(data,x='Month', y= 'AQI', trendline=\"lowess\",trendline_color_override=\"red\",  color ='AQI',\n",
    "       labels={'value':'AQI in {}'.format(str(Year)),'index': 'Day of the Year'},\n",
    "       title= f'AQI for Champaign County, IL for 365 days in year {Year}')\n",
    "    fig.show()\n",
    "    \n",
    "interact(f, Year=(1980, 2020))\n"
   ]
  },
  {
   "cell_type": "markdown",
   "metadata": {},
   "source": [
    "#### The variation of AQI in a given year and month has been represented below to analyse the variation by days of the month.\n",
    "\n",
    "This illustration also shows Ordinary Least Squares regression trendline. Hovering over the trendline will show the equation of the line and its R-squared value."
   ]
  },
  {
   "cell_type": "code",
   "execution_count": 24,
   "metadata": {
    "scrolled": false
   },
   "outputs": [
    {
     "data": {
      "application/vnd.jupyter.widget-view+json": {
       "model_id": "b80eb42adcf54135a3d6c563781d3b9b",
       "version_major": 2,
       "version_minor": 0
      },
      "text/plain": [
       "interactive(children=(IntSlider(value=2000, description='Year', max=2020, min=1980), IntSlider(value=6, descri…"
      ]
     },
     "metadata": {},
     "output_type": "display_data"
    }
   ],
   "source": [
    "def f(Year, Month):\n",
    "    df1=data.loc[data['Year'] == Year]\n",
    "    df=df1.loc[df1['Month'] == Month]\n",
    "    fig = px.scatter(df, x='Date', y='AQI', trendline=\"ols\", trendline_color_override=\"red\", color='AQI', \n",
    "        labels={'value':'AQI in {}th month of year.'.format(str(Month)), 'index': 'Days of the Year'},\n",
    "        title= f'Monthly Air Quality Index for {Month}th month of {Year} Champaign between 1980-2020')\n",
    "    fig.show()\n",
    "\n",
    "\n",
    "\n",
    "interactive_plot = interactive(f, Year=(1980, 2020,1), Month=(1, 12, 1))\n",
    "interactive_plot"
   ]
  },
  {
   "cell_type": "markdown",
   "metadata": {},
   "source": [
    "Let us now move away from statistical visualization to a simple heat map that represents AQI using different shades."
   ]
  },
  {
   "cell_type": "code",
   "execution_count": 37,
   "metadata": {
    "scrolled": false
   },
   "outputs": [
    {
     "data": {
      "application/vnd.jupyter.widget-view+json": {
       "model_id": "28964c92fee84d4e8934b6720eebcbba",
       "version_major": 2,
       "version_minor": 0
      },
      "text/plain": [
       "interactive(children=(IntSlider(value=6, description='Month', max=12, min=1), Output()), _dom_classes=('widget…"
      ]
     },
     "metadata": {},
     "output_type": "display_data"
    }
   ],
   "source": [
    "def f(Month):\n",
    "    df =data.loc[data['Month'] == Month]\n",
    "    fig = go.Figure(data=go.Heatmap(\n",
    "        y=df['Day'], x=df['Year'], z =df['AQI'],colorscale='OrRd')\n",
    "        )\n",
    "\n",
    "    fig.update_layout(\n",
    "    title=f'HeatMap For AQI of Champaign County 1980-2020',\n",
    "    xaxis_title=\"Year\",\n",
    "    yaxis_title=\"Days of Year\",\n",
    "    legend_title=\"Legend\")\n",
    "    fig.show()\n",
    "\n",
    "interactive_plot = interactive(f, Month=(1, 12, 1))\n",
    "interactive_plot"
   ]
  },
  {
   "cell_type": "markdown",
   "metadata": {},
   "source": [
    "To visualize the AQI's over the year using mathematical Minimum, Maximum, Median and Mean, boxplots suggest an overall improvement in Air Quality as the Max values and quantile distribution have reduced over years."
   ]
  },
  {
   "cell_type": "code",
   "execution_count": 38,
   "metadata": {
    "scrolled": true
   },
   "outputs": [
    {
     "data": {
      "application/vnd.jupyter.widget-view+json": {
       "model_id": "c504be666f9847d7a34770cffd826be6",
       "version_major": 2,
       "version_minor": 0
      },
      "text/plain": [
       "interactive(children=(IntSlider(value=6, description='Month', max=12, min=1), Output()), _dom_classes=('widget…"
      ]
     },
     "metadata": {},
     "output_type": "display_data"
    }
   ],
   "source": [
    "def f(Month):\n",
    "    df =data.loc[data['Month'] == Month]\n",
    "    fig = px.box(df, x = \"Year\", y = 'AQI',   \n",
    "       labels={'value':'AQI in {}th month of year.'.format(str(Month)), 'index': 'Days of the Year'},\n",
    "       title= f'Monthly Air Quality Index for Champaign between 1980-2020')\n",
    "    fig.show()\n",
    "\n",
    "interactive_plot = interactive(f, Month=(1, 12, 1))\n",
    "output = interactive_plot.children[-1]\n",
    "interactive_plot\n"
   ]
  },
  {
   "cell_type": "markdown",
   "metadata": {},
   "source": [
    "We can also refer to a particular calender day to check how AQI has been varrying over years. Scrollers below could be used to adjust the month and date. eg AQI for day after Independence Day ie 5th of July is shown"
   ]
  },
  {
   "cell_type": "code",
   "execution_count": 48,
   "metadata": {
    "scrolled": true
   },
   "outputs": [
    {
     "data": {
      "application/vnd.jupyter.widget-view+json": {
       "model_id": "f6a458af13224f8ab4521b6f8874d8be",
       "version_major": 2,
       "version_minor": 0
      },
      "text/plain": [
       "interactive(children=(IntSlider(value=7, description='Month', max=12, min=1), IntSlider(value=5, description='…"
      ]
     },
     "metadata": {},
     "output_type": "display_data"
    }
   ],
   "source": [
    "\n",
    "def f(Month=7, Date=5):\n",
    "    df =data.loc[data['Month'] == Month]\n",
    "    \n",
    "    fig = px.bar(df,x= 'Year', y = 'AQI',\n",
    "              labels={'index': 'Yearh', 'value': 'AQI'}, color='AQI', \n",
    "        title=f'AQI from 1980 to 2020 for {Date}th Day of {Month}th Month of Year',\n",
    "          )\n",
    "    fig.show()\n",
    "\n",
    "interactive_plot = interactive(f, Month=(1, 12,1), Date=(1, 31, 1))\n",
    "interactive_plot"
   ]
  },
  {
   "cell_type": "markdown",
   "metadata": {},
   "source": [
    "## Daily Temperature and Precipitation Data Analysis"
   ]
  },
  {
   "cell_type": "markdown",
   "metadata": {},
   "source": [
    "For this part the data has been borrowed from the UIUC Midwestern Regional Climate Center's CLIMATE portal. This data includes Mean, Max and Min daily temperarures in Champaign from 1980 to 2020 and also daily precipitation and snowfall data. The dataset also has Average values of Heating Degree Days (HDD) and Cooling Degree Days(CDD). Temperatures are recorded in Fahrenheit and precipitation and snowfall in inches.\n",
    "\n",
    "Heating degree day is a measurement designed to quantify the demand for energy needed to heat a building. It is the number of degrees that a day's average temperature is below 65 Fahrenheit HDD is derived from measurements of outside air temperature.\n",
    "A cooling degree day (CDD) is a measurement designed to quantify the demand for energy needed to cool buildings. It is the number of degrees that a day's average temperature is above 65 Fahrenheit. Both HDD and CDD are unitless.\n",
    "\n",
    "For more details refer  https://mrcc.illinois.edu/CLIMATE/"
   ]
  },
  {
   "cell_type": "code",
   "execution_count": 83,
   "metadata": {
    "scrolled": false
   },
   "outputs": [
    {
     "data": {
      "text/html": [
       "<div>\n",
       "<style scoped>\n",
       "    .dataframe tbody tr th:only-of-type {\n",
       "        vertical-align: middle;\n",
       "    }\n",
       "\n",
       "    .dataframe tbody tr th {\n",
       "        vertical-align: top;\n",
       "    }\n",
       "\n",
       "    .dataframe thead th {\n",
       "        text-align: right;\n",
       "    }\n",
       "</style>\n",
       "<table border=\"1\" class=\"dataframe\">\n",
       "  <thead>\n",
       "    <tr style=\"text-align: right;\">\n",
       "      <th></th>\n",
       "      <th>PRCP</th>\n",
       "      <th>SNOW</th>\n",
       "      <th>MAX</th>\n",
       "      <th>MIN</th>\n",
       "      <th>MEAN</th>\n",
       "      <th>HDD</th>\n",
       "      <th>CDD</th>\n",
       "      <th>Year</th>\n",
       "      <th>Month</th>\n",
       "      <th>Date</th>\n",
       "      <th>Day</th>\n",
       "    </tr>\n",
       "    <tr>\n",
       "      <th>Date</th>\n",
       "      <th></th>\n",
       "      <th></th>\n",
       "      <th></th>\n",
       "      <th></th>\n",
       "      <th></th>\n",
       "      <th></th>\n",
       "      <th></th>\n",
       "      <th></th>\n",
       "      <th></th>\n",
       "      <th></th>\n",
       "      <th></th>\n",
       "    </tr>\n",
       "  </thead>\n",
       "  <tbody>\n",
       "    <tr>\n",
       "      <th>1980-01-01</th>\n",
       "      <td>0.00</td>\n",
       "      <td>0.0</td>\n",
       "      <td>33</td>\n",
       "      <td>26</td>\n",
       "      <td>29.5</td>\n",
       "      <td>35</td>\n",
       "      <td>0</td>\n",
       "      <td>1980</td>\n",
       "      <td>1</td>\n",
       "      <td>1</td>\n",
       "      <td>1</td>\n",
       "    </tr>\n",
       "    <tr>\n",
       "      <th>1980-01-02</th>\n",
       "      <td>0.00</td>\n",
       "      <td>0.0</td>\n",
       "      <td>30</td>\n",
       "      <td>28</td>\n",
       "      <td>29.0</td>\n",
       "      <td>36</td>\n",
       "      <td>0</td>\n",
       "      <td>1980</td>\n",
       "      <td>1</td>\n",
       "      <td>2</td>\n",
       "      <td>2</td>\n",
       "    </tr>\n",
       "    <tr>\n",
       "      <th>1980-01-03</th>\n",
       "      <td>0.01</td>\n",
       "      <td>0.0</td>\n",
       "      <td>32</td>\n",
       "      <td>28</td>\n",
       "      <td>30.0</td>\n",
       "      <td>35</td>\n",
       "      <td>0</td>\n",
       "      <td>1980</td>\n",
       "      <td>1</td>\n",
       "      <td>3</td>\n",
       "      <td>3</td>\n",
       "    </tr>\n",
       "    <tr>\n",
       "      <th>1980-01-04</th>\n",
       "      <td>0.00</td>\n",
       "      <td>0.0</td>\n",
       "      <td>31</td>\n",
       "      <td>26</td>\n",
       "      <td>28.5</td>\n",
       "      <td>36</td>\n",
       "      <td>0</td>\n",
       "      <td>1980</td>\n",
       "      <td>1</td>\n",
       "      <td>4</td>\n",
       "      <td>4</td>\n",
       "    </tr>\n",
       "    <tr>\n",
       "      <th>1980-01-05</th>\n",
       "      <td>0.00</td>\n",
       "      <td>0.0</td>\n",
       "      <td>31</td>\n",
       "      <td>21</td>\n",
       "      <td>26.0</td>\n",
       "      <td>39</td>\n",
       "      <td>0</td>\n",
       "      <td>1980</td>\n",
       "      <td>1</td>\n",
       "      <td>5</td>\n",
       "      <td>5</td>\n",
       "    </tr>\n",
       "  </tbody>\n",
       "</table>\n",
       "</div>"
      ],
      "text/plain": [
       "            PRCP  SNOW  MAX  MIN  MEAN  HDD  CDD  Year  Month  Date  Day\n",
       "Date                                                                    \n",
       "1980-01-01  0.00   0.0   33   26  29.5   35    0  1980      1     1    1\n",
       "1980-01-02  0.00   0.0   30   28  29.0   36    0  1980      1     2    2\n",
       "1980-01-03  0.01   0.0   32   28  30.0   35    0  1980      1     3    3\n",
       "1980-01-04  0.00   0.0   31   26  28.5   36    0  1980      1     4    4\n",
       "1980-01-05  0.00   0.0   31   21  26.0   39    0  1980      1     5    5"
      ]
     },
     "execution_count": 83,
     "metadata": {},
     "output_type": "execute_result"
    }
   ],
   "source": [
    "# Dataset from https://mrcc.illinois.edu/CLIMATE/ for Champaign County.\n",
    "temp_data = pd.read_csv('https://github.com/mihakim2/IS445FinalProject/raw/main/SD_b2dates.csv')\n",
    "temp_data = temp_data.rename(columns={'099AX': 'MAX', '099IN': 'MIN', '99EAN': 'MEAN',  'HDD1': 'HDD', 'CDD1': 'CDD'}) #Renaming COlumns\n",
    "\n",
    "#Setting Date ranges\n",
    "temp_data['Date'] = pd.date_range('1980-1-1', periods=14953, freq='D')\n",
    "temp_data = temp_data.set_index(['Date'])\n",
    "temp_data['Year'] = pd.DatetimeIndex(temp_data.index).year\n",
    "temp_data['Month'] = pd.DatetimeIndex(temp_data.index).month\n",
    "temp_data['Date'] = pd.DatetimeIndex(temp_data.index).day\n",
    "temp_data['Day'] = pd.DatetimeIndex(temp_data.index).dayofyear\n",
    "\n",
    "\n",
    "temp_data.head()"
   ]
  },
  {
   "cell_type": "markdown",
   "metadata": {},
   "source": [
    "Barplot below allows for exploration of dataset for a given year and month."
   ]
  },
  {
   "cell_type": "code",
   "execution_count": 84,
   "metadata": {
    "scrolled": true
   },
   "outputs": [
    {
     "data": {
      "application/vnd.jupyter.widget-view+json": {
       "model_id": "e5dad648fe654587895f96338435dd80",
       "version_major": 2,
       "version_minor": 0
      },
      "text/plain": [
       "interactive(children=(Dropdown(description='Type', options=('MIN', 'MAX', 'MEAN', 'PRCP', 'SNOW', 'HDD', 'CDD'…"
      ]
     },
     "metadata": {},
     "output_type": "display_data"
    }
   ],
   "source": [
    "def f(Type,Year, Month):\n",
    "    df =temp_data.loc[temp_data['Year'] == Year]\n",
    "    df2 = df.loc[df['Month'] == Month]\n",
    "    fig = px.bar(df2,x='Date',y=Type,\n",
    "        title=f'{Type} for {Month}th month of {Year} For Champaign County 1980-2020', color=Type\n",
    "          )\n",
    "    fig.show()\n",
    "\n",
    "interactive_plot = interactive(f, Type=['MIN', 'MAX','MEAN','PRCP','SNOW','HDD','CDD'],\n",
    "                               Year=(1980, 2012,1),\n",
    "                               Month=(1, 12, 1))\n",
    "output = interactive_plot.children[-1]\n",
    "interactive_plot"
   ]
  },
  {
   "cell_type": "markdown",
   "metadata": {},
   "source": [
    "To visualize the trend for changing values over years, below visualization represents monthly trends for the data along with regression line for data."
   ]
  },
  {
   "cell_type": "code",
   "execution_count": 51,
   "metadata": {},
   "outputs": [
    {
     "data": {
      "application/vnd.jupyter.widget-view+json": {
       "model_id": "fd26a2fa19dc4094b84d476d99d4663d",
       "version_major": 2,
       "version_minor": 0
      },
      "text/plain": [
       "interactive(children=(Dropdown(description='Type', index=2, options=('MIN', 'MAX', 'MEAN', 'PRCP', 'SNOW', 'HD…"
      ]
     },
     "metadata": {},
     "output_type": "display_data"
    }
   ],
   "source": [
    "def f(Type='MEAN', Month=9):\n",
    "    df=temp_data.loc[temp_data['Month'] == Month]\n",
    "    fig = px.scatter(df,x='Year', y =Type,trendline=\"ols\",\n",
    "       color= Type,     \n",
    "       labels={'value':'MAX in {}'.format(str(Month))},\n",
    "       title= f'Monthly {Type} for Champaign between 1980-2020')\n",
    "    fig.show()\n",
    "\n",
    "interactive_plot = interactive(f, Type=['MIN', 'MAX','MEAN','PRCP','SNOW','HDD','CDD'], Month=(1, 12, 1))\n",
    "output = interactive_plot.children[-1]\n",
    "interactive_plot"
   ]
  },
  {
   "cell_type": "code",
   "execution_count": 52,
   "metadata": {
    "scrolled": true
   },
   "outputs": [
    {
     "data": {
      "application/vnd.jupyter.widget-view+json": {
       "model_id": "ec2790d1b4f44441bea02f3e832c0fbe",
       "version_major": 2,
       "version_minor": 0
      },
      "text/plain": [
       "interactive(children=(Dropdown(description='Type', options=('MIN', 'MAX', 'MEAN'), value='MIN'), IntSlider(val…"
      ]
     },
     "metadata": {},
     "output_type": "display_data"
    }
   ],
   "source": [
    "def f(Type, Month):\n",
    "    df =temp_data.loc[temp_data['Month'] == Month]\n",
    "    fig = go.Figure(data=go.Heatmap(\n",
    "        y=df['Date'], x=df['Year'], z =df[Type],colorscale='OrRd')\n",
    "        )\n",
    "\n",
    "    fig.update_layout(\n",
    "    title=f'HeatMap For {Type} Daily Temperature of Champaign County 1980-2020 in deg F',\n",
    "    xaxis_title=\"Year\",\n",
    "    yaxis_title=\"Date\",\n",
    "    legend_title=\"Legend\")\n",
    "    fig.show()\n",
    "\n",
    "interactive_plot = interactive(f, Type=['MIN', 'MAX','MEAN'], Month=(1, 12, 1))\n",
    "output = interactive_plot.children[-1]\n",
    "interactive_plot"
   ]
  },
  {
   "cell_type": "markdown",
   "metadata": {},
   "source": [
    "### Combining AQI with Temperature\n",
    "\n",
    "Lastly, the AQI data is compared with climate data to find possible relations with their variations over the years. The temperature data matches the changing trend of AQI suggesting possible relationships."
   ]
  },
  {
   "cell_type": "code",
   "execution_count": 82,
   "metadata": {},
   "outputs": [
    {
     "data": {
      "application/vnd.jupyter.widget-view+json": {
       "model_id": "a6df2d6656bc4aaaa6a0eb65b8760882",
       "version_major": 2,
       "version_minor": 0
      },
      "text/plain": [
       "interactive(children=(Dropdown(description='Type', index=2, options=('MIN', 'MAX', 'MEAN', 'PRCP', 'SNOW', 'HD…"
      ]
     },
     "metadata": {},
     "output_type": "display_data"
    }
   ],
   "source": [
    "def f(Type='MEAN',Year='2019', Month='5'):\n",
    "    df2 =data.loc[data['Month'] == Month]\n",
    "    df =df2.loc[df2['Year'] == Year]\n",
    "    dft =temp_data.loc[temp_data['Year'] == Year]\n",
    "    dft2 = dft.loc[dft['Month'] == Month]\n",
    "    # Create figure with secondary y-axis\n",
    "    fig = make_subplots(specs=[[{\"secondary_y\": True}]])\n",
    "\n",
    "    # Add traces\n",
    "    fig.add_trace(\n",
    "        go.Bar(x=df['Date'], y=df['AQI'], name=\"AQI data\"),\n",
    "        secondary_y=False,\n",
    "    )\n",
    "\n",
    "    fig.add_trace(\n",
    "        go.Scatter(x=df['Date'], y=dft2[Type], name=f\"{Type}\"),\n",
    "        secondary_y=True,\n",
    "    )\n",
    "    # Add figure title\n",
    "    fig.update_layout(\n",
    "        title_text=f\"AQI vs Climate Data for {Year}\"\n",
    "    )\n",
    "\n",
    "    # Set x-axis title\n",
    "    fig.update_xaxes(title_text=\"xaxis title\")\n",
    "\n",
    "    # Set y-axes titles\n",
    "    fig.update_yaxes(title_text=\"<b>Air Quality Index</b> AQI\", secondary_y=False)\n",
    "    fig.update_yaxes(title_text=f\"<b>{Type}</b> from Climate Data\", secondary_y=True)\n",
    "\n",
    "    fig.show()\n",
    "\n",
    "interactive_plot = interactive(f, Type=['MIN', 'MAX','MEAN','PRCP','SNOW','HDD','CDD'], Year=(1980, 2020,1), Month=(1, 12, 1))\n",
    "interactive_plot\n",
    "\n",
    "\n"
   ]
  },
  {
   "cell_type": "markdown",
   "metadata": {},
   "source": [
    "Data Sources: <br>\n",
    "    1) EPA - Air Data: Air Quality Data Collected at Outdoor Monitors Across the US<br>\n",
    "        https://www.epa.gov/outdoor-air-quality-data<br>\n",
    "    2)Midwestern Regional Climate Center, University of Illinois Urbana Champaign<br>\n",
    "        https://mrcc.illinois.edu/CLIMATE/stnchooser_maptest.jsp?UcanSelect=5995"
   ]
  }
 ],
 "metadata": {
  "kernelspec": {
   "display_name": "Python 3",
   "language": "python",
   "name": "python3"
  },
  "language_info": {
   "codemirror_mode": {
    "name": "ipython",
    "version": 3
   },
   "file_extension": ".py",
   "mimetype": "text/x-python",
   "name": "python",
   "nbconvert_exporter": "python",
   "pygments_lexer": "ipython3",
   "version": "3.7.8"
  },
  "latex_envs": {
   "LaTeX_envs_menu_present": true,
   "autoclose": false,
   "autocomplete": true,
   "bibliofile": "biblio.bib",
   "cite_by": "apalike",
   "current_citInitial": 1,
   "eqLabelWithNumbers": true,
   "eqNumInitial": 1,
   "hotkeys": {
    "equation": "Ctrl-E",
    "itemize": "Ctrl-I"
   },
   "labels_anchors": false,
   "latex_user_defs": false,
   "report_style_numbering": false,
   "user_envs_cfg": false
  },
  "toc": {
   "base_numbering": 1,
   "nav_menu": {},
   "number_sections": true,
   "sideBar": true,
   "skip_h1_title": false,
   "title_cell": "Table of Contents",
   "title_sidebar": "Contents",
   "toc_cell": false,
   "toc_position": {},
   "toc_section_display": true,
   "toc_window_display": false
  }
 },
 "nbformat": 4,
 "nbformat_minor": 4
}
