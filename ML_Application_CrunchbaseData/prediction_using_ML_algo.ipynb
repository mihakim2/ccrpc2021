{
  "nbformat": 4,
  "nbformat_minor": 0,
  "metadata": {
    "colab": {
      "name": " DMAP SP21 Final Project_forccrpc",
      "provenance": [],
      "collapsed_sections": []
    },
    "kernelspec": {
      "display_name": "Python 3",
      "name": "python3"
    },
    "widgets": {
      "application/vnd.jupyter.widget-state+json": {
        "a52a089459cf47a8a822453cb2e51ba5": {
          "model_module": "@jupyter-widgets/controls",
          "model_name": "VBoxModel",
          "model_module_version": "1.5.0",
          "state": {
            "_view_name": "VBoxView",
            "_dom_classes": [
              "widget-interact"
            ],
            "_model_name": "VBoxModel",
            "_view_module": "@jupyter-widgets/controls",
            "_model_module_version": "1.5.0",
            "_view_count": null,
            "_view_module_version": "1.5.0",
            "box_style": "",
            "layout": "IPY_MODEL_e362c99306b74ab3922933e2e903be1f",
            "_model_module": "@jupyter-widgets/controls",
            "children": [
              "IPY_MODEL_240b24cbacfc4c79be6c1aae7a4e66a4",
              "IPY_MODEL_18ef2f7edb6b4a24bd97f66b7d8619d6"
            ]
          }
        },
        "e362c99306b74ab3922933e2e903be1f": {
          "model_module": "@jupyter-widgets/base",
          "model_name": "LayoutModel",
          "model_module_version": "1.2.0",
          "state": {
            "_view_name": "LayoutView",
            "grid_template_rows": null,
            "right": null,
            "justify_content": null,
            "_view_module": "@jupyter-widgets/base",
            "overflow": null,
            "_model_module_version": "1.2.0",
            "_view_count": null,
            "flex_flow": null,
            "width": null,
            "min_width": null,
            "border": null,
            "align_items": null,
            "bottom": null,
            "_model_module": "@jupyter-widgets/base",
            "top": null,
            "grid_column": null,
            "overflow_y": null,
            "overflow_x": null,
            "grid_auto_flow": null,
            "grid_area": null,
            "grid_template_columns": null,
            "flex": null,
            "_model_name": "LayoutModel",
            "justify_items": null,
            "grid_row": null,
            "max_height": null,
            "align_content": null,
            "visibility": null,
            "align_self": null,
            "height": null,
            "min_height": null,
            "padding": null,
            "grid_auto_rows": null,
            "grid_gap": null,
            "max_width": null,
            "order": null,
            "_view_module_version": "1.2.0",
            "grid_template_areas": null,
            "object_position": null,
            "object_fit": null,
            "grid_auto_columns": null,
            "margin": null,
            "display": null,
            "left": null
          }
        },
        "240b24cbacfc4c79be6c1aae7a4e66a4": {
          "model_module": "@jupyter-widgets/controls",
          "model_name": "DropdownModel",
          "model_module_version": "1.5.0",
          "state": {
            "_options_labels": [
              "Logistic regression",
              "Decision tree",
              "Random forest",
              "K-NearestNeighbours",
              "SVM",
              "Gradient boost",
              "XGBoost"
            ],
            "_view_name": "DropdownView",
            "style": "IPY_MODEL_85a07e7e223948998d8dcae7a1b84969",
            "_dom_classes": [],
            "description": "Model",
            "_model_name": "DropdownModel",
            "index": 5,
            "_view_module": "@jupyter-widgets/controls",
            "_model_module_version": "1.5.0",
            "_view_count": null,
            "disabled": false,
            "_view_module_version": "1.5.0",
            "description_tooltip": null,
            "_model_module": "@jupyter-widgets/controls",
            "layout": "IPY_MODEL_c22da36cbe914e2b96ad443e4946bd75"
          }
        },
        "18ef2f7edb6b4a24bd97f66b7d8619d6": {
          "model_module": "@jupyter-widgets/output",
          "model_name": "OutputModel",
          "model_module_version": "1.0.0",
          "state": {
            "_view_name": "OutputView",
            "msg_id": "",
            "_dom_classes": [],
            "_model_name": "OutputModel",
            "outputs": [
              {
                "output_type": "display_data",
                "metadata": {
                  "tags": []
                },
                "text/html": "<div>\n<style scoped>\n    .dataframe tbody tr th:only-of-type {\n        vertical-align: middle;\n    }\n\n    .dataframe tbody tr th {\n        vertical-align: top;\n    }\n\n    .dataframe thead th {\n        text-align: right;\n    }\n</style>\n<table border=\"1\" class=\"dataframe\">\n  <thead>\n    <tr style=\"text-align: right;\">\n      <th></th>\n      <th>Model</th>\n      <th>Accuracy</th>\n      <th>F1 score</th>\n      <th>Precision</th>\n      <th>Recall score</th>\n    </tr>\n  </thead>\n  <tbody>\n    <tr>\n      <th>5</th>\n      <td>Gradient boost</td>\n      <td>0.543624</td>\n      <td>0.657862</td>\n      <td>0.547644</td>\n      <td>0.823622</td>\n    </tr>\n  </tbody>\n</table>\n</div>",
                "text/plain": "            Model  Accuracy  F1 score  Precision  Recall score\n5  Gradient boost  0.543624  0.657862   0.547644      0.823622"
              },
              {
                "output_type": "display_data",
                "metadata": {
                  "tags": [],
                  "needs_background": "light"
                },
                "image/png": "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\n",
                "text/plain": "<Figure size 432x288 with 2 Axes>"
              }
            ],
            "_view_module": "@jupyter-widgets/output",
            "_model_module_version": "1.0.0",
            "_view_count": null,
            "_view_module_version": "1.0.0",
            "layout": "IPY_MODEL_c046259d44574aba8c323bee8d582650",
            "_model_module": "@jupyter-widgets/output"
          }
        },
        "85a07e7e223948998d8dcae7a1b84969": {
          "model_module": "@jupyter-widgets/controls",
          "model_name": "DescriptionStyleModel",
          "model_module_version": "1.5.0",
          "state": {
            "_view_name": "StyleView",
            "_model_name": "DescriptionStyleModel",
            "description_width": "",
            "_view_module": "@jupyter-widgets/base",
            "_model_module_version": "1.5.0",
            "_view_count": null,
            "_view_module_version": "1.2.0",
            "_model_module": "@jupyter-widgets/controls"
          }
        },
        "c22da36cbe914e2b96ad443e4946bd75": {
          "model_module": "@jupyter-widgets/base",
          "model_name": "LayoutModel",
          "model_module_version": "1.2.0",
          "state": {
            "_view_name": "LayoutView",
            "grid_template_rows": null,
            "right": null,
            "justify_content": null,
            "_view_module": "@jupyter-widgets/base",
            "overflow": null,
            "_model_module_version": "1.2.0",
            "_view_count": null,
            "flex_flow": null,
            "width": null,
            "min_width": null,
            "border": null,
            "align_items": null,
            "bottom": null,
            "_model_module": "@jupyter-widgets/base",
            "top": null,
            "grid_column": null,
            "overflow_y": null,
            "overflow_x": null,
            "grid_auto_flow": null,
            "grid_area": null,
            "grid_template_columns": null,
            "flex": null,
            "_model_name": "LayoutModel",
            "justify_items": null,
            "grid_row": null,
            "max_height": null,
            "align_content": null,
            "visibility": null,
            "align_self": null,
            "height": null,
            "min_height": null,
            "padding": null,
            "grid_auto_rows": null,
            "grid_gap": null,
            "max_width": null,
            "order": null,
            "_view_module_version": "1.2.0",
            "grid_template_areas": null,
            "object_position": null,
            "object_fit": null,
            "grid_auto_columns": null,
            "margin": null,
            "display": null,
            "left": null
          }
        },
        "c046259d44574aba8c323bee8d582650": {
          "model_module": "@jupyter-widgets/base",
          "model_name": "LayoutModel",
          "model_module_version": "1.2.0",
          "state": {
            "_view_name": "LayoutView",
            "grid_template_rows": null,
            "right": null,
            "justify_content": null,
            "_view_module": "@jupyter-widgets/base",
            "overflow": null,
            "_model_module_version": "1.2.0",
            "_view_count": null,
            "flex_flow": null,
            "width": null,
            "min_width": null,
            "border": null,
            "align_items": null,
            "bottom": null,
            "_model_module": "@jupyter-widgets/base",
            "top": null,
            "grid_column": null,
            "overflow_y": null,
            "overflow_x": null,
            "grid_auto_flow": null,
            "grid_area": null,
            "grid_template_columns": null,
            "flex": null,
            "_model_name": "LayoutModel",
            "justify_items": null,
            "grid_row": null,
            "max_height": null,
            "align_content": null,
            "visibility": null,
            "align_self": null,
            "height": null,
            "min_height": null,
            "padding": null,
            "grid_auto_rows": null,
            "grid_gap": null,
            "max_width": null,
            "order": null,
            "_view_module_version": "1.2.0",
            "grid_template_areas": null,
            "object_position": null,
            "object_fit": null,
            "grid_auto_columns": null,
            "margin": null,
            "display": null,
            "left": null
          }
        }
      }
    }
  },
  "cells": [
    {
      "cell_type": "markdown",
      "metadata": {
        "id": "ui5eQuo1DMEI"
      },
      "source": [
        "\n",
        "---\n",
        "# Project Introduction\n",
        "\n",
        "My intention in this project is to explore the data available on [Crunchbase.com](https://www.crunchbase.com), a famous enterprise data website for reporting metrics on companies including startups globally. The website releases its own rankings known as CB Rank (crunchbase rank). \n",
        "\n",
        "<p style=\"text-align:center;\"><img src=\"https://lever-client-logos.s3.amazonaws.com/e055c3e6-3498-44fe-b063-15983d1774aa-1473698174291.png\" alt=\"Flying Kites\" width=\"350\" height=\"90\"></p>\n",
        "\n",
        "The Crunchbase Rank algorithm takes many signals into account including the number of connections a profile has, the level of community engagement, funding events, news articles, and acquisitions.\n",
        "\n",
        "A company’s Rank is fluid and subject to rising and decaying over time with time-sensitive events. Events such as product launches, funding events, leadership changes, and news affect a company’s Crunchbase Rank. Crunchbase Rank is determined by an algorithm that takes into account the number of connections of a profile within the platform, the amount of community engagement, funding events, news articles, acquisitions, and more. These factors decay over time at varying rates depending on the factor (i.e., news decays more quickly than size of funding rounds). \n",
        "\n",
        "In this analysis I am trying to identify any possible relatonship between the nature of the company ie either Tech or Non -Tech and its relationship with the CB Rank of the company, its patents, trademarks, articles, total number of investors, its active tech count or overall trend score. While Rank shows context, Crunchbase Trend Score demonstrates activity. A company’s rank will change based on activity (fundraising, news, etc.) and Trend Score is an indicator of how much their rank is changing at any given time.\n",
        "**In other words I will use the power of Machine Learning (ML) to predict the nature of a company(ie if it is Tech company or a Non-Tech copmpany) based on available information on these data points.**\n",
        "\n",
        "\n",
        "---\n",
        "\n",
        "\n"
      ]
    },
    {
      "cell_type": "code",
      "metadata": {
        "id": "4ZK0-f54UAtE"
      },
      "source": [
        "# Importing Libraries for the Project\n",
        "import pandas as pd\n",
        "import numpy as np\n",
        "import seaborn as sn\n",
        "import matplotlib.pyplot as plt\n",
        "from sklearn import tree\n",
        "from sklearn.model_selection import train_test_split\n",
        "from sklearn.ensemble import RandomForestClassifier\n",
        "from sklearn.linear_model import LogisticRegression\n",
        "from sklearn.neighbors import KNeighborsClassifier\n",
        "from sklearn import svm\n",
        "from sklearn.metrics import f1_score\n",
        "from sklearn.ensemble import RandomForestClassifier\n",
        "from sklearn.ensemble import GradientBoostingClassifier\n",
        "import xgboost as xgb\n",
        "import warnings\n",
        "from sklearn.metrics import accuracy_score, classification_report, precision_score, recall_score \n",
        "from sklearn.metrics import confusion_matrix, precision_recall_curve, roc_curve, auc, log_loss\n",
        "from sklearn.metrics import confusion_matrix, accuracy_score, f1_score, precision_score, recall_score\n",
        "import ipywidgets as widgets\n",
        "from ipywidgets import interact, interactive, fixed, interact_manual"
      ],
      "execution_count": null,
      "outputs": []
    },
    {
      "cell_type": "markdown",
      "metadata": {
        "id": "GJvmagnZDPjW"
      },
      "source": [
        "# Data Acquisition\n",
        "The data used for this project was obtained by me in the month of April 2021 from Crunchbase.com and includes the top 10000 companies listed by crunchbase based on its metric CB rank (or Crunch base rank). In addition to ranks other data points include **Organization Name,\tNumber of Published Articles,\tFounded Date,\tCompany Type (Profit or Non-Profit),Industry Groups, Number of Investors,\tPatents Granted,\tTrademarks Registered,\tActive Tech Count (total active technologies being used by the company),\tTrend Score** (90 Days) *i.e how an entity is trending in the Crunchbase ecosystem based on its movement in rank relative to all the other entities in its entity type for last 90 days*\n",
        "\n",
        "I used their data portal to access and download this data using the export to csv feature. I selected these datapoints mannually among many others as these were relevent to my study. Since crunchbase has limited access to its data for free users I downloaded them in clusters of 1000 each and then merged them into one single sheet using pandas library in a seperate python script. The data is ranked according to the CB Rank of each organization and is hosted on my GitHub account.\n",
        "\n",
        "The Crunchbase Rank algorithm takes many signals into account including the number of connections a profile has, the level of community engagement, funding events, news articles, and acquisitions. The Crunchbase rank uses Crunchbase’s intelligent algorithms to score and rank entities (e.g. Company, People, Investors, etc.) so you can quickly see what matters most in real time. The algorithms take into account many different variables, ranging from Total Funding Amount, that entity’s strength of relationships with other entities in the Crunchbase ecosystem, and how many times the entity has been viewed recently.\n",
        "\n",
        "A company’s Rank is fluid and subject to rising and decaying over time with time-sensitive events. Events such as product launches, funding events, leadership changes, and news affect a company’s Crunchbase Rank. <br>(Source: *https://about.crunchbase.com/blog/crunchbase-rank-trend-score/)*"
      ]
    },
    {
      "cell_type": "code",
      "metadata": {
        "colab": {
          "base_uri": "https://localhost:8080/",
          "height": 419
        },
        "id": "ohoYp_LK8w94",
        "outputId": "f14f0df4-ae81-4b7b-e054-eeafaa727356"
      },
      "source": [
        "def install_data():\n",
        "  original_df = pd.read_csv(\"https://raw.githubusercontent.com/mihakim2/DMAP490/main/CrunchBase_3000%20-%20Orig.csv\")\n",
        "  df = pd.read_csv(\"https://raw.githubusercontent.com/mihakim2/DMAP490/main/cbdata.csv\")\n",
        "  #make column names simpler\n",
        "  df.columns = df.columns.str.replace(' ', '')\n",
        "  df = df.replace(',','', regex=True)\n",
        "  df['CBRank'] = pd.to_numeric(df['CBRank'])\n",
        "  df['NumberofArticles'] = pd.to_numeric(df['NumberofArticles'])\n",
        "  df['PatentsGranted'] = pd.to_numeric(df['PatentsGranted'])\n",
        "  df['TrademarksRegistered'] = pd.to_numeric(df['TrademarksRegistered'])\n",
        "  return df\n",
        "df = install_data()\n",
        "df"
      ],
      "execution_count": null,
      "outputs": [
        {
          "output_type": "execute_result",
          "data": {
            "text/html": [
              "<div>\n",
              "<style scoped>\n",
              "    .dataframe tbody tr th:only-of-type {\n",
              "        vertical-align: middle;\n",
              "    }\n",
              "\n",
              "    .dataframe tbody tr th {\n",
              "        vertical-align: top;\n",
              "    }\n",
              "\n",
              "    .dataframe thead th {\n",
              "        text-align: right;\n",
              "    }\n",
              "</style>\n",
              "<table border=\"1\" class=\"dataframe\">\n",
              "  <thead>\n",
              "    <tr style=\"text-align: right;\">\n",
              "      <th></th>\n",
              "      <th>OrganizationName</th>\n",
              "      <th>Industries</th>\n",
              "      <th>HeadquartersLocation</th>\n",
              "      <th>CBRank</th>\n",
              "      <th>NumberofArticles</th>\n",
              "      <th>CompanyType</th>\n",
              "      <th>NumberofInvestors</th>\n",
              "      <th>PatentsGranted</th>\n",
              "      <th>TrademarksRegistered</th>\n",
              "      <th>ActiveTechCount</th>\n",
              "      <th>TrendScore</th>\n",
              "    </tr>\n",
              "  </thead>\n",
              "  <tbody>\n",
              "    <tr>\n",
              "      <th>0</th>\n",
              "      <td>SoftBank</td>\n",
              "      <td>Banking</td>\n",
              "      <td>Tokyo Tokyo Japan</td>\n",
              "      <td>1</td>\n",
              "      <td>8068.0</td>\n",
              "      <td>For Profit</td>\n",
              "      <td>1.0</td>\n",
              "      <td>246.0</td>\n",
              "      <td>68.0</td>\n",
              "      <td>94.0</td>\n",
              "      <td>1.2</td>\n",
              "    </tr>\n",
              "    <tr>\n",
              "      <th>1</th>\n",
              "      <td>Compass</td>\n",
              "      <td>Marketplace</td>\n",
              "      <td>New York New York United States</td>\n",
              "      <td>2</td>\n",
              "      <td>219.0</td>\n",
              "      <td>For Profit</td>\n",
              "      <td>32.0</td>\n",
              "      <td>0.0</td>\n",
              "      <td>7.0</td>\n",
              "      <td>87.0</td>\n",
              "      <td>5.1</td>\n",
              "    </tr>\n",
              "    <tr>\n",
              "      <th>2</th>\n",
              "      <td>Crowdcube</td>\n",
              "      <td>Business Development</td>\n",
              "      <td>Exeter Devon United Kingdom</td>\n",
              "      <td>3</td>\n",
              "      <td>1280.0</td>\n",
              "      <td>For Profit</td>\n",
              "      <td>9.0</td>\n",
              "      <td>0.0</td>\n",
              "      <td>3.0</td>\n",
              "      <td>30.0</td>\n",
              "      <td>-0.4</td>\n",
              "    </tr>\n",
              "    <tr>\n",
              "      <th>3</th>\n",
              "      <td>Zoom</td>\n",
              "      <td>Collaboration</td>\n",
              "      <td>San Jose California United States</td>\n",
              "      <td>4</td>\n",
              "      <td>2890.0</td>\n",
              "      <td>For Profit</td>\n",
              "      <td>18.0</td>\n",
              "      <td>8.0</td>\n",
              "      <td>11.0</td>\n",
              "      <td>71.0</td>\n",
              "      <td>2.3</td>\n",
              "    </tr>\n",
              "    <tr>\n",
              "      <th>4</th>\n",
              "      <td>Ant Group</td>\n",
              "      <td>Banking</td>\n",
              "      <td>Hangzhou Zhejiang China</td>\n",
              "      <td>5</td>\n",
              "      <td>2351.0</td>\n",
              "      <td>For Profit</td>\n",
              "      <td>15.0</td>\n",
              "      <td>NaN</td>\n",
              "      <td>NaN</td>\n",
              "      <td>13.0</td>\n",
              "      <td>-0.4</td>\n",
              "    </tr>\n",
              "    <tr>\n",
              "      <th>...</th>\n",
              "      <td>...</td>\n",
              "      <td>...</td>\n",
              "      <td>...</td>\n",
              "      <td>...</td>\n",
              "      <td>...</td>\n",
              "      <td>...</td>\n",
              "      <td>...</td>\n",
              "      <td>...</td>\n",
              "      <td>...</td>\n",
              "      <td>...</td>\n",
              "      <td>...</td>\n",
              "    </tr>\n",
              "    <tr>\n",
              "      <th>9994</th>\n",
              "      <td>LYNK Logistics</td>\n",
              "      <td>Logistics</td>\n",
              "      <td>Mylapore Tamil Nadu India</td>\n",
              "      <td>9996</td>\n",
              "      <td>NaN</td>\n",
              "      <td>For Profit</td>\n",
              "      <td>1.0</td>\n",
              "      <td>NaN</td>\n",
              "      <td>NaN</td>\n",
              "      <td>26.0</td>\n",
              "      <td>-0.7</td>\n",
              "    </tr>\n",
              "    <tr>\n",
              "      <th>9995</th>\n",
              "      <td>MyRealTrip</td>\n",
              "      <td>Collaborative Consumption</td>\n",
              "      <td>Seoul Seoul-t'ukpyolsi South Korea</td>\n",
              "      <td>9997</td>\n",
              "      <td>27.0</td>\n",
              "      <td>For Profit</td>\n",
              "      <td>12.0</td>\n",
              "      <td>NaN</td>\n",
              "      <td>NaN</td>\n",
              "      <td>40.0</td>\n",
              "      <td>-0.7</td>\n",
              "    </tr>\n",
              "    <tr>\n",
              "      <th>9996</th>\n",
              "      <td>Till</td>\n",
              "      <td>Financial Services</td>\n",
              "      <td>Alexandria Virginia United States</td>\n",
              "      <td>9998</td>\n",
              "      <td>NaN</td>\n",
              "      <td>For Profit</td>\n",
              "      <td>5.0</td>\n",
              "      <td>NaN</td>\n",
              "      <td>NaN</td>\n",
              "      <td>34.0</td>\n",
              "      <td>-0.1</td>\n",
              "    </tr>\n",
              "    <tr>\n",
              "      <th>9997</th>\n",
              "      <td>Andpad</td>\n",
              "      <td>Apps</td>\n",
              "      <td>Tokyo Tokyo Japan</td>\n",
              "      <td>9999</td>\n",
              "      <td>1.0</td>\n",
              "      <td>For Profit</td>\n",
              "      <td>8.0</td>\n",
              "      <td>NaN</td>\n",
              "      <td>NaN</td>\n",
              "      <td>48.0</td>\n",
              "      <td>-0.2</td>\n",
              "    </tr>\n",
              "    <tr>\n",
              "      <th>9998</th>\n",
              "      <td>Qohash</td>\n",
              "      <td>Cloud Data Services</td>\n",
              "      <td>Quebec Quebec Canada</td>\n",
              "      <td>10000</td>\n",
              "      <td>3.0</td>\n",
              "      <td>For Profit</td>\n",
              "      <td>5.0</td>\n",
              "      <td>1.0</td>\n",
              "      <td>2.0</td>\n",
              "      <td>55.0</td>\n",
              "      <td>6.3</td>\n",
              "    </tr>\n",
              "  </tbody>\n",
              "</table>\n",
              "<p>9999 rows × 11 columns</p>\n",
              "</div>"
            ],
            "text/plain": [
              "     OrganizationName                 Industries  ... ActiveTechCount  TrendScore\n",
              "0            SoftBank                    Banking  ...            94.0         1.2\n",
              "1             Compass                Marketplace  ...            87.0         5.1\n",
              "2           Crowdcube       Business Development  ...            30.0        -0.4\n",
              "3                Zoom              Collaboration  ...            71.0         2.3\n",
              "4           Ant Group                    Banking  ...            13.0        -0.4\n",
              "...               ...                        ...  ...             ...         ...\n",
              "9994   LYNK Logistics                  Logistics  ...            26.0        -0.7\n",
              "9995       MyRealTrip  Collaborative Consumption  ...            40.0        -0.7\n",
              "9996             Till         Financial Services  ...            34.0        -0.1\n",
              "9997           Andpad                       Apps  ...            48.0        -0.2\n",
              "9998           Qohash        Cloud Data Services  ...            55.0         6.3\n",
              "\n",
              "[9999 rows x 11 columns]"
            ]
          },
          "metadata": {
            "tags": []
          },
          "execution_count": 4
        }
      ]
    },
    {
      "cell_type": "markdown",
      "metadata": {
        "id": "cZiK2fxwGz80"
      },
      "source": [
        "# Data Manipulation & Selection\n",
        "Since this analysis focusses on categorizing companies based on broadly two categories ie as **Tech** or as **Non-Tech**.\n",
        "This was done by first identyfying unique Industry category in the dataset and then classifying them as 1 or 0 where 1 signifies a business is Tech while 0 is Non Tech. This will be merged with the above dataset to represent industry types and if it is Tech or not."
      ]
    },
    {
      "cell_type": "code",
      "metadata": {
        "colab": {
          "base_uri": "https://localhost:8080/",
          "height": 419
        },
        "id": "v2Bnw9UiQPau",
        "outputId": "5f452ee6-4ead-4414-a9ee-f27cb1b677c8"
      },
      "source": [
        "df_dic = pd.read_csv(\"https://raw.githubusercontent.com/mihakim2/DMAP490/main/cb_data_dicitonary.csv\")\n",
        "df_dic"
      ],
      "execution_count": null,
      "outputs": [
        {
          "output_type": "execute_result",
          "data": {
            "text/html": [
              "<div>\n",
              "<style scoped>\n",
              "    .dataframe tbody tr th:only-of-type {\n",
              "        vertical-align: middle;\n",
              "    }\n",
              "\n",
              "    .dataframe tbody tr th {\n",
              "        vertical-align: top;\n",
              "    }\n",
              "\n",
              "    .dataframe thead th {\n",
              "        text-align: right;\n",
              "    }\n",
              "</style>\n",
              "<table border=\"1\" class=\"dataframe\">\n",
              "  <thead>\n",
              "    <tr style=\"text-align: right;\">\n",
              "      <th></th>\n",
              "      <th>Industries</th>\n",
              "      <th>Type</th>\n",
              "      <th>Tech</th>\n",
              "    </tr>\n",
              "  </thead>\n",
              "  <tbody>\n",
              "    <tr>\n",
              "      <th>0</th>\n",
              "      <td>Banking</td>\n",
              "      <td>1</td>\n",
              "      <td>0</td>\n",
              "    </tr>\n",
              "    <tr>\n",
              "      <th>1</th>\n",
              "      <td>Marketplace</td>\n",
              "      <td>2</td>\n",
              "      <td>1</td>\n",
              "    </tr>\n",
              "    <tr>\n",
              "      <th>2</th>\n",
              "      <td>Business Development</td>\n",
              "      <td>3</td>\n",
              "      <td>0</td>\n",
              "    </tr>\n",
              "    <tr>\n",
              "      <th>3</th>\n",
              "      <td>Collaboration</td>\n",
              "      <td>4</td>\n",
              "      <td>0</td>\n",
              "    </tr>\n",
              "    <tr>\n",
              "      <th>4</th>\n",
              "      <td>Productivity Tools</td>\n",
              "      <td>5</td>\n",
              "      <td>1</td>\n",
              "    </tr>\n",
              "    <tr>\n",
              "      <th>...</th>\n",
              "      <td>...</td>\n",
              "      <td>...</td>\n",
              "      <td>...</td>\n",
              "    </tr>\n",
              "    <tr>\n",
              "      <th>395</th>\n",
              "      <td>Product Design</td>\n",
              "      <td>396</td>\n",
              "      <td>0</td>\n",
              "    </tr>\n",
              "    <tr>\n",
              "      <th>396</th>\n",
              "      <td>Assisted Living</td>\n",
              "      <td>397</td>\n",
              "      <td>0</td>\n",
              "    </tr>\n",
              "    <tr>\n",
              "      <th>397</th>\n",
              "      <td>Private Social Networking</td>\n",
              "      <td>398</td>\n",
              "      <td>1</td>\n",
              "    </tr>\n",
              "    <tr>\n",
              "      <th>398</th>\n",
              "      <td>Social Media Marketing</td>\n",
              "      <td>399</td>\n",
              "      <td>1</td>\n",
              "    </tr>\n",
              "    <tr>\n",
              "      <th>399</th>\n",
              "      <td>Farmers Market</td>\n",
              "      <td>400</td>\n",
              "      <td>0</td>\n",
              "    </tr>\n",
              "  </tbody>\n",
              "</table>\n",
              "<p>400 rows × 3 columns</p>\n",
              "</div>"
            ],
            "text/plain": [
              "                    Industries  Type  Tech\n",
              "0                      Banking     1     0\n",
              "1                  Marketplace     2     1\n",
              "2         Business Development     3     0\n",
              "3                Collaboration     4     0\n",
              "4           Productivity Tools     5     1\n",
              "..                         ...   ...   ...\n",
              "395             Product Design   396     0\n",
              "396            Assisted Living   397     0\n",
              "397  Private Social Networking   398     1\n",
              "398     Social Media Marketing   399     1\n",
              "399             Farmers Market   400     0\n",
              "\n",
              "[400 rows x 3 columns]"
            ]
          },
          "metadata": {
            "tags": []
          },
          "execution_count": 5
        }
      ]
    },
    {
      "cell_type": "markdown",
      "metadata": {
        "id": "Rp2QxEw7kEye"
      },
      "source": [
        "In order to merge the two dataframes, mapping feature of pandas is used alongside Python dictionaries. There are multiple ways to do it. However, I find this to be easiest."
      ]
    },
    {
      "cell_type": "code",
      "metadata": {
        "colab": {
          "base_uri": "https://localhost:8080/",
          "height": 436
        },
        "id": "naz25mV2QqVi",
        "outputId": "dee30e0d-b95a-41d0-c53c-6840c31f3258"
      },
      "source": [
        "code_dict = dict(zip(df_dic.Industries, df_dic.Type))\n",
        "tech_dict=  dict(zip(df_dic.Industries, df_dic.Tech))\n",
        "\n",
        "#Remap the values of the dataframe\n",
        "df.loc[:,'Ind_type']=df['Industries']\n",
        "df.loc[:,'is_tech']=df['Industries']\n",
        "df[\"Ind_type\"] = df[\"Ind_type\"].map(code_dict)\n",
        "df[\"is_tech\"] = df[\"is_tech\"].map(tech_dict)\n",
        "df"
      ],
      "execution_count": null,
      "outputs": [
        {
          "output_type": "execute_result",
          "data": {
            "text/html": [
              "<div>\n",
              "<style scoped>\n",
              "    .dataframe tbody tr th:only-of-type {\n",
              "        vertical-align: middle;\n",
              "    }\n",
              "\n",
              "    .dataframe tbody tr th {\n",
              "        vertical-align: top;\n",
              "    }\n",
              "\n",
              "    .dataframe thead th {\n",
              "        text-align: right;\n",
              "    }\n",
              "</style>\n",
              "<table border=\"1\" class=\"dataframe\">\n",
              "  <thead>\n",
              "    <tr style=\"text-align: right;\">\n",
              "      <th></th>\n",
              "      <th>OrganizationName</th>\n",
              "      <th>Industries</th>\n",
              "      <th>HeadquartersLocation</th>\n",
              "      <th>CBRank</th>\n",
              "      <th>NumberofArticles</th>\n",
              "      <th>CompanyType</th>\n",
              "      <th>NumberofInvestors</th>\n",
              "      <th>PatentsGranted</th>\n",
              "      <th>TrademarksRegistered</th>\n",
              "      <th>ActiveTechCount</th>\n",
              "      <th>TrendScore</th>\n",
              "      <th>Ind_type</th>\n",
              "      <th>is_tech</th>\n",
              "    </tr>\n",
              "  </thead>\n",
              "  <tbody>\n",
              "    <tr>\n",
              "      <th>0</th>\n",
              "      <td>SoftBank</td>\n",
              "      <td>Banking</td>\n",
              "      <td>Tokyo Tokyo Japan</td>\n",
              "      <td>1</td>\n",
              "      <td>8068.0</td>\n",
              "      <td>For Profit</td>\n",
              "      <td>1.0</td>\n",
              "      <td>246.0</td>\n",
              "      <td>68.0</td>\n",
              "      <td>94.0</td>\n",
              "      <td>1.2</td>\n",
              "      <td>1.0</td>\n",
              "      <td>0.0</td>\n",
              "    </tr>\n",
              "    <tr>\n",
              "      <th>1</th>\n",
              "      <td>Compass</td>\n",
              "      <td>Marketplace</td>\n",
              "      <td>New York New York United States</td>\n",
              "      <td>2</td>\n",
              "      <td>219.0</td>\n",
              "      <td>For Profit</td>\n",
              "      <td>32.0</td>\n",
              "      <td>0.0</td>\n",
              "      <td>7.0</td>\n",
              "      <td>87.0</td>\n",
              "      <td>5.1</td>\n",
              "      <td>2.0</td>\n",
              "      <td>1.0</td>\n",
              "    </tr>\n",
              "    <tr>\n",
              "      <th>2</th>\n",
              "      <td>Crowdcube</td>\n",
              "      <td>Business Development</td>\n",
              "      <td>Exeter Devon United Kingdom</td>\n",
              "      <td>3</td>\n",
              "      <td>1280.0</td>\n",
              "      <td>For Profit</td>\n",
              "      <td>9.0</td>\n",
              "      <td>0.0</td>\n",
              "      <td>3.0</td>\n",
              "      <td>30.0</td>\n",
              "      <td>-0.4</td>\n",
              "      <td>3.0</td>\n",
              "      <td>0.0</td>\n",
              "    </tr>\n",
              "    <tr>\n",
              "      <th>3</th>\n",
              "      <td>Zoom</td>\n",
              "      <td>Collaboration</td>\n",
              "      <td>San Jose California United States</td>\n",
              "      <td>4</td>\n",
              "      <td>2890.0</td>\n",
              "      <td>For Profit</td>\n",
              "      <td>18.0</td>\n",
              "      <td>8.0</td>\n",
              "      <td>11.0</td>\n",
              "      <td>71.0</td>\n",
              "      <td>2.3</td>\n",
              "      <td>4.0</td>\n",
              "      <td>0.0</td>\n",
              "    </tr>\n",
              "    <tr>\n",
              "      <th>4</th>\n",
              "      <td>Ant Group</td>\n",
              "      <td>Banking</td>\n",
              "      <td>Hangzhou Zhejiang China</td>\n",
              "      <td>5</td>\n",
              "      <td>2351.0</td>\n",
              "      <td>For Profit</td>\n",
              "      <td>15.0</td>\n",
              "      <td>NaN</td>\n",
              "      <td>NaN</td>\n",
              "      <td>13.0</td>\n",
              "      <td>-0.4</td>\n",
              "      <td>1.0</td>\n",
              "      <td>0.0</td>\n",
              "    </tr>\n",
              "    <tr>\n",
              "      <th>...</th>\n",
              "      <td>...</td>\n",
              "      <td>...</td>\n",
              "      <td>...</td>\n",
              "      <td>...</td>\n",
              "      <td>...</td>\n",
              "      <td>...</td>\n",
              "      <td>...</td>\n",
              "      <td>...</td>\n",
              "      <td>...</td>\n",
              "      <td>...</td>\n",
              "      <td>...</td>\n",
              "      <td>...</td>\n",
              "      <td>...</td>\n",
              "    </tr>\n",
              "    <tr>\n",
              "      <th>9994</th>\n",
              "      <td>LYNK Logistics</td>\n",
              "      <td>Logistics</td>\n",
              "      <td>Mylapore Tamil Nadu India</td>\n",
              "      <td>9996</td>\n",
              "      <td>NaN</td>\n",
              "      <td>For Profit</td>\n",
              "      <td>1.0</td>\n",
              "      <td>NaN</td>\n",
              "      <td>NaN</td>\n",
              "      <td>26.0</td>\n",
              "      <td>-0.7</td>\n",
              "      <td>178.0</td>\n",
              "      <td>0.0</td>\n",
              "    </tr>\n",
              "    <tr>\n",
              "      <th>9995</th>\n",
              "      <td>MyRealTrip</td>\n",
              "      <td>Collaborative Consumption</td>\n",
              "      <td>Seoul Seoul-t'ukpyolsi South Korea</td>\n",
              "      <td>9997</td>\n",
              "      <td>27.0</td>\n",
              "      <td>For Profit</td>\n",
              "      <td>12.0</td>\n",
              "      <td>NaN</td>\n",
              "      <td>NaN</td>\n",
              "      <td>40.0</td>\n",
              "      <td>-0.7</td>\n",
              "      <td>143.0</td>\n",
              "      <td>0.0</td>\n",
              "    </tr>\n",
              "    <tr>\n",
              "      <th>9996</th>\n",
              "      <td>Till</td>\n",
              "      <td>Financial Services</td>\n",
              "      <td>Alexandria Virginia United States</td>\n",
              "      <td>9998</td>\n",
              "      <td>NaN</td>\n",
              "      <td>For Profit</td>\n",
              "      <td>5.0</td>\n",
              "      <td>NaN</td>\n",
              "      <td>NaN</td>\n",
              "      <td>34.0</td>\n",
              "      <td>-0.1</td>\n",
              "      <td>24.0</td>\n",
              "      <td>0.0</td>\n",
              "    </tr>\n",
              "    <tr>\n",
              "      <th>9997</th>\n",
              "      <td>Andpad</td>\n",
              "      <td>Apps</td>\n",
              "      <td>Tokyo Tokyo Japan</td>\n",
              "      <td>9999</td>\n",
              "      <td>1.0</td>\n",
              "      <td>For Profit</td>\n",
              "      <td>8.0</td>\n",
              "      <td>NaN</td>\n",
              "      <td>NaN</td>\n",
              "      <td>48.0</td>\n",
              "      <td>-0.2</td>\n",
              "      <td>23.0</td>\n",
              "      <td>1.0</td>\n",
              "    </tr>\n",
              "    <tr>\n",
              "      <th>9998</th>\n",
              "      <td>Qohash</td>\n",
              "      <td>Cloud Data Services</td>\n",
              "      <td>Quebec Quebec Canada</td>\n",
              "      <td>10000</td>\n",
              "      <td>3.0</td>\n",
              "      <td>For Profit</td>\n",
              "      <td>5.0</td>\n",
              "      <td>1.0</td>\n",
              "      <td>2.0</td>\n",
              "      <td>55.0</td>\n",
              "      <td>6.3</td>\n",
              "      <td>135.0</td>\n",
              "      <td>1.0</td>\n",
              "    </tr>\n",
              "  </tbody>\n",
              "</table>\n",
              "<p>9999 rows × 13 columns</p>\n",
              "</div>"
            ],
            "text/plain": [
              "     OrganizationName                 Industries  ... Ind_type  is_tech\n",
              "0            SoftBank                    Banking  ...      1.0      0.0\n",
              "1             Compass                Marketplace  ...      2.0      1.0\n",
              "2           Crowdcube       Business Development  ...      3.0      0.0\n",
              "3                Zoom              Collaboration  ...      4.0      0.0\n",
              "4           Ant Group                    Banking  ...      1.0      0.0\n",
              "...               ...                        ...  ...      ...      ...\n",
              "9994   LYNK Logistics                  Logistics  ...    178.0      0.0\n",
              "9995       MyRealTrip  Collaborative Consumption  ...    143.0      0.0\n",
              "9996             Till         Financial Services  ...     24.0      0.0\n",
              "9997           Andpad                       Apps  ...     23.0      1.0\n",
              "9998           Qohash        Cloud Data Services  ...    135.0      1.0\n",
              "\n",
              "[9999 rows x 13 columns]"
            ]
          },
          "metadata": {
            "tags": []
          },
          "execution_count": 6
        }
      ]
    },
    {
      "cell_type": "markdown",
      "metadata": {
        "id": "5DffrlKadrKz"
      },
      "source": [
        "#Data Cleaning\n",
        "Let us check our dataset for any missing values, since these donot add any value to the analysis we will drop the rows with missing values or NaN values."
      ]
    },
    {
      "cell_type": "code",
      "metadata": {
        "colab": {
          "base_uri": "https://localhost:8080/"
        },
        "id": "-MlEATUZed1t",
        "outputId": "49debe4d-a499-4760-b8a3-f95cd033bdc0"
      },
      "source": [
        "df.isna().any()"
      ],
      "execution_count": null,
      "outputs": [
        {
          "output_type": "execute_result",
          "data": {
            "text/plain": [
              "OrganizationName        False\n",
              "Industries               True\n",
              "HeadquartersLocation     True\n",
              "CBRank                  False\n",
              "NumberofArticles         True\n",
              "CompanyType              True\n",
              "NumberofInvestors        True\n",
              "PatentsGranted           True\n",
              "TrademarksRegistered     True\n",
              "ActiveTechCount          True\n",
              "TrendScore              False\n",
              "Ind_type                 True\n",
              "is_tech                  True\n",
              "dtype: bool"
            ]
          },
          "metadata": {
            "tags": []
          },
          "execution_count": 7
        }
      ]
    },
    {
      "cell_type": "markdown",
      "metadata": {
        "id": "2oCpON8AehS5"
      },
      "source": [
        "Dropping missing values"
      ]
    },
    {
      "cell_type": "code",
      "metadata": {
        "colab": {
          "base_uri": "https://localhost:8080/"
        },
        "id": "qVNmSpV7egQN",
        "outputId": "c004e359-8dbc-4249-9984-d1ddeedf108c"
      },
      "source": [
        "print(\"Dataset with missing values\",df.shape)\n",
        "df=df.dropna()\n",
        "print(\"Missing values dropped....\")\n",
        "print(\"After dropping missing values\",df.shape)"
      ],
      "execution_count": null,
      "outputs": [
        {
          "output_type": "stream",
          "text": [
            "Dataset with missing values (9999, 13)\n",
            "Missing values dropped....\n",
            "After dropping missing values (5956, 13)\n"
          ],
          "name": "stdout"
        }
      ]
    },
    {
      "cell_type": "code",
      "metadata": {
        "colab": {
          "base_uri": "https://localhost:8080/",
          "height": 419
        },
        "id": "8FAsG_kooDF6",
        "outputId": "a90f9882-55ac-4c38-dce9-1f22698716a1"
      },
      "source": [
        "df"
      ],
      "execution_count": null,
      "outputs": [
        {
          "output_type": "execute_result",
          "data": {
            "text/html": [
              "<div>\n",
              "<style scoped>\n",
              "    .dataframe tbody tr th:only-of-type {\n",
              "        vertical-align: middle;\n",
              "    }\n",
              "\n",
              "    .dataframe tbody tr th {\n",
              "        vertical-align: top;\n",
              "    }\n",
              "\n",
              "    .dataframe thead th {\n",
              "        text-align: right;\n",
              "    }\n",
              "</style>\n",
              "<table border=\"1\" class=\"dataframe\">\n",
              "  <thead>\n",
              "    <tr style=\"text-align: right;\">\n",
              "      <th></th>\n",
              "      <th>OrganizationName</th>\n",
              "      <th>Industries</th>\n",
              "      <th>HeadquartersLocation</th>\n",
              "      <th>CBRank</th>\n",
              "      <th>NumberofArticles</th>\n",
              "      <th>CompanyType</th>\n",
              "      <th>NumberofInvestors</th>\n",
              "      <th>PatentsGranted</th>\n",
              "      <th>TrademarksRegistered</th>\n",
              "      <th>ActiveTechCount</th>\n",
              "      <th>TrendScore</th>\n",
              "      <th>Ind_type</th>\n",
              "      <th>is_tech</th>\n",
              "    </tr>\n",
              "  </thead>\n",
              "  <tbody>\n",
              "    <tr>\n",
              "      <th>0</th>\n",
              "      <td>SoftBank</td>\n",
              "      <td>Banking</td>\n",
              "      <td>Tokyo Tokyo Japan</td>\n",
              "      <td>1</td>\n",
              "      <td>8068.0</td>\n",
              "      <td>For Profit</td>\n",
              "      <td>1.0</td>\n",
              "      <td>246.0</td>\n",
              "      <td>68.0</td>\n",
              "      <td>94.0</td>\n",
              "      <td>1.2</td>\n",
              "      <td>1.0</td>\n",
              "      <td>0.0</td>\n",
              "    </tr>\n",
              "    <tr>\n",
              "      <th>1</th>\n",
              "      <td>Compass</td>\n",
              "      <td>Marketplace</td>\n",
              "      <td>New York New York United States</td>\n",
              "      <td>2</td>\n",
              "      <td>219.0</td>\n",
              "      <td>For Profit</td>\n",
              "      <td>32.0</td>\n",
              "      <td>0.0</td>\n",
              "      <td>7.0</td>\n",
              "      <td>87.0</td>\n",
              "      <td>5.1</td>\n",
              "      <td>2.0</td>\n",
              "      <td>1.0</td>\n",
              "    </tr>\n",
              "    <tr>\n",
              "      <th>2</th>\n",
              "      <td>Crowdcube</td>\n",
              "      <td>Business Development</td>\n",
              "      <td>Exeter Devon United Kingdom</td>\n",
              "      <td>3</td>\n",
              "      <td>1280.0</td>\n",
              "      <td>For Profit</td>\n",
              "      <td>9.0</td>\n",
              "      <td>0.0</td>\n",
              "      <td>3.0</td>\n",
              "      <td>30.0</td>\n",
              "      <td>-0.4</td>\n",
              "      <td>3.0</td>\n",
              "      <td>0.0</td>\n",
              "    </tr>\n",
              "    <tr>\n",
              "      <th>3</th>\n",
              "      <td>Zoom</td>\n",
              "      <td>Collaboration</td>\n",
              "      <td>San Jose California United States</td>\n",
              "      <td>4</td>\n",
              "      <td>2890.0</td>\n",
              "      <td>For Profit</td>\n",
              "      <td>18.0</td>\n",
              "      <td>8.0</td>\n",
              "      <td>11.0</td>\n",
              "      <td>71.0</td>\n",
              "      <td>2.3</td>\n",
              "      <td>4.0</td>\n",
              "      <td>0.0</td>\n",
              "    </tr>\n",
              "    <tr>\n",
              "      <th>5</th>\n",
              "      <td>Calendly</td>\n",
              "      <td>Productivity Tools</td>\n",
              "      <td>Atlanta Georgia United States</td>\n",
              "      <td>6</td>\n",
              "      <td>37.0</td>\n",
              "      <td>For Profit</td>\n",
              "      <td>3.0</td>\n",
              "      <td>0.0</td>\n",
              "      <td>2.0</td>\n",
              "      <td>45.0</td>\n",
              "      <td>9.3</td>\n",
              "      <td>5.0</td>\n",
              "      <td>1.0</td>\n",
              "    </tr>\n",
              "    <tr>\n",
              "      <th>...</th>\n",
              "      <td>...</td>\n",
              "      <td>...</td>\n",
              "      <td>...</td>\n",
              "      <td>...</td>\n",
              "      <td>...</td>\n",
              "      <td>...</td>\n",
              "      <td>...</td>\n",
              "      <td>...</td>\n",
              "      <td>...</td>\n",
              "      <td>...</td>\n",
              "      <td>...</td>\n",
              "      <td>...</td>\n",
              "      <td>...</td>\n",
              "    </tr>\n",
              "    <tr>\n",
              "      <th>9990</th>\n",
              "      <td>Caremerge</td>\n",
              "      <td>Elderly</td>\n",
              "      <td>Chicago Illinois United States</td>\n",
              "      <td>9992</td>\n",
              "      <td>27.0</td>\n",
              "      <td>For Profit</td>\n",
              "      <td>8.0</td>\n",
              "      <td>0.0</td>\n",
              "      <td>1.0</td>\n",
              "      <td>71.0</td>\n",
              "      <td>-0.1</td>\n",
              "      <td>363.0</td>\n",
              "      <td>0.0</td>\n",
              "    </tr>\n",
              "    <tr>\n",
              "      <th>9991</th>\n",
              "      <td>Zycada</td>\n",
              "      <td>B2B</td>\n",
              "      <td>San Jose California United States</td>\n",
              "      <td>9993</td>\n",
              "      <td>1.0</td>\n",
              "      <td>For Profit</td>\n",
              "      <td>7.0</td>\n",
              "      <td>7.0</td>\n",
              "      <td>0.0</td>\n",
              "      <td>41.0</td>\n",
              "      <td>-0.3</td>\n",
              "      <td>77.0</td>\n",
              "      <td>0.0</td>\n",
              "    </tr>\n",
              "    <tr>\n",
              "      <th>9992</th>\n",
              "      <td>Arena Pharmaceuticals</td>\n",
              "      <td>Biotechnology</td>\n",
              "      <td>San Diego California United States</td>\n",
              "      <td>9994</td>\n",
              "      <td>181.0</td>\n",
              "      <td>For Profit</td>\n",
              "      <td>2.0</td>\n",
              "      <td>317.0</td>\n",
              "      <td>31.0</td>\n",
              "      <td>38.0</td>\n",
              "      <td>-4.7</td>\n",
              "      <td>40.0</td>\n",
              "      <td>1.0</td>\n",
              "    </tr>\n",
              "    <tr>\n",
              "      <th>9993</th>\n",
              "      <td>Prevalent Networks</td>\n",
              "      <td>Information Services</td>\n",
              "      <td>Warren New Jersey United States</td>\n",
              "      <td>9995</td>\n",
              "      <td>3.0</td>\n",
              "      <td>For Profit</td>\n",
              "      <td>3.0</td>\n",
              "      <td>0.0</td>\n",
              "      <td>2.0</td>\n",
              "      <td>40.0</td>\n",
              "      <td>-0.7</td>\n",
              "      <td>130.0</td>\n",
              "      <td>1.0</td>\n",
              "    </tr>\n",
              "    <tr>\n",
              "      <th>9998</th>\n",
              "      <td>Qohash</td>\n",
              "      <td>Cloud Data Services</td>\n",
              "      <td>Quebec Quebec Canada</td>\n",
              "      <td>10000</td>\n",
              "      <td>3.0</td>\n",
              "      <td>For Profit</td>\n",
              "      <td>5.0</td>\n",
              "      <td>1.0</td>\n",
              "      <td>2.0</td>\n",
              "      <td>55.0</td>\n",
              "      <td>6.3</td>\n",
              "      <td>135.0</td>\n",
              "      <td>1.0</td>\n",
              "    </tr>\n",
              "  </tbody>\n",
              "</table>\n",
              "<p>5956 rows × 13 columns</p>\n",
              "</div>"
            ],
            "text/plain": [
              "           OrganizationName            Industries  ... Ind_type  is_tech\n",
              "0                  SoftBank               Banking  ...      1.0      0.0\n",
              "1                   Compass           Marketplace  ...      2.0      1.0\n",
              "2                 Crowdcube  Business Development  ...      3.0      0.0\n",
              "3                      Zoom         Collaboration  ...      4.0      0.0\n",
              "5                  Calendly    Productivity Tools  ...      5.0      1.0\n",
              "...                     ...                   ...  ...      ...      ...\n",
              "9990              Caremerge               Elderly  ...    363.0      0.0\n",
              "9991                 Zycada                   B2B  ...     77.0      0.0\n",
              "9992  Arena Pharmaceuticals         Biotechnology  ...     40.0      1.0\n",
              "9993     Prevalent Networks  Information Services  ...    130.0      1.0\n",
              "9998                 Qohash   Cloud Data Services  ...    135.0      1.0\n",
              "\n",
              "[5956 rows x 13 columns]"
            ]
          },
          "metadata": {
            "tags": []
          },
          "execution_count": 9
        }
      ]
    },
    {
      "cell_type": "markdown",
      "metadata": {
        "id": "kF65LRtgA0E6"
      },
      "source": [
        "**This looks Much Better!**"
      ]
    },
    {
      "cell_type": "markdown",
      "metadata": {
        "id": "JOtaLDb6_2W_"
      },
      "source": [
        "#Data Visualization\n",
        "We can see below among that in the dataset Analytics, AI and Biotechnology are among the categories of Industires with most companies listed. \n",
        "(Hover over the bar to display category)"
      ]
    },
    {
      "cell_type": "code",
      "metadata": {
        "colab": {
          "base_uri": "https://localhost:8080/",
          "height": 542
        },
        "id": "uCtcXJrBQ5OJ",
        "outputId": "edbfc357-ff7f-418b-99be-e8efffa7fb72"
      },
      "source": [
        "import plotly.express as px\n",
        "fig = px.bar(df, x=df['Industries'])\n",
        "fig.show()"
      ],
      "execution_count": null,
      "outputs": [
        {
          "output_type": "display_data",
          "data": {
            "text/html": [
              "<html>\n",
              "<head><meta charset=\"utf-8\" /></head>\n",
              "<body>\n",
              "    <div>\n",
              "            <script src=\"https://cdnjs.cloudflare.com/ajax/libs/mathjax/2.7.5/MathJax.js?config=TeX-AMS-MML_SVG\"></script><script type=\"text/javascript\">if (window.MathJax) {MathJax.Hub.Config({SVG: {font: \"STIX-Web\"}});}</script>\n",
              "                <script type=\"text/javascript\">window.PlotlyConfig = {MathJaxConfig: 'local'};</script>\n",
              "        <script src=\"https://cdn.plot.ly/plotly-latest.min.js\"></script>    \n",
              "            <div id=\"48a5a53c-9600-41ff-8873-717d502d39c9\" class=\"plotly-graph-div\" style=\"height:525px; width:100%;\"></div>\n",
              "            <script type=\"text/javascript\">\n",
              "                \n",
              "                    window.PLOTLYENV=window.PLOTLYENV || {};\n",
              "                    \n",
              "                if (document.getElementById(\"48a5a53c-9600-41ff-8873-717d502d39c9\")) {\n",
              "                    Plotly.newPlot(\n",
              "                        '48a5a53c-9600-41ff-8873-717d502d39c9',\n",
              "                        [{\"alignmentgroup\": \"True\", \"hoverlabel\": {\"namelength\": 0}, \"hovertemplate\": \"Industries=%{x}\", \"legendgroup\": \"\", \"marker\": {\"color\": \"#636efa\"}, \"name\": \"\", \"offsetgroup\": \"\", \"orientation\": \"v\", \"showlegend\": false, \"textposition\": \"auto\", \"type\": \"bar\", \"x\": [\"Banking\", \"Marketplace\", \"Business Development\", \"Collaboration\", \"Productivity Tools\", \"Artificial Intelligence\", \"E-Commerce\", \"Angel Investment\", \"FinTech\", \"Health Care\", \"Digital Entertainment\", \"Analytics\", \"Electronics\", \"Corporate Training\", \"Consumer\", \"Food Delivery\", \"Banking\", \"Enterprise Software\", \"Delivery\", \"Apps\", \"Crowdsourcing\", \"E-Learning\", \"Mobile Apps\", \"Coworking\", \"Developer APIs\", \"CRM\", \"Advertising Platforms\", \"E-Learning\", \"Developer Platform\", \"Cycling\", \"Debt Collections\", \"Social Media\", \"Banking\", \"Artificial Intelligence\", \"E-Commerce\", \"Blockchain\", \"Internet\", \"Biotechnology\", \"Banking\", \"Finance\", \"Blogging Platforms\", \"Biotechnology\", \"Energy Efficiency\", \"Cryptocurrency\", \"Finance\", \"Mobile\", \"Biotechnology\", \"Automotive\", \"Food Delivery\", \"Banking\", \"Automotive\", \"Consumer Lending\", \"Finance\", \"Analytics\", \"Aerospace\", \"Education\", \"Analytics\", \"Analytics\", \"Advertising\", \"E-Learning\", \"Association\", \"Gaming\", \"Fantasy Sports\", \"Artificial Intelligence\", \"Cloud Infrastructure\", \"Asset Management\", \"Internet\", \"Finance\", \"Automotive\", \"Computer\", \"Artificial Intelligence\", \"E-Commerce\", \"E-Learning\", \"Cloud Computing\", \"E-Commerce Platforms\", \"Analytics\", \"Banking\", \"Advanced Materials\", \"Enterprise Software\", \"Aerospace\", \"3D Technology\", \"Artificial Intelligence\", \"Analytics\", \"E-Commerce\", \"Finance\", \"Marketplace\", \"Biotechnology\", \"Analytics\", \"Automotive\", \"Artificial Intelligence\", \"Amusement Park and Arcade\", \"Internet\", \"Collaboration\", \"Enterprise Software\", \"Content\", \"Consumer Electronics\", \"Banking\", \"Finance\", \"Employee Benefits\", \"EdTech\", \"Artificial Intelligence\", \"Application Performance Management\", \"Apps\", \"Augmented Reality\", \"Compliance\", \"Analytics\", \"Commercial Lending\", \"E-Commerce\", \"Commercial Insurance\", \"Health Care\", \"E-Learning\", \"Finance\", \"Agriculture\", \"Advertising\", \"Information Technology\", \"E-Commerce\", \"Consumer Electronics\", \"Apps\", \"Internet\", \"Aerospace\", \"Consumer Goods\", \"3D Printing\", \"Artificial Intelligence\", \"Analytics\", \"Credit Cards\", \"Accounting\", \"FinTech\", \"Computer\", \"Analytics\", \"Bitcoin\", \"Blockchain\", \"E-Commerce\", \"Health Care\", \"Cannabis\", \"Content\", \"Document Management\", \"Artificial Intelligence\", \"Biotechnology\", \"Apps\", \"Advertising\", \"Employee Benefits\", \"Cloud Computing\", \"Consumer\", \"Marketplace\", \"Construction\", \"Developer Tools\", \"Artificial Intelligence\", \"Cycling\", \"Fitness\", \"Government\", \"Analytics\", \"Analytics\", \"E-Commerce\", \"Collaboration\", \"Cloud Computing\", \"Beauty\", \"Artificial Intelligence\", \"E-Commerce\", \"Electronics\", \"Apps\", \"File Sharing\", \"Communities\", \"Clinical Trials\", \"Embedded Systems\", \"Artificial Intelligence\", \"Cloud Computing\", \"Advertising Platforms\", \"Finance\", \"Crowdfunding\", \"Augmented Reality\", \"Biotechnology\", \"E-Commerce Platforms\", \"Automotive\", \"Artificial Intelligence\", \"B2B\", \"Credit Cards\", \"Analytics\", \"Asset Management\", \"Consumer\", \"Blockchain\", \"Artificial Intelligence\", \"FinTech\", \"Concerts\", \"Apps\", \"Ad Server\", \"Advertising\", \"Health Care\", \"Artificial Intelligence\", \"Bitcoin\", \"Baby\", \"Cloud Infrastructure\", \"Grocery\", \"E-Commerce\", \"Food Processing\", \"Artificial Intelligence\", \"Gambling\", \"Artificial Intelligence\", \"Health Care\", \"Audio\", \"Career Planning\", \"Biopharma\", \"Food and Beverage\", \"Media and Entertainment\", \"B2B\", \"Business Development\", \"Application Specific Integrated Circuit (ASIC)\", \"Commercial Lending\", \"Information Technology\", \"E-Learning\", \"Apps\", \"Health Care\", \"3D Printing\", \"Biotechnology\", \"Financial Services\", \"Artificial Intelligence\", \"Artificial Intelligence\", \"Cloud Management\", \"Digital Media\", \"Dating\", \"Advertising Platforms\", \"Artificial Intelligence\", \"Cloud Security\", \"Financial Services\", \"Delivery\", \"Biometrics\", \"CRM\", \"Beauty\", \"E-Commerce\", \"Cloud Computing\", \"Banking\", \"Freelance\", \"Cloud Computing\", \"Cloud Security\", \"Data Center\", \"Apps\", \"Internet\", \"Banking\", \"Banking\", \"Delivery\", \"Asset Management\", \"Analytics\", \"Mobile\", \"Consumer Software\", \"Courier Service\", \"Biotechnology\", \"Collaboration\", \"Artificial Intelligence\", \"Cyber Security\", \"Asset Management\", \"Analytics\", \"Biotechnology\", \"Cloud Computing\", \"Consumer Reviews\", \"FinTech\", \"Enterprise Software\", \"Automotive\", \"Consumer\", \"Asset Management\", \"Internet of Things\", \"Financial Services\", \"Analytics\", \"Developer APIs\", \"Business Intelligence\", \"CleanTech\", \"Developer Tools\", \"Media and Entertainment\", \"Accounting\", \"Cloud Security\", \"Analytics\", \"Artificial Intelligence\", \"Energy\", \"Mobile Apps\", \"Biotechnology\", \"Aerospace\", \"Blogging Platforms\", \"Electronics\", \"Content\", \"Information Technology\", \"E-Commerce\", \"Employee Benefits\", \"Data Visualization\", \"Artificial Intelligence\", \"Fitness\", \"Bitcoin\", \"Consumer Electronics\", \"Biotechnology\", \"Analytics\", \"B2B\", \"Analytics\", \"Drones\", \"Enterprise Software\", \"Artificial Intelligence\", \"Biopharma\", \"Analytics\", \"CMS\", \"Digital Media\", \"Advertising\", \"CRM\", \"Data Integration\", \"Apps\", \"Biotechnology\", \"Apps\", \"Artificial Intelligence\", \"Drones\", \"Cloud Computing\", \"Collaboration\", \"Analytics\", \"Collaboration\", \"eSports\", \"CRM\", \"Biotechnology\", \"Enterprise Applications\", \"Fitness\", \"Analytics\", \"Cloud Management\", \"Apps\", \"Consumer Electronics\", \"Banking\", \"Biotechnology\", \"B2B\", \"Bitcoin\", \"Freight Service\", \"Banking\", \"Advertising\", \"Architecture\", \"Artificial Intelligence\", \"Automotive\", \"Apps\", \"Public Transportation\", \"Finance\", \"Cyber Security\", \"Automotive\", \"E-Commerce\", \"Banking\", \"Child Care\", \"Artificial Intelligence\", \"Cloud Data Services\", \"Food and Beverage\", \"Food and Beverage\", \"EdTech\", \"Artificial Intelligence\", \"Advertising\", \"Aerospace\", \"Food and Beverage\", \"Clean Energy\", \"Apps\", \"Fantasy Sports\", \"Finance\", \"Banking\", \"Automotive\", \"Advice\", \"E-Commerce\", \"Cloud Infrastructure\", \"Automotive\", \"Biotechnology\", \"Cyber Security\", \"Analytics\", \"Biopharma\", \"E-Commerce\", \"Analytics\", \"Commercial Lending\", \"Collaboration\", \"Air Transportation\", \"Artificial Intelligence\", \"Accounting\", \"Analytics\", \"Battery\", \"Cloud Computing\", \"Biotechnology\", \"iOS\", \"Blockchain\", \"Hospitality\", \"Collaborative Consumption\", \"Film\", \"E-Learning\", \"Artificial Intelligence\", \"Clean Energy\", \"Apps\", \"Analytics\", \"App Discovery\", \"Advertising\", \"Biotechnology\", \"Billing\", \"Mobile\", \"Artificial Intelligence\", \"Artificial Intelligence\", \"Artificial Intelligence\", \"Artificial Intelligence\", \"Internet\", \"E-Commerce\", \"E-Learning\", \"Biotechnology\", \"Consumer Electronics\", \"Artificial Intelligence\", \"Consumer Electronics\", \"Analytics\", \"Finance\", \"Augmented Reality\", \"Delivery\", \"Gambling\", \"Crowdfunding\", \"Mobile Apps\", \"Computer\", \"Analytics\", \"Artificial Intelligence\", \"Health Care\", \"Finance\", \"E-Commerce\", \"Employee Benefits\", \"Artificial Intelligence\", \"Developer APIs\", \"Biotechnology\", \"Biotechnology\", \"Computer\", \"Enterprise Software\", \"Advertising Platforms\", \"Big Data\", \"Enterprise Software\", \"Analytics\", \"Content\", \"Analytics\", \"Big Data\", \"Artificial Intelligence\", \"Messaging\", \"Cycling\", \"3D Technology\", \"Credit Cards\", \"Content\", \"Aerospace\", \"Enterprise\", \"Analytics\", \"Banking\", \"Health Care\", \"Big Data\", \"Android\", \"Apps\", \"Consumer Software\", \"Financial Services\", \"Health Care\", \"Events\", \"Automotive\", \"Consumer Applications\", \"Collaboration\", \"E-Learning\", \"E-Commerce\", \"Baby\", \"E-Commerce\", \"Banking\", \"Elder Care\", \"3D Printing\", \"Communication Hardware\", \"Artificial Intelligence\", \"Cloud Security\", \"Construction\", \"Analytics\", \"Cloud Data Services\", \"Banking\", \"B2B\", \"Electronics\", \"Database\", \"Artificial Intelligence\", \"Developer Platform\", \"Cloud Infrastructure\", \"Cloud Security\", \"Cloud Data Services\", \"Agriculture\", \"Content Marketing\", \"Cooking\", \"Bitcoin\", \"Health Care\", \"Direct Sales\", \"Health Care\", \"Consumer\", \"Finance\", \"EdTech\", \"Communities\", \"Email\", \"Cloud Management\", \"Beauty\", \"Banking\", \"Education\", \"Consumer Goods\", \"CleanTech\", \"Big Data\", \"3D Technology\", \"Analytics\", \"Biotechnology\", \"Artificial Intelligence\", \"Cyber Security\", \"Banking\", \"Artificial Intelligence\", \"Bitcoin\", \"Financial Services\", \"Biotechnology\", \"Biopharma\", \"Cloud Computing\", \"Children\", \"Enterprise Software\", \"Developer Tools\", \"Electronics\", \"Classifieds\", \"Biotechnology\", \"EdTech\", \"Analytics\", \"Cloud Computing\", \"Food and Beverage\", \"Analytics\", \"College Recruiting\", \"Cyber Security\", \"Agriculture\", \"Finance\", \"Apps\", \"Analytics\", \"Analytics\", \"Electric Vehicle\", \"Credit\", \"Analytics\", \"Computer\", \"Social Media\", \"Artificial Intelligence\", \"Developer Tools\", \"Compliance\", \"Apps\", \"Accounting\", \"Analytics\", \"Financial Exchanges\", \"Media and Entertainment\", \"Aerospace\", \"Battery\", \"Biotechnology\", \"CRM\", \"Electric Vehicle\", \"Advertising\", \"Apps\", \"Beauty\", \"Enterprise Software\", \"Delivery\", \"Broadcasting\", \"E-Commerce\", \"Financial Services\", \"Information Technology\", \"Analytics\", \"Artificial Intelligence\", \"E-Commerce\", \"E-Commerce\", \"Enterprise Software\", \"Consumer Lending\", \"Cloud Security\", \"B2B\", \"Children\", \"Banking\", \"Artificial Intelligence\", \"Advertising\", \"Artificial Intelligence\", \"Delivery\", \"Consumer Research\", \"Big Data\", \"Advertising\", \"Audio\", \"Business Intelligence\", \"Communities\", \"Billing\", \"Graphic Design\", \"3D Technology\", \"Analytics\", \"Artificial Intelligence\", \"Procurement\", \"Delivery\", \"Cloud Computing\", \"Health Care\", \"E-Commerce\", \"Biotechnology\", \"Biopharma\", \"Advertising\", \"Computer\", \"Cloud Security\", \"Biopharma\", \"Cloud Computing\", \"Computer\", \"Apps\", \"Biotechnology\", \"Delivery\", \"Credit Bureau\", \"Advertising\", \"Bitcoin\", \"Education\", \"Aerospace\", \"Analytics\", \"Business Development\", \"Consumer Electronics\", \"Bioinformatics\", \"Banking\", \"Logistics\", \"Analytics\", \"EdTech\", \"Biopharma\", \"Construction\", \"Delivery\", \"3D Technology\", \"Health Care\", \"mHealth\", \"Banking\", \"Cloud Computing\", \"Messaging\", \"Biopharma\", \"Information Services\", \"Analytics\", \"Biotechnology\", \"Bitcoin\", \"Financial Services\", \"Artificial Intelligence\", \"Aerospace\", \"Beauty\", \"Analytics\", \"Adventure Travel\", \"Biotechnology\", \"Cloud Computing\", \"Biotechnology\", \"E-Learning\", \"Automotive\", \"Internet\", \"Analytics\", \"Clean Energy\", \"Credit\", \"Enterprise Software\", \"Apps\", \"Education\", \"Crowdsourcing\", \"Cloud Data Services\", \"Analytics\", \"Cloud Security\", \"Biotechnology\", \"Apps\", \"Fleet Management\", \"Developer APIs\", \"Biotechnology\", \"Law Enforcement\", \"Accounting\", \"Automotive\", \"Cloud Computing\", \"Aerospace\", \"E-Commerce\", \"3D Technology\", \"Art\", \"Biotechnology\", \"E-Commerce\", \"Apps\", \"Biopharma\", \"Finance\", \"Artificial Intelligence\", \"Augmented Reality\", \"Identity Management\", \"Analytics\", \"Air Transportation\", \"Analytics\", \"Biotechnology\", \"Artificial Intelligence\", \"Analytics\", \"Collaboration\", \"Digital Entertainment\", \"E-Commerce\", \"Agriculture\", \"E-Commerce\", \"Artificial Intelligence\", \"Education\", \"Artificial Intelligence\", \"Health Care\", \"Marketplace\", \"Artificial Intelligence\", \"Biopharma\", \"Analytics\", \"Employment\", \"Business Development\", \"Developer Tools\", \"Cloud Security\", \"Biotechnology\", \"Email\", \"Information Technology\", \"Analytics\", \"Apps\", \"Computer\", \"Apps\", \"3D Technology\", \"Call Center\", \"E-Commerce\", \"Blockchain\", \"Corporate Training\", \"Internet\", \"Apps\", \"Event Promotion\", \"Accounting\", \"Brand Marketing\", \"Apps\", \"Artificial Intelligence\", \"Blockchain\", \"Biotechnology\", \"Computer\", \"Automotive\", \"Blogging Platforms\", \"Banking\", \"Apps\", \"Finance\", \"Cannabis\", \"Health Care\", \"Big Data\", \"Analytics\", \"Cloud Data Services\", \"Child Care\", \"Banking\", \"Autonomous Vehicles\", \"E-Commerce\", \"Artificial Intelligence\", \"Artificial Intelligence\", \"Artificial Intelligence\", \"Property Management\", \"Augmented Reality\", \"Analytics\", \"Finance\", \"Broadcasting\", \"Digital Entertainment\", \"Agriculture\", \"Cloud Management\", \"Broadcasting\", \"Financial Services\", \"E-Commerce\", \"Association\", \"Agriculture\", \"Android\", \"Hospitality\", \"Artificial Intelligence\", \"Analytics\", \"Apps\", \"Apps\", \"Big Data\", \"Banking\", \"Enterprise Software\", \"Artificial Intelligence\", \"Mining\", \"Big Data\", \"Artificial Intelligence\", \"Consumer Reviews\", \"Cyber Security\", \"Angel Investment\", \"Apps\", \"Business Intelligence\", \"Credit\", \"Artificial Intelligence\", \"Biotechnology\", \"Food and Beverage\", \"Artificial Intelligence\", \"Biotechnology\", \"Content\", \"Advertising\", \"Fitness\", \"Artificial Intelligence\", \"Customer Service\", \"Biotechnology\", \"Advertising\", \"Health Care\", \"Android\", \"Advertising\", \"Cloud Computing\", \"Analytics\", \"Apps\", \"Artificial Intelligence\", \"Automotive\", \"Beauty\", \"Outsourcing\", \"Cloud Computing\", \"Internet\", \"Infrastructure\", \"Cyber Security\", \"Consumer Goods\", \"Clean Energy\", \"Automotive\", \"Brand Marketing\", \"Fitness\", \"Biotechnology\", \"Internet\", \"Communications Infrastructure\", \"Big Data\", \"Business Travel\", \"Automotive\", \"Developer Tools\", \"Marketplace\", \"Artificial Intelligence\", \"Consumer Goods\", \"Analytics\", \"CMS\", \"Coffee\", \"Developer APIs\", \"Analytics\", \"Health Care\", \"Analytics\", \"Financial Services\", \"FinTech\", \"Cloud Data Services\", \"Agriculture\", \"Cloud Computing\", \"Beauty\", \"Biotechnology\", \"Health Care\", \"Call Center\", \"Cannabis\", \"Accounting\", \"Quantum Computing\", \"Beauty\", \"Billing\", \"Clean Energy\", \"Internet\", \"Advertising\", \"Electric Vehicle\", \"Content\", \"Artificial Intelligence\", \"Professional Services\", \"Artificial Intelligence\", \"Energy\", \"Biotechnology\", \"Mobile\", \"Blockchain\", \"Health Care\", \"Car Sharing\", \"Android\", \"Air Transportation\", \"Advertising\", \"Banking\", \"Freight Service\", \"GovTech\", \"Biotechnology\", \"Corporate Training\", \"Human Resources\", \"Analytics\", \"Aerospace\", \"Biotechnology\", \"Energy Efficiency\", \"Analytics\", \"Health Care\", \"Auto Insurance\", \"Beauty\", \"Big Data\", \"Digital Media\", \"Food and Beverage\", \"Digital Media\", \"Beauty\", \"Analytics\", \"E-Learning\", \"Consumer Applications\", \"Apps\", \"Auto Insurance\", \"Finance\", \"Biotechnology\", \"Consumer Lending\", \"CRM\", \"Blockchain\", \"Biotechnology\", \"Banking\", \"Cloud Infrastructure\", \"Artificial Intelligence\", \"Finance\", \"Automotive\", \"Elder Care\", \"Analytics\", \"Health Care\", \"B2B\", \"Apps\", \"3D Technology\", \"Cryptocurrency\", \"Accounting\", \"Information Services\", \"Analytics\", \"E-Commerce\", \"Coffee\", \"Internet\", \"FinTech\", \"Health Care\", \"Enterprise Software\", \"3D Printing\", \"Cloud Computing\", \"Finance\", \"Employee Benefits\", \"Beauty\", \"E-Learning\", \"Brewing\", \"Analytics\", \"E-Learning\", \"Biotechnology\", \"Hardware\", \"Aerospace\", \"Crowdfunding\", \"Biotechnology\", \"Artificial Intelligence\", \"Banking\", \"Digital Media\", \"Artificial Intelligence\", \"Health Care\", \"Autonomous Vehicles\", \"Consumer\", \"Financial Services\", \"Artificial Intelligence\", \"Big Data\", \"E-Commerce\", \"Delivery\", \"Automotive\", \"Beauty\", \"Cloud Computing\", \"Artificial Intelligence\", \"Enterprise Software\", \"Content\", \"Advertising\", \"Gaming\", \"Drones\", \"FinTech\", \"Industrial Engineering\", \"Biotechnology\", \"Biopharma\", \"Automotive\", \"Artificial Intelligence\", \"Call Center\", \"Analytics\", \"Apps\", \"Internet Radio\", \"Android\", \"Agriculture\", \"3D Technology\", \"Education\", \"Financial Services\", \"Cloud Computing\", \"Biotechnology\", \"Health Care\", \"Cyber Security\", \"Apps\", \"Artificial Intelligence\", \"Artificial Intelligence\", \"Cloud Computing\", \"Advice\", \"Artificial Intelligence\", \"E-Commerce\", \"Artificial Intelligence\", \"Consulting\", \"Manufacturing\", \"Enterprise Software\", \"EdTech\", \"Apps\", \"Collaboration\", \"Business Travel\", \"Banking\", \"Analytics\", \"Retail\", \"Analytics\", \"Artificial Intelligence\", \"Analytics\", \"Finance\", \"Consumer Lending\", \"Finance\", \"B2B\", \"Crowdsourcing\", \"Apps\", \"Advertising\", \"Content Delivery Network\", \"Food and Beverage\", \"Enterprise Software\", \"Finance\", \"Artificial Intelligence\", \"Health Care\", \"Blogging Platforms\", \"Artificial Intelligence\", \"EdTech\", \"Automotive\", \"Gambling\", \"Big Data\", \"Data Center\", \"Apps\", \"Finance\", \"Financial Services\", \"Delivery\", \"Employment\", \"Artificial Intelligence\", \"Artificial Intelligence\", \"Debt Collections\", \"Family\", \"Information Technology\", \"Blogging Platforms\", \"Cannabis\", \"Advertising\", \"Enterprise Software\", \"B2B\", \"Automotive\", \"Advertising\", \"Enterprise\", \"Content\", \"Automotive\", \"Computer\", \"Contact Management\", \"Artificial Intelligence\", \"Biopharma\", \"Fitness\", \"E-Commerce\", \"Business Information Systems\", \"Furniture\", \"Consumer\", \"Analytics\", \"Credit\", \"eSports\", \"Beauty\", \"E-Learning\", \"Digital Media\", \"E-Commerce\", \"Energy Management\", \"Cloud Security\", \"Artificial Intelligence\", \"Artificial Intelligence\", \"Health Care\", \"Finance\", \"Artificial Intelligence\", \"Artificial Intelligence\", \"Cyber Security\", \"Information Technology\", \"Internet\", \"Banking\", \"Digital Entertainment\", \"Industrial Design\", \"Mobile\", \"Energy\", \"Audio\", \"Advertising\", \"Banking\", \"Big Data\", \"Enterprise Software\", \"Cloud Computing\", \"Biotechnology\", \"Health Care\", \"Clean Energy\", \"Consumer\", \"Cloud Infrastructure\", \"Apps\", \"Cryptocurrency\", \"Financial Services\", \"Artificial Intelligence\", \"Enterprise Software\", \"Cloud Data Services\", \"Email Marketing\", \"Artificial Intelligence\", \"Digital Marketing\", \"Apps\", \"Financial Services\", \"Blockchain\", \"Analytics\", \"E-Commerce\", \"Biotechnology\", \"Cloud Computing\", \"3D Technology\", \"Information Services\", \"Digital Media\", \"Health Care\", \"Analytics\", \"Analytics\", \"Collaboration\", \"Banking\", \"Apps\", \"Architecture\", \"Android\", \"Bitcoin\", \"Biopharma\", \"3D Printing\", \"Big Data\", \"Compliance\", \"Biotechnology\", \"Analytics\", \"Finance\", \"Car Sharing\", \"Apps\", \"Agriculture\", \"App Marketing\", \"Financial Services\", \"Aerospace\", \"Consumer Goods\", \"Apps\", \"Biotechnology\", \"E-Commerce\", \"Education\", \"Biotechnology\", \"Apps\", \"Analytics\", \"Apps\", \"Communities\", \"Innovation Management\", \"Application Performance Management\", \"Health Care\", \"Health Care\", \"Cloud Computing\", \"Health Care\", \"Battery\", \"Big Data\", \"Enterprise Resource Planning (ERP)\", \"FinTech\", \"Construction\", \"Enterprise Software\", \"Content Creators\", \"Biotechnology\", \"Manufacturing\", \"Artificial Intelligence\", \"E-Commerce\", \"E-Commerce\", \"Accounting\", \"Enterprise Software\", \"E-Commerce\", \"Biotechnology\", \"Accounting\", \"Android\", \"Gamification\", \"Consumer\", \"Internet\", \"Consumer Goods\", \"Apps\", \"Email\", \"Analytics\", \"Financial Services\", \"Children\", \"Finance\", \"Blockchain\", \"Apps\", \"Apps\", \"Apps\", \"Apps\", \"Digital Media\", \"Enterprise Software\", \"Biotechnology\", \"Banking\", \"3D Printing\", \"Aerospace\", \"Aerospace\", \"Analytics\", \"Asset Management\", \"Consumer Electronics\", \"Artificial Intelligence\", \"Agriculture\", \"Artificial Intelligence\", \"Auctions\", \"Identity Management\", \"Automotive\", \"E-Commerce\", \"Beauty\", \"Finance\", \"Building Material\", \"Cyber Security\", \"Apps\", \"Advertising\", \"Consumer Goods\", \"Construction\", \"Fitness\", \"Business Information Systems\", \"B2B\", \"E-Commerce\", \"Information Technology\", \"Analytics\", \"Automotive\", \"Communications Infrastructure\", \"E-Commerce\", \"Health Care\", \"Analytics\", \"Apps\", \"Automotive\", \"Consulting\", \"Cloud Infrastructure\", \"Artificial Intelligence\", \"Beauty\", \"Analytics\", \"Cloud Computing\", \"Credit\", \"E-Commerce\", \"Artificial Intelligence\", \"Electric Vehicle\", \"Big Data\", \"Automotive\", \"Advertising\", \"Analytics\", \"Content\", \"Consumer Electronics\", \"Artificial Intelligence\", \"Accounting\", \"Analytics\", \"Call Center\", \"Artificial Intelligence\", \"Analytics\", \"E-Learning\", \"Artificial Intelligence\", \"Health Diagnostics\", \"Enterprise Resource Planning (ERP)\", \"Computer\", \"Analytics\", \"Accounting\", \"Blockchain\", \"Analytics\", \"Financial Services\", \"Biopharma\", \"Enterprise Software\", \"Biotechnology\", \"Cryptocurrency\", \"E-Commerce\", \"Human Resources\", \"E-Commerce\", \"Apps\", \"Cloud Computing\", \"Chemical Engineering\", \"Artificial Intelligence\", \"Credit\", \"Finance\", \"Bitcoin\", \"Energy\", \"E-Commerce\", \"Information Services\", \"FinTech\", \"Analytics\", \"Procurement\", \"E-Commerce\", \"Health Care\", \"Employment\", \"Cyber Security\", \"Apps\", \"Big Data\", \"B2B\", \"Humanitarian\", \"Biopharma\", \"E-Commerce\", \"Corporate Training\", \"3D Printing\", \"Finance\", \"Automotive\", \"Oil and Gas\", \"Fertility\", \"Analytics\", \"Biotechnology\", \"Collaboration\", \"Biotechnology\", \"Food and Beverage\", \"eSports\", \"Publishing\", \"Analytics\", \"Blockchain\", \"Cloud Computing\", \"Digital Entertainment\", \"Internet\", \"Cooking\", \"Logistics\", \"Banking\", \"Banking\", \"Mobile\", \"Aerospace\", \"Collaboration\", \"Health Care\", \"Alternative Medicine\", \"Asset Management\", \"Enterprise Software\", \"Analytics\", \"Finance\", \"Computer\", \"Cyber Security\", \"Information Services\", \"Apps\", \"E-Commerce\", \"Finance\", \"Health Care\", \"Analytics\", \"Artificial Intelligence\", \"Publishing\", \"Financial Services\", \"3D Printing\", \"Consumer Electronics\", \"E-Commerce\", \"3D Printing\", \"Beauty\", \"Financial Exchanges\", \"Mobile Apps\", \"Health Care\", \"Analytics\", \"Automotive\", \"Artificial Intelligence\", \"Communications Infrastructure\", \"Application Performance Management\", \"B2B\", \"B2B\", \"Biotechnology\", \"Employee Benefits\", \"A/B Testing\", \"Consumer Electronics\", \"Biotechnology\", \"Blockchain\", \"E-Commerce\", \"Analytics\", \"Biotechnology\", \"Apps\", \"E-Learning\", \"Cyber Security\", \"Cloud Infrastructure\", \"Advertising\", \"Analytics\", \"Customer Service\", \"Cyber Security\", \"Affiliate Marketing\", \"Banking\", \"Bitcoin\", \"Cyber Security\", \"Cloud Data Services\", \"Advertising\", \"Cyber Security\", \"Mobile\", \"FinTech\", \"Agriculture\", \"Project Management\", \"Finance\", \"Cloud Computing\", \"Compliance\", \"Cloud Computing\", \"EdTech\", \"Analytics\", \"Health Care\", \"Artificial Intelligence\", \"Finance\", \"B2B\", \"Analytics\", \"Automotive\", \"Enterprise Software\", \"Billing\", \"CleanTech\", \"Artificial Intelligence\", \"Analytics\", \"Software\", \"Financial Services\", \"Consulting\", \"Commercial\", \"Commercial\", \"Electronic Health Record (EHR)\", \"Enterprise Software\", \"Biotechnology\", \"E-Commerce\", \"Biotechnology\", \"Artificial Intelligence\", \"Health Care\", \"E-Learning\", \"Business Intelligence\", \"Automotive\", \"Apps\", \"Facility Management\", \"Consumer\", \"Apps\", \"Cyber Security\", \"Cyber Security\", \"Enterprise Software\", \"Agriculture\", \"Electronics\", \"Artificial Intelligence\", \"Analytics\", \"Computer\", \"Cloud Infrastructure\", \"Aerospace\", \"Advertising\", \"Information and Communications Technology (ICT)\", \"E-Commerce\", \"Biotechnology\", \"Home Services\", \"Logistics\", \"Analytics\", \"E-Commerce\", \"Automotive\", \"Delivery\", \"Ad Exchange\", \"Energy\", \"Online Auctions\", \"Apps\", \"Artificial Intelligence\", \"E-Commerce\", \"B2B\", \"FinTech\", \"Collaboration\", \"Advertising\", \"Apps\", \"FinTech\", \"Artificial Intelligence\", \"Analytics\", \"Computer\", \"Construction\", \"Beauty\", \"Biotechnology\", \"Cyber Security\", \"E-Commerce\", \"Health Care\", \"Advertising Platforms\", \"E-Commerce\", \"Artificial Intelligence\", \"Artificial Intelligence\", \"Advanced Materials\", \"Cloud Computing\", \"Data Visualization\", \"Customer Service\", \"Advertising\", \"Clean Energy\", \"Banking\", \"Accounting\", \"B2B\", \"Consumer Applications\", \"E-Commerce\", \"Cloud Computing\", \"Artificial Intelligence\", \"Analytics\", \"Biotechnology\", \"Analytics\", \"Cannabis\", \"Analytics\", \"Cloud Computing\", \"Journalism\", \"Digital Media\", \"E-Commerce\", \"Enterprise Software\", \"Analytics\", \"Analytics\", \"Aerospace\", \"Consumer Lending\", \"B2B\", \"E-Commerce\", \"Clean Energy\", \"Cloud Security\", \"Media and Entertainment\", \"Hardware\", \"Finance\", \"Biotechnology\", \"Bitcoin\", \"Agriculture\", \"E-Commerce\", \"Collectibles\", \"Artificial Intelligence\", \"Consulting\", \"Biotechnology\", \"Biopharma\", \"Last Mile Transportation\", \"Cloud Computing\", \"Dating\", \"Apps\", \"Internet\", \"Audio\", \"E-Commerce\", \"Analytics\", \"E-Commerce\", \"Advertising\", \"Biopharma\", \"Analytics\", \"E-Commerce\", \"Business Development\", \"Artificial Intelligence\", \"Banking\", \"Biopharma\", \"Asset Management\", \"Cloud Security\", \"Cloud Computing\", \"Internet\", \"Advertising\", \"Consumer Electronics\", \"Health Care\", \"Manufacturing\", \"E-Commerce\", \"Billing\", \"Cloud Computing\", \"Artificial Intelligence\", \"Biotechnology\", \"Artificial Intelligence\", \"E-Commerce\", \"Autonomous Vehicles\", \"B2B\", \"CRM\", \"Financial Services\", \"Analytics\", \"Employee Benefits\", \"Consumer\", \"Energy\", \"Apps\", \"Digital Marketing\", \"Biotechnology\", \"Artificial Intelligence\", \"Artificial Intelligence\", \"E-Commerce\", \"Cloud Security\", \"Internet\", \"Communities\", \"Analytics\", \"Enterprise Software\", \"Consumer Lending\", \"Apps\", \"Aerospace\", \"CleanTech\", \"Artificial Intelligence\", \"Cloud Data Services\", \"Blockchain\", \"Developer APIs\", \"Energy\", \"Delivery Service\", \"Digital Marketing\", \"Communities\", \"Public Transportation\", \"Apps\", \"Clean Energy\", \"Cloud Security\", \"Communications Infrastructure\", \"Biotechnology\", \"B2B\", \"Biotechnology\", \"Hardware\", \"Internet\", \"Apps\", \"E-Commerce\", \"Biotechnology\", \"Digital Marketing\", \"Enterprise Software\", \"Drones\", \"Biotechnology\", \"Analytics\", \"Food and Beverage\", \"Advertising\", \"Delivery\", \"E-Commerce\", \"CRM\", \"Business Intelligence\", \"Analytics\", \"Artificial Intelligence\", \"Artificial Intelligence\", \"Apps\", \"Electronic Health Record (EHR)\", \"Enterprise Software\", \"Accounting\", \"Events\", \"Compliance\", \"Food and Beverage\", \"Collaboration\", \"Consumer Electronics\", \"Software\", \"Fitness\", \"E-Learning\", \"Consumer\", \"CleanTech\", \"B2B\", \"Health Care\", \"Agriculture\", \"Blockchain\", \"Business Development\", \"Car Sharing\", \"Artificial Intelligence\", \"Fitness\", \"Communities\", \"Computer\", \"Compliance\", \"Computer\", \"Consumer Electronics\", \"Finance\", \"B2B\", \"B2B\", \"GovTech\", \"Consumer\", \"Business Intelligence\", \"Computer\", \"Computer\", \"Consumer Electronics\", \"Health Care\", \"Electronics\", \"E-Learning\", \"Artificial Intelligence\", \"Cloud Computing\", \"Crowdfunding\", \"Food and Beverage\", \"Customer Service\", \"Big Data\", \"Finance\", \"Artificial Intelligence\", \"3D Printing\", \"Apps\", \"CRM\", \"Analytics\", \"Artificial Intelligence\", \"Financial Services\", \"Consumer Goods\", \"Asset Management\", \"Automotive\", \"Biotechnology\", \"Health Care\", \"Internet\", \"Consumer Software\", \"Automotive\", \"Android\", \"Crowdfunding\", \"Artificial Intelligence\", \"Marketplace\", \"Financial Services\", \"Industrial Automation\", \"Enterprise\", \"Business Development\", \"FinTech\", \"Computer\", \"Cloud Data Services\", \"Logistics\", \"Advertising\", \"Apps\", \"Ad Network\", \"Banking\", \"Fitness\", \"Enterprise Software\", \"Data Integration\", \"Health Diagnostics\", \"Apps\", \"Compliance\", \"Artificial Intelligence\", \"Financial Services\", \"Customer Service\", \"Cannabis\", \"Media and Entertainment\", \"Cyber Security\", \"Biotechnology\", \"Consulting\", \"Banking\", \"Artificial Intelligence\", \"Apps\", \"Analytics\", \"Analytics\", \"Automotive\", \"Software\", \"Banking\", \"Artificial Intelligence\", \"Big Data\", \"Billing\", \"Automotive\", \"Banking\", \"Biopharma\", \"Application Performance Management\", \"Biotechnology\", \"Big Data\", \"Audio\", \"Consulting\", \"Health Care\", \"Employee Benefits\", \"Bioinformatics\", \"Biotechnology\", \"Biotechnology\", \"Apps\", \"Advertising\", \"Health Care\", \"Cyber Security\", \"Business Travel\", \"Apps\", \"E-Commerce\", \"Enterprise Software\", \"Pharmaceutical\", \"Analytics\", \"Biotechnology\", \"Finance\", \"Identity Management\", \"Advertising\", \"Automotive\", \"Apps\", \"E-Commerce\", \"EdTech\", \"Analytics\", \"Apps\", \"Finance\", \"Advertising\", \"Clean Energy\", \"Cloud Computing\", \"Analytics\", \"Cloud Infrastructure\", \"Analytics\", \"Health Care\", \"Fitness\", \"Consumer Electronics\", \"Automotive\", \"Android\", \"Clean Energy\", \"Biotechnology\", \"Information Technology\", \"Consumer\", \"Internet\", \"Aerospace\", \"Biotechnology\", \"Enterprise Software\", \"Artificial Intelligence\", \"Cloud Computing\", \"Consumer Goods\", \"Biopharma\", \"Fitness\", \"Android\", \"Biotechnology\", \"Apps\", \"Artificial Intelligence\", \"Automotive\", \"Battery\", \"Analytics\", \"Artificial Intelligence\", \"Consumer Goods\", \"Big Data\", \"Delivery\", \"Automotive\", \"Automotive\", \"Biotechnology\", \"Enterprise Software\", \"Artificial Intelligence\", \"Commercial Lending\", \"Local\", \"Bitcoin\", \"Health Care\", \"B2B\", \"Finance\", \"Analytics\", \"Banking\", \"Automotive\", \"Media and Entertainment\", \"Commercial Real Estate\", \"Food and Beverage\", \"Artificial Intelligence\", \"Gaming\", \"Advertising\", \"Commercial Real Estate\", \"Financial Exchanges\", \"E-Commerce\", \"Artificial Intelligence\", \"Gaming\", \"Mobile Apps\", \"Cloud Computing\", \"Analytics\", \"Broadcasting\", \"Health Care\", \"EBooks\", \"Cyber Security\", \"Blockchain\", \"Artificial Intelligence\", \"Cloud Computing\", \"E-Commerce\", \"Enterprise Software\", \"Hospitality\", \"Artificial Intelligence\", \"3D Printing\", \"E-Commerce\", \"Compliance\", \"Health Care\", \"Apps\", \"Credit Cards\", \"Analytics\", \"Cloud Data Services\", \"Electronic Health Record (EHR)\", \"Content\", \"E-Commerce\", \"Biotechnology\", \"Education\", \"Cloud Computing\", \"E-Commerce\", \"Risk Management\", \"Cyber Security\", \"Concerts\", \"Food and Beverage\", \"Apps\", \"Digital Media\", \"Delivery\", \"Cloud Data Services\", \"Internet\", \"Electrical Distribution\", \"Artificial Intelligence\", \"Machinery Manufacturing\", \"Apps\", \"Financial Services\", \"Clean Energy\", \"Collaboration\", \"Electronics\", \"Information Technology\", \"Enterprise Software\", \"E-Commerce\", \"Developer Platform\", \"Agriculture\", \"Gaming\", \"Artificial Intelligence\", \"Health Care\", \"Enterprise Software\", \"Analytics\", \"Big Data\", \"Fashion\", \"Blogging Platforms\", \"Financial Services\", \"Health Care\", \"Big Data\", \"Home Services\", \"Health Care\", \"Finance\", \"Biotechnology\", \"Analytics\", \"Cloud Management\", \"Journalism\", \"Biopharma\", \"Computer\", \"Financial Services\", \"Apps\", \"Cloud Computing\", \"Apps\", \"Employee Benefits\", \"Banking\", \"Consumer\", \"Consumer\", \"Home Health Care\", \"Collaboration\", \"Broadcasting\", \"Cannabis\", \"Internet\", \"B2B\", \"Communities\", \"Auto Insurance\", \"Health Care\", \"Eyewear\", \"Computer\", \"Analytics\", \"Content\", \"Banking\", \"Event Management\", \"Information Technology\", \"Information Technology\", \"Artificial Intelligence\", \"Big Data\", \"Consumer Goods\", \"Analytics\", \"Analytics\", \"Computer\", \"Advertising Platforms\", \"Developer Platform\", \"Human Resources\", \"Artificial Intelligence\", \"Information Technology\", \"Finance\", \"Employee Benefits\", \"Biotechnology\", \"Content\", \"Electronics\", \"Human Resources\", \"Auto Insurance\", \"Automotive\", \"Computer\", \"Artificial Intelligence\", \"E-Commerce\", \"Finance\", \"Accounting\", \"Advanced Materials\", \"Consumer Electronics\", \"Apps\", \"Brand Marketing\", \"Artificial Intelligence\", \"Consumer Goods\", \"Health Care\", \"Car Sharing\", \"Enterprise Software\", \"Blockchain\", \"Analytics\", \"Consumer\", \"Health Care\", \"Developer APIs\", \"Medical\", \"Health Care\", \"Artificial Intelligence\", \"Apps\", \"Apps\", \"Internet\", \"Air Transportation\", \"Aerospace\", \"Advertising\", \"Artificial Intelligence\", \"Agriculture\", \"Communities\", \"Apps\", \"Artificial Intelligence\", \"E-Commerce\", \"Apps\", \"Analytics\", \"Artificial Intelligence\", \"Advertising\", \"Computer\", \"Advanced Materials\", \"Electronics\", \"Biotechnology\", \"Advertising\", \"Cloud Computing\", \"Information Technology\", \"E-Commerce\", \"Big Data\", \"Biotechnology\", \"Diabetes\", \"Cloud Computing\", \"Biotechnology\", \"Artificial Intelligence\", \"Cloud Computing\", \"Finance\", \"Enterprise Software\", \"Beauty\", \"Finance\", \"Analytics\", \"Ediscovery\", \"CMS\", \"Home Improvement\", \"Advertising\", \"Compliance\", \"Software\", \"E-Commerce\", \"Financial Services\", \"Financial Services\", \"Enterprise Software\", \"Information Services\", \"Battery\", \"InsurTech\", \"Consulting\", \"Digital Media\", \"Delivery\", \"Artificial Intelligence\", \"Big Data\", \"Artificial Intelligence\", \"FinTech\", \"Analytics\", \"Electronics\", \"Big Data\", \"Biotechnology\", \"Consumer Electronics\", \"Analytics\", \"Analytics\", \"Construction\", \"Aerospace\", \"Artificial Intelligence\", \"Cyber Security\", \"Analytics\", \"Apps\", \"Computer\", \"Consumer Electronics\", \"Artificial Intelligence\", \"Clean Energy\", \"Health Care\", \"Banking\", \"Collaboration\", \"Artificial Intelligence\", \"Analytics\", \"Accounting\", \"Finance\", \"Business Intelligence\", \"Logistics\", \"Analytics\", \"Advertising\", \"Cloud Computing\", \"Biotechnology\", \"Cloud Security\", \"Subscription Service\", \"Agriculture\", \"Employee Benefits\", \"Employee Benefits\", \"Consumer Goods\", \"Enterprise Software\", \"Analytics\", \"B2B\", \"Advertising\", \"Accounting\", \"Construction\", \"Manufacturing\", \"Big Data\", \"Brand Marketing\", \"Advertising\", \"Business Intelligence\", \"Artificial Intelligence\", \"Information Technology\", \"Audio\", \"Real Estate\", \"Alternative Medicine\", \"Art\", \"Digital Media\", \"Credit Cards\", \"Advertising\", \"Analytics\", \"Enterprise Software\", \"Artificial Intelligence\", \"Health Care\", \"Biotechnology\", \"Health Care\", \"E-Learning\", \"Analytics\", \"Drones\", \"Health Care\", \"Data Center\", \"Advertising\", \"Analytics\", \"Advertising\", \"Health Care\", \"Blockchain\", \"Artificial Intelligence\", \"Hardware\", \"EdTech\", \"Health Care\", \"Cyber Security\", \"Network Hardware\", \"Cloud Data Services\", \"Biotechnology\", \"Artificial Intelligence\", \"E-Commerce\", \"Alternative Medicine\", \"Advanced Materials\", \"Enterprise Software\", \"Information Technology\", \"Apps\", \"Commercial Real Estate\", \"Health Care\", \"Artificial Intelligence\", \"Communities\", \"Digital Marketing\", \"Analytics\", \"Aerospace\", \"Adventure Travel\", \"Collaboration\", \"Analytics\", \"Analytics\", \"Health Care\", \"Financial Services\", \"Gaming\", \"Apps\", \"Employee Benefits\", \"Cloud Security\", \"Analytics\", \"Enterprise Software\", \"eSports\", \"Broadcasting\", \"Finance\", \"Artificial Intelligence\", \"E-Commerce\", \"Analytics\", \"Cyber Security\", \"Compliance\", \"Real Estate\", \"Analytics\", \"Apps\", \"Biotechnology\", \"Banking\", \"Artificial Intelligence\", \"Analytics\", \"Apps\", \"Cloud Computing\", \"Biotechnology\", \"Artificial Intelligence\", \"Biotechnology\", \"CleanTech\", \"Internet\", \"E-Commerce Platforms\", \"Fitness\", \"Communities\", \"Billing\", \"Advertising\", \"Biotechnology\", \"Internet\", \"Consumer Goods\", \"Aerospace\", \"Adventure Travel\", \"Cyber Security\", \"Bitcoin\", \"Baby\", \"Financial Services\", \"Computer\", \"Commercial Real Estate\", \"Cloud Computing\", \"Artificial Intelligence\", \"Real Estate\", \"Fashion\", \"Health Care\", \"Consulting\", \"A/B Testing\", \"Artificial Intelligence\", \"Information Technology\", \"Blockchain\", \"E-Commerce\", \"Consulting\", \"Gaming\", \"Analytics\", \"B2B\", \"Artificial Intelligence\", \"Financial Services\", \"Energy\", \"Browser Extensions\", \"Biopharma\", \"Biotechnology\", \"Biotechnology\", \"Apps\", \"Developer APIs\", \"Advanced Materials\", \"Fertility\", \"Enterprise\", \"Industrial\", \"Food and Beverage\", \"Agriculture\", \"Analytics\", \"Child Care\", \"Analytics\", \"Analytics\", \"Consulting\", \"AgTech\", \"Hospitality\", \"Banking\", \"Android\", \"Advertising\", \"Artificial Intelligence\", \"Artificial Intelligence\", \"Health Care\", \"Hardware\", \"Advertising Platforms\", \"Analytics\", \"Biotechnology\", \"Freight Service\", \"Developer APIs\", \"Information Technology\", \"Data Center\", \"Cloud Security\", \"Enterprise Software\", \"Collaboration\", \"Cloud Computing\", \"Compliance\", \"Biotechnology\", \"Health Care\", \"Analytics\", \"Auto Insurance\", \"Internet\", \"Collaboration\", \"Banking\", \"Financial Services\", \"File Sharing\", \"Advertising\", \"Apps\", \"Cloud Security\", \"Accounting\", \"Cyber Security\", \"Advertising\", \"Call Center\", \"Concerts\", \"Biotechnology\", \"E-Commerce\", \"Health Care\", \"Apps\", \"Apps\", \"Biopharma\", \"Cloud Security\", \"Biotechnology\", \"Apps\", \"Cloud Computing\", \"Compliance\", \"Consulting\", \"Beauty\", \"Collaboration\", \"Artificial Intelligence\", \"E-Commerce\", \"Banking\", \"E-Commerce\", \"Health Care\", \"Analytics\", \"Biotechnology\", \"Mobile\", \"Communities\", \"E-Commerce\", \"Consulting\", \"Billing\", \"Artificial Intelligence\", \"Compliance\", \"SaaS\", \"Gaming\", \"Artificial Intelligence\", \"Broadcasting\", \"Auctions\", \"Agriculture\", \"Freemium\", \"Artificial Intelligence\", \"Health Care\", \"Consumer Lending\", \"Cannabis\", \"Analytics\", \"Financial Services\", \"Consumer\", \"Audio\", \"Health Care\", \"Automotive\", \"E-Commerce\", \"Beauty\", \"Computer\", \"E-Commerce\", \"Cyber Security\", \"Consumer Electronics\", \"E-Learning\", \"Information Services\", \"Health Care\", \"Industrial Automation\", \"Education\", \"Big Data\", \"Internet\", \"EdTech\", \"Advertising\", \"Health Care\", \"Analytics\", \"Health Care\", \"Biotechnology\", \"E-Learning\", \"Digital Media\", \"Events\", \"Business Intelligence\", \"Cloud Computing\", \"Cloud Computing\", \"Office Administration\", \"Analytics\", \"Communities\", \"Biotechnology\", \"Call Center\", \"Search Engine\", \"Artificial Intelligence\", \"Artificial Intelligence\", \"Artificial Intelligence\", \"Cloud Security\", \"Computer\", \"Internet\", \"Automotive\", \"Electric Vehicle\", \"Cloud Data Services\", \"Artificial Intelligence\", \"Automotive\", \"Autonomous Vehicles\", \"Cloud Computing\", \"Business Development\", \"E-Commerce\", \"Artificial Intelligence\", \"Banking\", \"Computer\", \"Consulting\", \"Asset Management\", \"Cloud Infrastructure\", \"Cloud Computing\", \"Developer APIs\", \"Document Management\", \"Internet\", \"E-Commerce\", \"Apps\", \"Analytics\", \"Consumer Electronics\", \"Apps\", \"Broadcasting\", \"Apps\", \"Health Care\", \"Commercial Real Estate\", \"CRM\", \"3D Printing\", \"Cloud Computing\", \"Analytics\", \"Biotechnology\", \"Biotechnology\", \"Security\", \"Biotechnology\", \"Cyber Security\", \"Artificial Intelligence\", \"Communities\", \"Biotechnology\", \"Biotechnology\", \"Artificial Intelligence\", \"Enterprise Software\", \"Business Information Systems\", \"Artificial Intelligence\", \"Cloud Computing\", \"Automotive\", \"E-Commerce\", \"Crowdfunding\", \"Big Data\", \"E-Commerce\", \"Enterprise Software\", \"Finance\", \"Analytics\", \"Augmented Reality\", \"E-Commerce\", \"Agriculture\", \"Food and Beverage\", \"Enterprise Software\", \"Big Data\", \"Aerospace\", \"Gaming\", \"Data Center\", \"Artificial Intelligence\", \"Banking\", \"Banking\", \"Biotechnology\", \"Biotechnology\", \"Artificial Intelligence\", \"Analytics\", \"Cloud Computing\", \"3D Printing\", \"Automotive\", \"Autonomous Vehicles\", \"Enterprise Software\", \"FinTech\", \"Hospitality\", \"Banking\", \"Last Mile Transportation\", \"Apps\", \"Health Care\", \"Apps\", \"Apps\", \"Cyber Security\", \"Banking\", \"E-Commerce\", \"Employee Benefits\", \"Cloud Security\", \"Artificial Intelligence\", \"Beauty\", \"Freight Service\", \"E-Commerce\", \"Analytics\", \"Health Care\", \"Apps\", \"Biotechnology\", \"Accounting\", \"Health Care\", \"Bitcoin\", \"Finance\", \"Advertising Platforms\", \"Artificial Intelligence\", \"E-Commerce\", \"Biotechnology\", \"Advertising Platforms\", \"Casual Games\", \"Analytics\", \"Insurance\", \"CRM\", \"Consumer Electronics\", \"Finance\", \"Advertising\", \"Apps\", \"Cloud Computing\", \"Consumer Goods\", \"Beauty\", \"Internet\", \"E-Commerce\", \"Business Development\", \"Financial Services\", \"Android\", \"Asset Management\", \"Ad Targeting\", \"Collaboration\", \"Analytics\", \"Advertising\", \"B2B\", \"Cloud Computing\", \"Consulting\", \"Collaboration\", \"Sports\", \"Automotive\", \"Food and Beverage\", \"E-Commerce\", \"E-Commerce\", \"Health Care\", \"Financial Services\", \"Machinery Manufacturing\", \"Internet\", \"Ad Network\", \"Broadcasting\", \"Analytics\", \"Automotive\", \"E-Commerce\", \"Enterprise Software\", \"Analytics\", \"Internet\", \"Biotechnology\", \"Consumer Lending\", \"Cloud Management\", \"EdTech\", \"Analytics\", \"Artificial Intelligence\", \"Health Care\", \"Analytics\", \"Advertising\", \"Business Information Systems\", \"Industrial\", \"Business Development\", \"Advertising\", \"Enterprise Software\", \"Analytics\", \"Agriculture\", \"Aerospace\", \"Advertising\", \"Consumer Lending\", \"Analytics\", \"Energy\", \"Digital Entertainment\", \"Advertising\", \"Image Recognition\", \"Apps\", \"Artificial Intelligence\", \"Consumer Applications\", \"Content\", \"Apps\", \"Artificial Intelligence\", \"Cloud Security\", \"Billing\", \"Corporate Training\", \"Artificial Intelligence\", \"Energy\", \"Cloud Computing\", \"Bioinformatics\", \"Diabetes\", \"Analytics\", \"Hardware\", \"Government\", \"Financial Services\", \"Cyber Security\", \"Biotechnology\", \"Artificial Intelligence\", \"Business Intelligence\", \"Advertising\", \"Biotechnology\", \"Blockchain\", \"Analytics\", \"Beauty\", \"Analytics\", \"Human Resources\", \"Artificial Intelligence\", \"E-Commerce\", \"Health Care\", \"Health Care\", \"Hardware\", \"Analytics\", \"Advice\", \"Education\", \"Electronic Health Record (EHR)\", \"Energy\", \"Apps\", \"Analytics\", \"Advice\", \"Apps\", \"Automotive\", \"Digital Media\", \"Big Data\", \"Cryptocurrency\", \"3D Technology\", \"AgTech\", \"Accounting\", \"Apps\", \"E-Commerce\", \"Business Intelligence\", \"Biotechnology\", \"Cloud Data Services\", \"Consumer Lending\", \"Big Data\", \"Information Technology\", \"Health Care\", \"Apps\", \"Advanced Materials\", \"E-Commerce\", \"Biotechnology\", \"Mobile Payments\", \"E-Commerce\", \"Aerospace\", \"Artificial Intelligence\", \"Artificial Intelligence\", \"Agriculture\", \"Apps\", \"Accounting\", \"Collaboration\", \"3D Technology\", \"Analytics\", \"Database\", \"Hardware\", \"B2B\", \"Financial Services\", \"Financial Services\", \"Artificial Intelligence\", \"Ad Exchange\", \"Big Data\", \"Augmented Reality\", \"Apps\", \"Biopharma\", \"Artificial Intelligence\", \"E-Learning\", \"E-Commerce\", \"Ad Targeting\", \"Analytics\", \"Clean Energy\", \"Billing\", \"CleanTech\", \"E-Commerce\", \"Analytics\", \"Banking\", \"Hospitality\", \"Analytics\", \"Consumer Lending\", \"Analytics\", \"Analytics\", \"Artificial Intelligence\", \"Developer APIs\", \"Analytics\", \"B2B\", \"Email\", \"Computer\", \"E-Commerce\", \"E-Commerce\", \"Automotive\", \"Enterprise Resource Planning (ERP)\", \"Apps\", \"Digital Media\", \"Business Intelligence\", \"Communities\", \"Blockchain\", \"Business Information Systems\", \"Accounting\", \"Delivery\", \"Fashion\", \"Dental\", \"Catering\", \"E-Commerce\", \"EdTech\", \"Dental\", \"Information Technology\", \"Analytics\", \"Emergency Medicine\", \"Health Care\", \"Analytics\", \"E-Commerce\", \"E-Commerce\", \"Artificial Intelligence\", \"Beauty\", \"Compliance\", \"Enterprise Software\", \"Broadcasting\", \"3D Technology\", \"Mobile\", \"Delivery\", \"Agriculture\", \"Insurance\", \"Cyber Security\", \"Hardware\", \"Emerging Markets\", \"Biotechnology\", \"Analytics\", \"Artificial Intelligence\", \"Advertising\", \"Business Intelligence\", \"Biopharma\", \"Crowdfunding\", \"Finance\", \"Apps\", \"Biotechnology\", \"Identity Management\", \"FinTech\", \"Autonomous Vehicles\", \"Artificial Intelligence\", \"Health Care\", \"Freight Service\", \"Big Data\", \"Cloud Computing\", \"Apps\", \"Finance\", \"Mobile Apps\", \"Cloud Data Services\", \"Marketing\", \"Aerospace\", \"Artificial Intelligence\", \"Cyber Security\", \"Application Performance Management\", \"Biotechnology\", \"Education\", \"Artificial Intelligence\", \"Analytics\", \"Advertising\", \"Augmented Reality\", \"Internet\", \"Mobile Apps\", \"Hospitality\", \"Bitcoin\", \"Internet\", \"Banking\", \"Communication Hardware\", \"Business Intelligence\", \"Consulting\", \"Artificial Intelligence\", \"Apps\", \"Android\", \"Big Data\", \"Financial Services\", \"Augmented Reality\", \"Consumer Goods\", \"Blockchain\", \"Corporate Training\", \"Hospitality\", \"B2B\", \"Beauty\", \"E-Commerce\", \"Automotive\", \"Analytics\", \"Cloud Management\", \"Artificial Intelligence\", \"Delivery\", \"Cryptocurrency\", \"Finance\", \"Aerospace\", \"Drones\", \"Cloud Data Services\", \"E-Commerce\", \"Aerospace\", \"Human Resources\", \"Advertising\", \"Apps\", \"Analytics\", \"Computer\", \"Biopharma\", \"IT Management\", \"Automotive\", \"Analytics\", \"Bitcoin\", \"Analytics\", \"Enterprise Software\", \"Corporate Training\", \"Hardware\", \"Analytics\", \"Biotechnology\", \"Compliance\", \"Cloud Infrastructure\", \"Biotechnology\", \"Browser Extensions\", \"Analytics\", \"Consumer\", \"Cyber Security\", \"Artificial Intelligence\", \"Artificial Intelligence\", \"Analytics\", \"E-Commerce\", \"E-Commerce\", \"Crowdsourcing\", \"Artificial Intelligence\", \"E-Commerce\", \"Health Care\", \"Fertility\", \"Financial Services\", \"Credit\", \"Cloud Infrastructure\", \"Analytics\", \"Content Creators\", \"Enterprise Software\", \"Biotechnology\", \"Artificial Intelligence\", \"E-Commerce\", \"Advertising\", \"Employment\", \"Computer Vision\", \"Cloud Computing\", \"E-Commerce\", \"Packaging Services\", \"Children\", \"Beauty\", \"Communities\", \"Cyber Security\", \"Digital Entertainment\", \"Advertising\", \"Interior Design\", \"Automotive\", \"Consumer Goods\", \"Communications Infrastructure\", \"Android\", \"Information Technology\", \"E-Commerce\", \"Education\", \"Analytics\", \"Banking\", \"Building Material\", \"Artificial Intelligence\", \"Consumer\", \"Computer\", \"Apps\", \"Cloud Computing\", \"Biotechnology\", \"Compliance\", \"Cyber Security\", \"Analytics\", \"Consumer Electronics\", \"Accounting\", \"Analytics\", \"Analytics\", \"Advertising\", \"Bitcoin\", \"Cloud Security\", \"Personal Health\", \"Application Performance Management\", \"Advertising Platforms\", \"Biotechnology\", \"Artificial Intelligence\", \"Collaboration\", \"Health Care\", \"Artificial Intelligence\", \"Advertising\", \"Biotechnology\", \"Advertising\", \"Biotechnology\", \"Analytics\", \"Biotechnology\", \"Automotive\", \"Energy\", \"E-Commerce\", \"Cyber Security\", \"Collaboration\", \"Analytics\", \"Marketplace\", \"Apps\", \"Banking\", \"Computer\", \"Food and Beverage\", \"Health Care\", \"Artificial Intelligence\", \"Cloud Security\", \"Cyber Security\", \"Digital Entertainment\", \"Media and Entertainment\", \"Analytics\", \"Customer Service\", \"Lead Generation\", \"Analytics\", \"Developer Tools\", \"Blockchain\", \"EdTech\", \"Computer\", \"Apps\", \"Finance\", \"Digital Media\", \"Blockchain\", \"Data Integration\", \"Biotechnology\", \"Logistics\", \"Elder Care\", \"Content\", \"Advanced Materials\", \"Apps\", \"Cyber Security\", \"Biotechnology\", \"Cooking\", \"Developer Tools\", \"Network Security\", \"Cloud Computing\", \"Artificial Intelligence\", \"Computer\", \"Biotechnology\", \"Delivery Service\", \"Mobile\", \"Cloud Management\", \"Analytics\", \"Automotive\", \"Semiconductor\", \"Cyber Security\", \"Biotechnology\", \"Artificial Intelligence\", \"Advertising\", \"Developer APIs\", \"Internet\", \"Biotechnology\", \"Cloud Data Services\", \"E-Commerce\", \"Commercial\", \"Hardware\", \"Real Estate\", \"Health Insurance\", \"Advertising\", \"Analytics\", \"Business Travel\", \"Affiliate Marketing\", \"Banking\", \"Biotechnology\", \"Restaurants\", \"Advertising Platforms\", \"Analytics\", \"Commercial Real Estate\", \"Apps\", \"Health Care\", \"E-Commerce\", \"Biotechnology\", \"Analytics\", \"E-Commerce\", \"Biopharma\", \"E-Learning\", \"E-Commerce\", \"Apps\", \"Consumer Electronics\", \"E-Learning\", \"Health Care\", \"Artificial Intelligence\", \"Cloud Computing\", \"Cyber Security\", \"Analytics\", \"Banking\", \"Aerospace\", \"Cooking\", \"Blockchain\", \"Big Data\", \"Energy\", \"Cyber Security\", \"Agriculture\", \"Biopharma\", \"Advertising Platforms\", \"Catering\", \"Recycling\", \"E-Commerce\", \"Apps\", \"Apps\", \"Finance\", \"Artificial Intelligence\", \"Analytics\", \"Artificial Intelligence\", \"Banking\", \"Enterprise Software\", \"Big Data\", \"Analytics\", \"Electrical Distribution\", \"Financial Services\", \"Cloud Computing\", \"Enterprise Software\", \"Cloud Data Services\", \"Information Technology\", \"Augmented Reality\", \"Delivery\", \"Clean Energy\", \"Apps\", \"Blockchain\", \"Mobile\", \"Bioinformatics\", \"Advertising\", \"Battery\", \"Analytics\", \"Biotechnology\", \"Electronic Health Record (EHR)\", \"Beauty\", \"Biotechnology\", \"Analytics\", \"Customer Service\", \"Analytics\", \"E-Learning\", \"Enterprise Software\", \"Agriculture\", \"Finance\", \"Artificial Intelligence\", \"Hospitality\", \"Analytics\", \"Cloud Infrastructure\", \"B2B\", \"Delivery\", \"Health Care\", \"Cloud Computing\", \"Health Care\", \"Information Technology\", \"Digital Media\", \"CleanTech\", \"Education\", \"E-Commerce\", \"Analytics\", \"Big Data\", \"Apps\", \"Business Intelligence\", \"Hospitality\", \"Agriculture\", \"CRM\", \"Energy\", \"Big Data\", \"Collaboration\", \"Architecture\", \"Banking\", \"Information Technology\", \"Environmental Engineering\", \"Audio\", \"Biotechnology\", \"Analytics\", \"Automotive\", \"EdTech\", \"Real Estate\", \"Computer\", \"E-Commerce\", \"Collaboration\", \"Communities\", \"Biotechnology\", \"Consumer Electronics\", \"Data Integration\", \"Events\", \"Child Care\", \"Advertising\", \"Building Material\", \"Enterprise Software\", \"Biotechnology\", \"Analytics\", \"E-Commerce\", \"Analytics\", \"Advertising\", \"Enterprise Software\", \"Marketplace\", \"Advertising\", \"E-Commerce\", \"Banking\", \"Cloud Data Services\", \"Cloud Data Services\", \"Banking\", \"Environmental Engineering\", \"Advertising\", \"Cloud Data Services\", \"Fashion\", \"Developer APIs\", \"Health Care\", \"Apps\", \"Artificial Intelligence\", \"Analytics\", \"Consumer Lending\", \"Biotechnology\", \"Cyber Security\", \"Knowledge Management\", \"Biotechnology\", \"Accounting\", \"Advertising\", \"Delivery\", \"Health Care\", \"Continuing Education\", \"Health Care\", \"Content\", \"Commercial Real Estate\", \"Internet\", \"Fitness\", \"Blockchain\", \"Biotechnology\", \"Audiobooks\", \"Gaming\", \"Geospatial\", \"Cloud Computing\", \"B2B\", \"Enterprise Software\", \"Accounting\", \"3D Printing\", \"Advertising\", \"Artificial Intelligence\", \"Apps\", \"Internet\", \"Cannabis\", \"Advertising\", \"Artificial Intelligence\", \"Artificial Intelligence\", \"Automotive\", \"Architecture\", \"Art\", \"E-Learning\", \"Android\", \"Business Development\", \"Health Care\", \"Content Marketing\", \"FinTech\", \"Agriculture\", \"Automotive\", \"Financial Services\", \"Biotechnology\", \"Biotechnology\", \"Biotechnology\", \"Dietary Supplements\", \"E-Commerce\", \"Energy\", \"Cloud Data Services\", \"Automotive\", \"E-Commerce\", \"Manufacturing\", \"Cloud Management\", \"Bitcoin\", \"Health Care\", \"Automotive\", \"CleanTech\", \"B2B\", \"Clean Energy\", \"Analytics\", \"Banking\", \"Advertising\", \"Aerospace\", \"Analytics\", \"B2B\", \"Gaming\", \"Battery\", \"E-Learning\", \"Consumer\", \"Environmental Consulting\", \"Health Care\", \"Cyber Security\", \"Apps\", \"Leisure\", \"Android\", \"Clinical Trials\", \"Cloud Management\", \"Financial Services\", \"Consumer Goods\", \"Computer\", \"Cloud Security\", \"Artificial Intelligence\", \"Big Data\", \"Data Visualization\", \"Biotechnology\", \"Apps\", \"Artificial Intelligence\", \"Delivery\", \"Automotive\", \"Electronics\", \"Cannabis\", \"Fashion\", \"Crowdsourcing\", \"CleanTech\", \"Consumer Electronics\", \"Artificial Intelligence\", \"Internet\", \"Android\", \"Computer\", \"Communities\", \"Aerospace\", \"Banking\", \"3D Printing\", \"Artificial Intelligence\", \"Analytics\", \"Artificial Intelligence\", \"Asset Management\", \"E-Commerce\", \"Analytics\", \"Document Management\", \"Biotechnology\", \"Automotive\", \"E-Commerce\", \"Food and Beverage\", \"B2B\", \"Advertising\", \"Electronics\", \"B2B\", \"Data Center\", \"Computer\", \"Automotive\", \"Analytics\", \"Lighting\", \"Compliance\", \"Analytics\", \"Biotechnology\", \"Big Data\", \"Analytics\", \"Cyber Security\", \"Local Business\", \"E-Commerce\", \"Food Delivery\", \"Cyber Security\", \"Delivery\", \"Cloud Computing\", \"Apps\", \"Analytics\", \"eSports\", \"Analytics\", \"Billing\", \"Cooking\", \"Quantum Computing\", \"Database\", \"Enterprise Software\", \"Biotechnology\", \"Artificial Intelligence\", \"Home Services\", \"Education\", \"Artificial Intelligence\", \"Fitness\", \"Advertising\", \"Software\", \"Artificial Intelligence\", \"Financial Services\", \"Content Marketing\", \"Aerospace\", \"Consumer Electronics\", \"Digital Media\", \"FinTech\", \"Developer Platform\", \"B2B\", \"Finance\", \"Artificial Intelligence\", \"Apps\", \"Content Delivery Network\", \"Cloud Infrastructure\", \"Gamification\", \"B2B\", \"iOS\", \"Advertising\", \"Delivery\", \"Bitcoin\", \"Cloud Security\", \"Coffee\", \"Automotive\", \"Cloud Infrastructure\", \"Ad Targeting\", \"Financial Services\", \"E-Commerce\", \"Asset Management\", \"Broadcasting\", \"Biopharma\", \"Advertising\", \"Apps\", \"Cyber Security\", \"Apps\", \"Artificial Intelligence\", \"Customer Service\", \"Artificial Intelligence\", \"Apps\", \"Financial Services\", \"Big Data\", \"Financial Services\", \"Computer\", \"Employee Benefits\", \"Analytics\", \"E-Commerce\", \"Bitcoin\", \"Apps\", \"Baby\", \"Biotechnology\", \"Artificial Intelligence\", \"Customer Service\", \"Chemical\", \"Cloud Computing\", \"Artificial Intelligence\", \"Mobile\", \"Advertising\", \"Apps\", \"Finance\", \"Agriculture\", \"Cyber Security\", \"Energy\", \"Clinical Trials\", \"Food and Beverage\", \"Biopharma\", \"Digital Entertainment\", \"Analytics\", \"Advertising\", \"Lending\", \"Health Care\", \"Service Industry\", \"Advertising\", \"Artificial Intelligence\", \"Delivery Service\", \"Cloud Computing\", \"Advertising\", \"Clean Energy\", \"Apps\", \"Internet of Things\", \"Health Care\", \"Mobile\", \"Automotive\", \"Biotechnology\", \"Consumer Goods\", \"Food and Beverage\", \"Artificial Intelligence\", \"E-Commerce\", \"Accounting\", \"Fitness\", \"Analytics\", \"Internet of Things\", \"E-Commerce\", \"Biotechnology\", \"3D Printing\", \"Consumer Electronics\", \"Financial Services\", \"Health Care\", \"Artificial Intelligence\", \"Beauty\", \"Developer Tools\", \"Consumer Goods\", \"Biotechnology\", \"Digital Media\", \"Analytics\", \"Enterprise Software\", \"Leisure\", \"Predictive Analytics\", \"Health Care\", \"Automotive\", \"Consulting\", \"Artificial Intelligence\", \"Cloud Data Services\", \"Enterprise Software\", \"Cloud Data Services\", \"Biotechnology\", \"Industrial Automation\", \"Battery\", \"Artificial Intelligence\", \"Cyber Security\", \"Information Services\", \"Industrial Automation\", \"Health Care\", \"Artificial Intelligence\", \"FinTech\", \"Agriculture\", \"Food and Beverage\", \"Developer Tools\", \"Beauty\", \"Health Care\", \"Analytics\", \"Apps\", \"Consumer Electronics\", \"Cooking\", \"Fitness\", \"Agriculture\", \"E-Commerce\", \"Augmented Reality\", \"Big Data\", \"Cloud Computing\", \"Enterprise Software\", \"Cloud Security\", \"Analytics\", \"Artificial Intelligence\", \"Artificial Intelligence\", \"Computer\", \"Health Care\", \"Apps\", \"Business Intelligence\", \"CMS\", \"Mobile Payments\", \"Communities\", \"B2B\", \"E-Learning\", \"Energy\", \"Enterprise Applications\", \"Augmented Reality\", \"Biotechnology\", \"Communities\", \"Advertising\", \"Biotechnology\", \"Biotechnology\", \"Facility Management\", \"Cloud Security\", \"Cloud Computing\", \"Artificial Intelligence\", \"Analytics\", \"Clean Energy\", \"Business Intelligence\", \"Health Care\", \"Augmented Reality\", \"Agriculture\", \"Brand Marketing\", \"Artificial Intelligence\", \"Biotechnology\", \"Analytics\", \"E-Commerce\", \"Communications Infrastructure\", \"Biotechnology\", \"Developer APIs\", \"Beauty\", \"Price Comparison\", \"Advertising\", \"Employee Benefits\", \"Customer Service\", \"Consumer Electronics\", \"Digital Media\", \"Enterprise Software\", \"Biotechnology\", \"Furniture\", \"Advertising\", \"Information Technology\", \"Communications Infrastructure\", \"Blockchain\", \"Advertising\", \"E-Commerce\", \"Finance\", \"Health Care\", \"Analytics\", \"Advertising\", \"Biotechnology\", \"Artificial Intelligence\", \"Biotechnology\", \"Agriculture\", \"Hospitality\", \"Digital Marketing\", \"Delivery Service\", \"Employment\", \"Artificial Intelligence\", \"Car Sharing\", \"Automotive\", \"Beauty\", \"Automotive\", \"Enterprise Software\", \"Big Data\", \"E-Commerce\", \"Cyber Security\", \"Audio\", \"Automotive\", \"Consumer Electronics\", \"Biotechnology\", \"Biotechnology\", \"Human Resources\", \"Big Data\", \"Biotechnology\", \"Contact Management\", \"Apps\", \"Artificial Intelligence\", \"Console Games\", \"Customer Service\", \"Career Planning\", \"Artificial Intelligence\", \"Analytics\", \"Analytics\", \"Advertising\", \"Health Care\", \"Biotechnology\", \"E-Learning\", \"Commercial Real Estate\", \"Fashion\", \"Association\", \"Artificial Intelligence\", \"Autonomous Vehicles\", \"FinTech\", \"Gaming\", \"Education\", \"Consumer Software\", \"CivicTech\", \"Apps\", \"Biotechnology\", \"Food Delivery\", \"Commercial Real Estate\", \"Enterprise Software\", \"Children\", \"Logistics\", \"Automotive\", \"Biotechnology\", \"Automotive\", \"Autonomous Vehicles\", \"Advertising Platforms\", \"E-Commerce\", \"Automotive\", \"Advertising\", \"Biotechnology\", \"Analytics\", \"Artificial Intelligence\", \"Collaboration\", \"E-Commerce\", \"Artificial Intelligence\", \"Dating\", \"Internet\", \"Human Resources\", \"Health Care\", \"Internet\", \"Artificial Intelligence\", \"Financial Services\", \"Blockchain\", \"Developer Tools\", \"Analytics\", \"Agriculture\", \"Analytics\", \"Employee Benefits\", \"Agriculture\", \"Apps\", \"B2B\", \"Fitness\", \"Cloud Data Services\", \"Banking\", \"Enterprise\", \"Cloud Computing\", \"Advertising\", \"Health Care\", \"Information Services\", \"Asset Management\", \"Document Management\", \"Biotechnology\", \"Furniture\", \"Augmented Reality\", \"Artificial Intelligence\", \"Cannabis\", \"Electric Vehicle\", \"Banking\", \"Analytics\", \"Business Intelligence\", \"Apps\", \"E-Commerce\", \"Consumer Goods\", \"Biopharma\", \"Big Data\", \"Analytics\", \"Artificial Intelligence\", \"E-Commerce\", \"Biotechnology\", \"National Security\", \"Biotechnology\", \"Apps\", \"EdTech\", \"Human Resources\", \"Advertising\", \"PaaS\", \"Child Care\", \"E-Commerce\", \"Communities\", \"Banking\", \"Cyber Security\", \"Analytics\", \"Computer\", \"Computer\", \"Biotechnology\", \"Cloud Security\", \"Information Technology\", \"EdTech\", \"Communities\", \"Agriculture\", \"Artificial Intelligence\", \"B2B\", \"Artificial Intelligence\", \"Artificial Intelligence\", \"Advertising\", \"Ad Retargeting\", \"Advertising\", \"Gambling\", \"Fashion\", \"Content\", \"Enterprise Software\", \"Analytics\", \"B2B\", \"Consulting\", \"Electronic Health Record (EHR)\", \"Analytics\", \"Intelligent Systems\", \"Mobile Apps\", \"Computer\", \"Analytics\", \"Medical\", \"Cyber Security\", \"Big Data\", \"Content Creators\", \"Health Care\", \"Construction\", \"Agriculture\", \"Customer Service\", \"Career Planning\", \"Health Care\", \"3D Printing\", \"Cloud Security\", \"Biotechnology\", \"Aerospace\", \"Indoor Positioning\", \"Logistics\", \"Finance\", \"Developer Platform\", \"Cloud Security\", \"B2B\", \"Health Care\", \"Property Management\", \"Career Planning\", \"Automotive\", \"Analytics\", \"Car Sharing\", \"Emerging Markets\", \"Machine Learning\", \"Big Data\", \"eSports\", \"Advertising\", \"Hospitality\", \"Food and Beverage\", \"Health Care\", \"Apps\", \"Fitness\", \"Communications Infrastructure\", \"Banking\", \"Consumer Electronics\", \"E-Commerce\", \"Apps\", \"Financial Services\", \"Big Data\", \"Biotechnology\", \"Agriculture\", \"Artificial Intelligence\", \"Advice\", \"Financial Services\", \"Information Services\", \"Apps\", \"Collaborative Consumption\", \"Analytics\", \"Automotive\", \"Artificial Intelligence\", \"Retail\", \"Ad Retargeting\", \"Analytics\", \"Health Care\", \"Energy\", \"Analytics\", \"Asset Management\", \"Analytics\", \"Artificial Intelligence\", \"Biotechnology\", \"Finance\", \"3D Printing\", \"Email\", \"Energy\", \"Clean Energy\", \"Analytics\", \"Biotechnology\", \"Analytics\", \"Cyber Security\", \"Drones\", \"Analytics\", \"EdTech\", \"Fitness\", \"FinTech\", \"Consumer Electronics\", \"Biotechnology\", \"Compliance\", \"Analytics\", \"Analytics\", \"IT Infrastructure\", \"Banking\", \"Analytics\", \"Fitness\", \"Beauty\", \"Billing\", \"E-Commerce\", \"Biotechnology\", \"Advertising\", \"Big Data\", \"Crowdfunding\", \"Artificial Intelligence\", \"Auto Insurance\", \"Database\", \"Agriculture\", \"Messaging\", \"E-Commerce\", \"Cloud Security\", \"Food Delivery\", \"Content\", \"Artificial Intelligence\", \"Apps\", \"Apps\", \"Internet\", \"Biotechnology\", \"Biotechnology\", \"Energy\", \"Audio\", \"B2B\", \"Financial Services\", \"Artificial Intelligence\", \"Art\", \"Enterprise Software\", \"Artificial Intelligence\", \"E-Commerce\", \"Collaboration\", \"Biotechnology\", \"Autonomous Vehicles\", \"Logistics\", \"Construction\", \"Developer Platform\", \"Artificial Intelligence\", \"EdTech\", \"Biotechnology\", \"Advertising\", \"Blockchain\", \"Casual Games\", \"Analytics\", \"Collaboration\", \"Enterprise Software\", \"Artificial Intelligence\", \"Human Computer Interaction\", \"Hardware\", \"Facial Recognition\", \"Analytics\", \"Fitness\", \"Crowdfunding\", \"Consumer Electronics\", \"FinTech\", \"Clinical Trials\", \"Fertility\", \"Energy\", \"Banking\", \"Delivery\", \"Biotechnology\", \"Agriculture\", \"Consumer Electronics\", \"Consumer Electronics\", \"Artificial Intelligence\", \"E-Signature\", \"Knowledge Management\", \"Biotechnology\", \"E-Learning\", \"Health Care\", \"Big Data\", \"FinTech\", \"E-Commerce\", \"Compliance\", \"Collaboration\", \"Information Technology\", \"Cloud Computing\", \"Apps\", \"Big Data\", \"Hospitality\", \"Brewing\", \"Manufacturing\", \"Fitness\", \"Children\", \"Fitness\", \"Biotechnology\", \"Artificial Intelligence\", \"Biotechnology\", \"Drone Management\", \"3D Printing\", \"Computer\", \"Artificial Intelligence\", \"Legal Tech\", \"Biotechnology\", \"Internet\", \"Big Data\", \"Consumer Electronics\", \"Communications Infrastructure\", \"Artificial Intelligence\", \"Advertising\", \"Cloud Infrastructure\", \"Biotechnology\", \"Banking\", \"Auto Insurance\", \"Beauty\", \"Hardware\", \"Electronics\", \"Analytics\", \"Automotive\", \"Food and Beverage\", \"Advertising\", \"3D Printing\", \"Ad Targeting\", \"B2B\", \"Artificial Intelligence\", \"Nanotechnology\", \"Autonomous Vehicles\", \"Logistics\", \"Advertising\", \"Collaboration\", \"Biotechnology\", \"Enterprise Software\", \"Asset Management\", \"Big Data\", \"Medical Device\", \"Health Care\", \"Artificial Intelligence\", \"Biotechnology\", \"Cloud Data Services\", \"Analytics\", \"Apps\", \"Home Decor\", \"Commercial Real Estate\", \"Artificial Intelligence\", \"Internet\", \"Mobile\", \"Biotechnology\", \"Bitcoin\", \"Communities\", \"Biotechnology\", \"Advertising\", \"Advertising\", \"Commercial Real Estate\", \"Coworking\", \"Bitcoin\", \"Food Delivery\", \"Finance\", \"Coworking\", \"Cloud Infrastructure\", \"Computer\", \"Collaboration\", \"Big Data\", \"E-Learning\", \"Banking\", \"Biotechnology\", \"Marketing\", \"Consumer Electronics\", \"Health Care\", \"Internet\", \"Enterprise Software\", \"Cloud Computing\", \"Clean Energy\", \"Banking\", \"Real Estate\", \"Communities\", \"Energy\", \"Fitness\", \"3D Technology\", \"Collaboration\", \"B2B\", \"App Marketing\", \"CAD\", \"Health Care\", \"Knowledge Management\", \"Advertising\", \"Analytics\", \"Finance\", \"Energy Management\", \"Education\", \"Biopharma\", \"Banking\", \"Electronics\", \"Agriculture\", \"Electronics\", \"Computer\", \"Biotechnology\", \"Automotive\", \"Media and Entertainment\", \"Biotechnology\", \"Advertising\", \"Hardware\", \"Consumer Electronics\", \"Health Care\", \"Auctions\", \"Data Integration\", \"Artificial Intelligence\", \"Catering\", \"Consumer Goods\", \"Computer\", \"Biotechnology\", \"Advertising\", \"Autonomous Vehicles\", \"Cloud Computing\", \"Consulting\", \"Biopharma\", \"Android\", \"Artificial Intelligence\", \"Advertising\", \"Internet\", \"Fashion\", \"Apps\", \"Analytics\", \"Biotechnology\", \"Enterprise Software\", \"Association\", \"Analytics\", \"Computer\", \"Accounting\", \"Messaging\", \"Apps\", \"Health Care\", \"Cooking\", \"Cyber Security\", \"Cloud Computing\", \"Delivery\", \"E-Commerce\", \"E-Commerce\", \"Artificial Intelligence\", \"Android\", \"Computer\", \"Advanced Materials\", \"Consumer Goods\", \"Apps\", \"Android\", \"Consulting\", \"Enterprise Software\", \"Compliance\", \"Brand Marketing\", \"Digital Entertainment\", \"Events\", \"CRM\", \"Biotechnology\", \"Dietary Supplements\", \"Big Data\", \"Artificial Intelligence\", \"Developer APIs\", \"News\", \"Artificial Intelligence\", \"Cryptocurrency\", \"Cyber Security\", \"Finance\", \"Business Development\", \"Consumer Lending\", \"Advertising\", \"Blockchain\", \"Cloud Data Services\", \"Biotechnology\", \"E-Commerce\", \"Property Management\", \"Corporate Training\", \"Biotechnology\", \"Compliance\", \"Construction\", \"Analytics\", \"Art\", \"Internet\", \"Biotechnology\", \"Advertising\", \"Automotive\", \"3D Printing\", \"FinTech\", \"Marketing\", \"Cloud Data Services\", \"Career Planning\", \"Apps\", \"Cyber Security\", \"Big Data\", \"Mobile\", \"Artificial Intelligence\", \"Apps\", \"Cloud Computing\", \"Health Care\", \"Advertising\", \"Cloud Security\", \"Cloud Computing\", \"Computer\", \"Logistics\", \"Analytics\", \"Call Center\", \"Art\", \"Banking\", \"Accounting\", \"Gift Card\", \"Biotechnology\", \"Health Care\", \"Artificial Intelligence\", \"Accounting\", \"Artificial Intelligence\", \"Artificial Intelligence\", \"Food and Beverage\", \"Artificial Intelligence\", \"Computer\", \"Biotechnology\", \"E-Commerce\", \"Health Care\", \"Artificial Intelligence\", \"Education\", \"E-Learning\", \"Finance\", \"Big Data\", \"Biotechnology\", \"Human Resources\", \"Apps\", \"Financial Services\", \"Financial Services\", \"Biotechnology\", \"Apps\", \"E-Commerce\", \"Property Management\", \"Artificial Intelligence\", \"Augmented Reality\", \"Consumer Electronics\", \"Broadcasting\", \"Consumer\", \"Biotechnology\", \"Electronics\", \"Business Intelligence\", \"E-Learning\", \"Financial Services\", \"Cloud Computing\", \"Artificial Intelligence\", \"Analytics\", \"Computer\", \"Advertising\", \"Employee Benefits\", \"Cloud Computing\", \"Biotechnology\", \"Food and Beverage\", \"Artificial Intelligence\", \"Apps\", \"Advertising\", \"Tourism\", \"Banking\", \"Blockchain\", \"Enterprise Software\", \"Biotechnology\", \"Consumer Electronics\", \"Fitness\", \"Health Care\", \"Internet\", \"Beauty\", \"Big Data\", \"Artificial Intelligence\", \"Biotechnology\", \"Internet\", \"Manufacturing\", \"Search Engine\", \"Analytics\", \"Analytics\", \"Cloud Security\", \"Cloud Computing\", \"Commercial Real Estate\", \"Automotive\", \"Information Technology\", \"Child Care\", \"Dental\", \"Consumer\", \"Health Care\", \"Contact Management\", \"Cloud Computing\", \"E-Commerce\", \"Food and Beverage\", \"Consumer Goods\", \"Cyber Security\", \"Banking\", \"Biotechnology\", \"Aerospace\", \"Computer\", \"Content\", \"Internet\", \"Health Care\", \"Auto Insurance\", \"Internet\", \"Advertising\", \"Cloud Data Services\", \"Art\", \"Architecture\", \"Blockchain\", \"E-Commerce\", \"Internet\", \"Developer Tools\", \"Computer\", \"Artificial Intelligence\", \"Food and Beverage\", \"Analytics\", \"Analytics\", \"Analytics\", \"Beauty\", \"Accounting\", \"EdTech\", \"E-Commerce\", \"Artificial Intelligence\", \"Cryptocurrency\", \"Cloud Storage\", \"Information Services\", \"E-Commerce\", \"B2B\", \"Biotechnology\", \"Consumer Electronics\", \"Biotechnology\", \"Analytics\", \"Blockchain\", \"News\", \"Biotechnology\", \"Software\", \"Cloud Data Services\", \"Hospitality\", \"Apps\", \"Cloud Computing\", \"FinTech\", \"Analytics\", \"Broadcasting\", \"Beauty\", \"Genetics\", \"Manufacturing\", \"Artificial Intelligence\", \"CRM\", \"Biotechnology\", \"Consumer Electronics\", \"Apps\", \"Biotechnology\", \"Dental\", \"E-Commerce\", \"Cyber Security\", \"Advertising\", \"Advice\", \"Affiliate Marketing\", \"Baby\", \"Energy\", \"Automotive\", \"Cloud Security\", \"Audio\", \"Beauty\", \"Mobile Devices\", \"E-Commerce\", \"Human Resources\", \"Advertising\", \"Analytics\", \"Blockchain\", \"Consumer\", \"Battery\", \"Computer\", \"Blockchain\", \"Advice\", \"Animal Feed\", \"Biopharma\", \"Analytics\", \"Artificial Intelligence\", \"Real Estate\", \"E-Commerce\", \"Apps\", \"Gaming\", \"Cloud Computing\", \"Artificial Intelligence\", \"Finance\", \"Biotechnology\", \"Digital Entertainment\", \"Blockchain\", \"Biotechnology\", \"Banking\", \"Information Technology\", \"Blockchain\", \"Computer\", \"Health Care\", \"Agriculture\", \"Child Care\", \"Fitness\", \"Agriculture\", \"Customer Service\", \"Apps\", \"Information Services\", \"Mobile\", \"B2B\", \"Analytics\", \"Analytics\", \"Fitness\", \"Analytics\", \"CRM\", \"Energy\", \"Biotechnology\", \"E-Commerce\", \"Cyber Security\", \"Software\", \"Electrical Distribution\", \"Biotechnology\", \"Artificial Intelligence\", \"Fitness\", \"Consumer Software\", \"Health Care\", \"Electric Vehicle\", \"Automotive\", \"Cyber Security\", \"Data Center\", \"Compliance\", \"Energy\", \"Health Care\", \"Advertising\", \"Health Care\", \"Autonomous Vehicles\", \"Analytics\", \"Consumer Electronics\", \"E-Commerce\", \"Artificial Intelligence\", \"Data Storage\", \"Biotechnology\", \"CRM\", \"Artificial Intelligence\", \"Automotive\", \"E-Commerce\", \"E-Commerce\", \"Artificial Intelligence\", \"Cyber Security\", \"Consumer Electronics\", \"Aerospace\", \"Biotechnology\", \"Analytics\", \"Advertising\", \"Artificial Intelligence\", \"Artificial Intelligence\", \"Augmented Reality\", \"Health Care\", \"Information Technology\", \"Analytics\", \"Big Data\", \"Big Data\", \"Health Care\", \"Food and Beverage\", \"Finance\", \"Artificial Intelligence\", \"Advertising\", \"Fitness\", \"Artificial Intelligence\", \"Aerospace\", \"Artificial Intelligence\", \"Cloud Infrastructure\", \"Compliance\", \"Artificial Intelligence\", \"Crowdfunding\", \"Finance\", \"Artificial Intelligence\", \"FinTech\", \"Finance\", \"Artificial Intelligence\", \"Cannabis\", \"Fitness\", \"Apps\", \"E-Learning\", \"Consulting\", \"Artificial Intelligence\", \"Finance\", \"E-Commerce\", \"Artificial Intelligence\", \"Artificial Intelligence\", \"Enterprise Software\", \"Cyber Security\", \"eSports\", \"Advertising\", \"Artificial Intelligence\", \"EdTech\", \"Artificial Intelligence\", \"Food and Beverage\", \"Email Marketing\", \"Biopharma\", \"Automotive\", \"Consumer Electronics\", \"Analytics\", \"Health Care\", \"Art\", \"Consumer Electronics\", \"Biotechnology\", \"Biotechnology\", \"App Marketing\", \"CRM\", \"Alternative Medicine\", \"Accounting\", \"Consumer Electronics\", \"Artificial Intelligence\", \"Cloud Data Services\", \"Information and Communications Technology (ICT)\", \"Artificial Intelligence\", \"Open Source\", \"CRM\", \"Ad Targeting\", \"Financial Services\", \"Artificial Intelligence\", \"Biotechnology\", \"Artificial Intelligence\", \"Big Data\", \"Health Care\", \"Artificial Intelligence\", \"Consulting\", \"Biopharma\", \"Delivery\", \"Apps\", \"Digital Media\", \"Events\", \"Analytics\", \"Analytics\", \"Mobile\", \"Artificial Intelligence\", \"Apps\", \"Health Care\", \"Domain Registrar\", \"Advanced Materials\", \"Gamification\", \"Automotive\", \"Consulting\", \"Business Travel\", \"Energy\", \"Artificial Intelligence\", \"Apps\", \"Pharmaceutical\", \"Advertising\", \"Biopharma\", \"Enterprise Software\", \"Analytics\", \"Artificial Intelligence\", \"Health Care\", \"Analytics\", \"Biotechnology\", \"Blockchain\", \"Analytics\", \"Consumer\", \"Blockchain\", \"Brand Marketing\", \"Analytics\", \"Cloud Computing\", \"Enterprise Software\", \"Advanced Materials\", \"E-Commerce\", \"Automotive\", \"Artificial Intelligence\", \"Medical\", \"Beauty\", \"Developer APIs\", \"E-Commerce\", \"Health Care\", \"Banking\", \"Mobile Apps\", \"B2C\", \"Analytics\", \"Banking\", \"Banking\", \"Biotechnology\", \"Children\", \"Building Material\", \"CRM\", \"Cloud Computing\", \"Cloud Data Services\", \"Health Care\", \"Dental\", \"Cloud Management\", \"Electric Vehicle\", \"B2B\", \"Food and Beverage\", \"Internet\", \"Android\", \"3D Technology\", \"Augmented Reality\", \"Artificial Intelligence\", \"Apps\", \"Artificial Intelligence\", \"Consulting\", \"Banking\", \"Aerospace\", \"Lifestyle\", \"Banking\", \"Finance\", \"Computer\", \"Apps\", \"Food and Beverage\", \"Analytics\", \"Health Care\", \"Meeting Software\", \"Information Services\", \"Fitness\", \"CleanTech\", \"E-Commerce\", \"Biotechnology\", \"Communities\", \"Biopharma\", \"Health Care\", \"Artificial Intelligence\", \"Agriculture\", \"Artificial Intelligence\", \"Advertising\", \"Biotechnology\", \"Internet\", \"Big Data\", \"App Discovery\", \"Consulting\", \"Customer Service\", \"Health Care\", \"Information Technology\", \"Analytics\", \"Blockchain\", \"Analytics\", \"Biotechnology\", \"Android\", \"Electronic Health Record (EHR)\", \"Finance\", \"Advertising\", \"Advertising\", \"Consumer\", \"Agriculture\", \"Children\", \"Consumer Goods\", \"Media and Entertainment\", \"Internet\", \"Education\", \"Advice\", \"Aerospace\", \"Analytics\", \"Cyber Security\", \"Freight Service\", \"Biotechnology\", \"Credit\", \"Drones\", \"Biotechnology\", \"Biotechnology\", \"Commercial Real Estate\", \"Hospital\", \"Collaborative Consumption\", \"Biopharma\", \"Charity\", \"Cloud Security\", \"Consumer Goods\", \"Billing\", \"Biotechnology\", \"Bitcoin\", \"Apps\", \"E-Commerce\", \"Beauty\", \"E-Commerce\", \"Automotive\", \"Food and Beverage\", \"Biotechnology\", \"Finance\", \"Analytics\", \"Marketplace\", \"Cyber Security\", \"Drone Management\", \"Health Care\", \"Leisure\", \"Apps\", \"Building Material\", \"Human Resources\", \"Analytics\", \"Education\", \"Cloud Security\", \"Data Center Automation\", \"Open Source\", \"Audio\", \"Digital Entertainment\", \"Artificial Intelligence\", \"Biopharma\", \"Financial Services\", \"Customer Service\", \"Aerospace\", \"Computer\", \"Biotechnology\", \"Computer\", \"Business Intelligence\", \"Drones\", \"Chemical Engineering\", \"Biotechnology\", \"Cloud Computing\", \"Artificial Intelligence\", \"E-Learning\", \"Advanced Materials\", \"Finance\", \"Cloud Security\", \"Biotechnology\", \"Biopharma\", \"Enterprise Software\", \"Artificial Intelligence\", \"Apps\", \"Artificial Intelligence\", \"Analytics\", \"Computer\", \"Cloud Computing\", \"Biopharma\", \"Biotechnology\", \"Health Care\", \"Energy\", \"Apps\", \"Brand Marketing\", \"Hardware\", \"Clinical Trials\", \"Architecture\", \"Finance\", \"Biotechnology\", \"Artificial Intelligence\", \"Biotechnology\", \"Consumer Goods\", \"Information Technology\", \"Artificial Intelligence\", \"Health Care\", \"E-Commerce\", \"Artificial Intelligence\", \"Biopharma\", \"B2B\", \"Blockchain\", \"Enterprise Software\", \"Biotechnology\", \"Human Resources\", \"Brand Marketing\", \"Biopharma\", \"Clean Energy\", \"Artificial Intelligence\", \"Agriculture\", \"Computer\", \"Analytics\", \"Cloud Computing\", \"E-Commerce\", \"Logistics\", \"Computer\", \"Biopharma\", \"Mobile Payments\", \"Analytics\", \"Battery\", \"Fashion\", \"Analytics\", \"Consumer Reviews\", \"Enterprise Software\", \"Artificial Intelligence\", \"E-Commerce\", \"Banking\", \"Analytics\", \"Biotechnology\", \"Human Resources\", \"Biotechnology\", \"Delivery Service\", \"E-Commerce\", \"Construction\", \"Brand Marketing\", \"Business Development\", \"Apps\", \"Cloud Computing\", \"Biotechnology\", \"Internet\", \"Data Center\", \"Battery\", \"Cyber Security\", \"Blockchain\", \"Biopharma\", \"Biotechnology\", \"Broadcasting\", \"Artificial Intelligence\", \"Mobile\", \"Cloud Computing\", \"E-Commerce\", \"Blockchain\", \"Health Care\", \"Consumer\", \"Biopharma\", \"Human Resources\", \"Financial Services\", \"Electronics\", \"Biotechnology\", \"E-Commerce\", \"Artificial Intelligence\", \"Software\", \"E-Commerce\", \"Artificial Intelligence\", \"Financial Services\", \"Financial Services\", \"Consulting\", \"Food and Beverage\", \"Email\", \"Crowdsourcing\", \"Analytics\", \"Telecommunications\", \"Advertising\", \"EdTech\", \"Cannabis\", \"Augmented Reality\", \"Consulting\", \"Blockchain\", \"Biotechnology\", \"Diabetes\", \"Agriculture\", \"Apps\", \"Banking\", \"Information Services\", \"Biotechnology\", \"Information Services\", \"Health Care\", \"Analytics\", \"Analytics\", \"Business Intelligence\", \"Analytics\", \"Health Care\", \"Health Care\", \"Information Technology\", \"Cyber Security\", \"Analytics\", \"Dental\", \"Apps\", \"E-Commerce\", \"Biotechnology\", \"Apps\", \"Electronics\", \"Advertising\", \"Asset Management\", \"Commercial Lending\", \"Direct Sales\", \"Apps\", \"Biometrics\", \"Gaming\", \"Art\", \"Hardware\", \"Energy\", \"Coffee\", \"Biotechnology\", \"Artificial Intelligence\", \"Satellite Communication\", \"Advertising\", \"Automotive\", \"Communities\", \"Big Data\", \"Enterprise Software\", \"Analytics\", \"Manufacturing\", \"Big Data\", \"CRM\", \"Analytics\", \"Analytics\", \"Analytics\", \"Education\", \"B2B\", \"Biopharma\", \"Content Creators\", \"Consumer Electronics\", \"Banking\", \"Internet\", \"Artificial Intelligence\", \"Analytics\", \"Digital Marketing\", \"Biotechnology\", \"Health Care\", \"Big Data\", \"Health Care\", \"Artificial Intelligence\", \"Employee Benefits\", \"E-Commerce\", \"Gaming\", \"Automotive\", \"Assistive Technology\", \"Analytics\", \"Analytics\", \"Analytics\", \"Cloud Computing\", \"Cloud Security\", \"Fitness\", \"B2B\", \"Fitness\", \"Biopharma\", \"Artificial Intelligence\", \"Data Integration\", \"Cloud Computing\", \"Biopharma\", \"Artificial Intelligence\", \"Consulting\", \"Information Technology\", \"Health Care\", \"Artificial Intelligence\", \"Apps\", \"Children\", \"Hospitality\", \"Biotechnology\", \"Bitcoin\", \"Cloud Computing\", \"Data Center\", \"Commercial Real Estate\", \"Fitness\", \"Artificial Intelligence\", \"Fitness\", \"Apps\", \"Industrial Automation\", \"Analytics\", \"Biotechnology\", \"E-Commerce\", \"Apps\", \"Health Care\", \"Advice\", \"Children\", \"Information Technology\", \"Consumer Electronics\", \"Biotechnology\", \"Energy\", \"Application Specific Integrated Circuit (ASIC)\", \"E-Learning\", \"Biotechnology\", \"E-Learning\", \"Biotechnology\", \"Food and Beverage\", \"Commercial Real Estate\", \"Enterprise Software\", \"Banking\", \"Audio\", \"Energy\", \"E-Commerce\", \"Biotechnology\", \"Health Care\", \"Computer\", \"Biotechnology\", \"Biotechnology\", \"Business Intelligence\", \"E-Commerce\", \"iOS\", \"Advertising\", \"Construction\", \"Consumer Electronics\", \"E-Commerce\", \"Broadcasting\", \"3D Printing\", \"3D Technology\", \"Consumer Electronics\", \"Big Data\", \"Banking\", \"FinTech\", \"Insurance\", \"Accounting\", \"Commercial Insurance\", \"Delivery\", \"Advertising\", \"Security\", \"Cloud Security\", \"Health Care\", \"Biotechnology\", \"Advertising\", \"Computer\", \"Automotive\", \"Cloud Computing\", \"Cloud Computing\", \"Energy\", \"Advanced Materials\", \"Cyber Security\", \"E-Commerce\", \"Ad Exchange\", \"Artificial Intelligence\", \"Gaming\", \"Artificial Intelligence\", \"Digital Media\", \"Analytics\", \"E-Learning\", \"Biotechnology\", \"Consumer Goods\", \"Food and Beverage\", \"Banking\", \"Artificial Intelligence\", \"Information Technology\", \"Advertising\", \"Automotive\", \"Biotechnology\", \"Digital Media\", \"Content\", \"Consumer\", \"Business Intelligence\", \"Advertising\", \"Artificial Intelligence\", \"Apps\", \"Gaming\", \"Cloud Computing\", \"Artificial Intelligence\", \"E-Commerce\", \"Biotechnology\", \"News\", \"Finance\", \"Apps\", \"Banking\", \"Advertising\", \"Children\", \"Enterprise Software\", \"Battery\", \"Biotechnology\", \"Health Care\", \"Hardware\", \"Call Center\", \"Biotechnology\", \"E-Commerce\", \"Advertising\", \"Human Resources\", \"Education\", \"Blockchain\", \"Apps\", \"Cyber Security\", \"Financial Services\", \"3D Printing\", \"E-Commerce\", \"Biopharma\", \"Cannabis\", \"Information Technology\", \"Banking\", \"Child Care\", \"Information Technology\", \"Bitcoin\", \"Advertising\", \"E-Commerce\", \"E-Commerce\", \"Consumer Electronics\", \"Apps\", \"Aerospace\", \"Clean Energy\", \"3D Technology\", \"Apps\", \"Artificial Intelligence\", \"Aerospace\", \"Biotechnology\", \"E-Commerce\", \"Artificial Intelligence\", \"E-Commerce\", \"Health Care\", \"Health Care\", \"Artificial Intelligence\", \"Biopharma\", \"Advertising\", \"Enterprise Software\", \"Compliance\", \"Art\", \"Fashion\", \"E-Commerce\", \"Analytics\", \"Information Services\", \"Big Data\", \"Agriculture\", \"Biopharma\", \"Big Data\", \"Blockchain\", \"Cannabis\", \"E-Commerce\", \"Cloud Infrastructure\", \"Banking\", \"Artificial Intelligence\", \"Finance\", \"Finance\", \"Biotechnology\", \"Big Data\", \"Biotechnology\", \"CleanTech\", \"Food and Beverage\", \"Clean Energy\", \"Bitcoin\", \"Alternative Medicine\", \"Advertising\", \"Apps\", \"Analytics\", \"Air Transportation\", \"Cloud Computing\", \"Computer\", \"Artificial Intelligence\", \"Data Center\", \"Consumer Electronics\", \"Aerospace\", \"Home Services\", \"Biofuel\", \"Advanced Materials\", \"Consumer Lending\", \"Consumer Lending\", \"Fitness\", \"Energy\", \"Financial Services\", \"CRM\", \"Consulting\", \"Advanced Materials\", \"Advertising\", \"Advertising\", \"Apps\", \"Home Improvement\", \"CRM\", \"E-Commerce\", \"Analytics\", \"Building Maintenance\", \"Advertising\", \"Cloud Infrastructure\", \"Desktop Apps\", \"Biotechnology\", \"Apps\", \"Internet\", \"Health Care\", \"Biotechnology\", \"AgTech\", \"Gaming\", \"Education\", \"Marketing\", \"Analytics\", \"Fitness\", \"Biotechnology\", \"Financial Services\", \"Mobile\", \"Analytics\", \"Analytics\", \"Artificial Intelligence\", \"Banking\", \"Food and Beverage\", \"3D Technology\", \"Identity Management\", \"Agriculture\", \"Artificial Intelligence\", \"Product Management\", \"Artificial Intelligence\", \"Cyber Security\", \"Analytics\", \"Financial Services\", \"Human Resources\", \"E-Learning\", \"Hospitality\", \"Education\", \"Apps\", \"Clean Energy\", \"Artificial Intelligence\", \"Information Technology\", \"Advertising\", \"Advertising Platforms\", \"Open Source\", \"Enterprise Software\", \"Asset Management\", \"Advertising\", \"Gaming\", \"Consumer Electronics\", \"Financial Services\", \"Apps\", \"Finance\", \"Health Care\", \"Augmented Reality\", \"AgTech\", \"Artificial Intelligence\", \"Analytics\", \"Business Intelligence\", \"B2B\", \"Banking\", \"Biotechnology\", \"E-Learning\", \"Billing\", \"Media and Entertainment\", \"Consulting\", \"Cloud Computing\", \"Software\", \"Agriculture\", \"Biotechnology\", \"Artificial Intelligence\", \"Artificial Intelligence\", \"Apps\", \"E-Commerce\", \"Content\", \"Developer Tools\", \"Analytics\", \"Biotechnology\", \"Financial Services\", \"Consumer Electronics\", \"Compliance\", \"SaaS\", \"Compliance\", \"Apps\", \"Financial Services\", \"Biomass Energy\", \"Business Development\", \"Internet\", \"Analytics\", \"Health Care\", \"E-Commerce\", \"Biotechnology\", \"Digital Media\", \"Analytics\", \"Computer\", \"Biotechnology\", \"Augmented Reality\", \"Apps\", \"Aerospace\", \"Communication Hardware\", \"Health Care\", \"Finance\", \"Advertising\", \"Enterprise Software\", \"EdTech\", \"Hospitality\", \"Consumer\", \"Enterprise Software\", \"Advertising\", \"Marketplace\", \"Artificial Intelligence\", \"Enterprise Software\", \"Mobile\", \"Clean Energy\", \"Analytics\", \"Artificial Intelligence\", \"Clinical Trials\", \"Biopharma\", \"E-Commerce\", \"Biotechnology\", \"Analytics\", \"Cryptocurrency\", \"Application Performance Management\", \"Biopharma\", \"Aerospace\", \"B2B\", \"Finance\", \"Artificial Intelligence\", \"Biopharma\", \"Blogging Platforms\", \"Industrial Automation\", \"Analytics\", \"Art\", \"Biopharma\", \"Consumer\", \"B2B\", \"B2B\", \"Apps\", \"Internet\", \"Analytics\", \"Artificial Intelligence\", \"Asset Management\", \"Clean Energy\", \"Health Care\", \"Mobile\", \"Linux\", \"Apps\", \"Communities\", \"Gift\", \"Biopharma\", \"Education\", \"AgTech\", \"Health Care\", \"Biotechnology\", \"Aerospace\", \"Cyber Security\", \"Delivery\", \"Blockchain\", \"Finance\", \"Artificial Intelligence\", \"Health Care\", \"Hardware\", \"Biopharma\", \"Biotechnology\", \"Apps\", \"Advertising\", \"Consumer Goods\", \"CRM\", \"Health Care\", \"Information Technology\", \"Fitness\", \"Biometrics\", \"Agriculture\", \"Apps\", \"Blogging Platforms\", \"Agriculture\", \"Ad Retargeting\", \"Mobile Apps\", \"EdTech\", \"Apps\", \"Artificial Intelligence\", \"Developer APIs\", \"Apps\", \"Banking\", \"Hardware\", \"Biotechnology\", \"Automotive\", \"Agriculture\", \"Cloud Computing\", \"EdTech\", \"Cloud Computing\", \"Advertising\", \"Analytics\", \"Apps\", \"Financial Services\", \"Enterprise Software\", \"Advertising\", \"Business Development\", \"Cloud Computing\", \"Biotechnology\", \"Analytics\", \"Building Material\", \"Advertising\", \"Cloud Data Services\", \"Biotechnology\", \"E-Commerce\", \"Artificial Intelligence\", \"Apps\", \"Information Services\", \"Consumer Software\", \"Electronics\", \"E-Commerce\", \"Analytics\", \"Advertising\", \"Cyber Security\", \"Biotechnology\", \"Biopharma\", \"Analytics\", \"Computer\", \"Artificial Intelligence\", \"Cloud Computing\", \"Artificial Intelligence\", \"Crowdfunding\", \"Human Resources\", \"Biotechnology\", \"CRM\", \"Enterprise Software\", \"Artificial Intelligence\", \"EdTech\", \"Advertising\", \"Analytics\", \"E-Commerce\", \"Biotechnology\", \"Commercial Real Estate\", \"Biotechnology\", \"Cyber Security\", \"Broadcasting\", \"Delivery Service\", \"Blockchain\", \"Analytics\", \"Software\", \"Biotechnology\", \"Payments\", \"Biotechnology\", \"Logistics\", \"Apps\", \"B2B\", \"Automotive\", \"Biopharma\", \"E-Commerce\", \"Biotechnology\", \"Health Care\", \"Biopharma\", \"Data Storage\", \"Finance\", \"Communications Infrastructure\", \"Health Care\", \"Biotechnology\", \"Cyber Security\", \"Internet\", \"Compliance\", \"Biotechnology\", \"Advertising Platforms\", \"Artificial Intelligence\", \"Digital Media\", \"Biotechnology\", \"Digital Marketing\", \"Health Care\", \"Artificial Intelligence\", \"Cloud Computing\", \"Audio\", \"Financial Services\", \"Automotive\", \"Construction\", \"Augmented Reality\", \"Information Technology\", \"Analytics\", \"Analytics\", \"FinTech\", \"Apps\", \"Apps\", \"Food and Beverage\", \"Cloud Computing\", \"Analytics\", \"Information Technology\", \"Biopharma\", \"Content\", \"Advertising Platforms\", \"Artificial Intelligence\", \"E-Commerce\", \"Advertising\", \"Advanced Materials\", \"Biotechnology\", \"Machine Learning\", \"Internet\", \"Analytics\", \"Air Transportation\", \"Biotechnology\", \"Battery\", \"Artificial Intelligence\", \"Ad Targeting\", \"Analytics\", \"B2B\", \"Cannabis\", \"Bitcoin\", \"Analytics\", \"Business Intelligence\", \"Audio\", \"Advanced Materials\", \"Biotechnology\", \"Computer\", \"Fitness\", \"Logistics\", \"Blockchain\", \"Information Technology\", \"Clean Energy\", \"Content Delivery Network\", \"Commercial Real Estate\", \"Beauty\", \"Banking\", \"Biopharma\", \"Analytics\", \"Employee Benefits\", \"Energy\", \"Enterprise\", \"Business Travel\", \"Biotechnology\", \"Biopharma\", \"Analytics\", \"Fitness\", \"B2B\", \"Information Services\", \"Aerospace\", \"Banking\", \"Commercial Real Estate\", \"Artificial Intelligence\", \"Analytics\", \"Software\", \"Accounting\", \"Biotechnology\", \"CleanTech\", \"Lifestyle\", \"Apps\", \"Artificial Intelligence\", \"Artificial Intelligence\", \"Agriculture\", \"B2B\", \"Artificial Intelligence\", \"Biotechnology\", \"Artificial Intelligence\", \"E-Commerce\", \"Artificial Intelligence\", \"Internet\", \"Artificial Intelligence\", \"Audio\", \"E-Commerce\", \"Health Care\", \"E-Commerce\", \"Artificial Intelligence\", \"Android\", \"Biotechnology\", \"Crowdsourcing\", \"Analytics\", \"Apps\", \"Mobile Payments\", \"Artificial Intelligence\", \"Apps\", \"Biotechnology\", \"Enterprise Software\", \"Apps\", \"Banking\", \"Enterprise Software\", \"Consulting\", \"Artificial Intelligence\", \"Finance\", \"Education\", \"Food Delivery\", \"Developer APIs\", \"Food and Beverage\", \"Apps\", \"Education\", \"SaaS\", \"E-Learning\", \"Asset Management\", \"Biotechnology\", \"Fashion\", \"E-Commerce\", \"3D Technology\", \"Developer APIs\", \"Fitness\", \"Enterprise Software\", \"Cloud Computing\", \"Hardware\", \"Computer\", \"Android\", \"Analytics\", \"Cloud Security\", \"Advertising\", \"Finance\", \"Analytics\", \"Biotechnology\", \"Artificial Intelligence\", \"Cannabis\", \"Biotechnology\", \"Local\", \"Cloud Computing\", \"Farming\", \"Collaboration\", \"Biotechnology\", \"Big Data\", \"Consumer\", \"Hardware\", \"Food and Beverage\", \"Consumer\", \"Crowdsourcing\", \"Agriculture\", \"Biotechnology\", \"Analytics\", \"iOS\", \"Agriculture\", \"Computer\", \"Cyber Security\", \"Agriculture\", \"Analytics\", \"Collaboration\", \"CRM\", \"Content\", \"Analytics\", \"eSports\", \"Banking\", \"Big Data\", \"Digital Marketing\", \"eSports\", \"Consumer Electronics\", \"B2B\", \"Artificial Intelligence\", \"Consumer Electronics\", \"Ad Targeting\", \"Artificial Intelligence\", \"Enterprise Software\", \"Big Data\", \"Leasing\", \"Food and Beverage\", \"Cyber Security\", \"B2B\", \"Delivery Service\", \"Apps\", \"Financial Services\", \"Analytics\", \"Biotechnology\", \"Health Care\", \"Biotechnology\", \"Artificial Intelligence\", \"Lifestyle\", \"Health Care\", \"Developer Platform\", \"E-Commerce\", \"Consumer Goods\", \"Consumer Goods\", \"Cloud Computing\", \"B2B\", \"Coffee\", \"Enterprise Software\", \"E-Commerce\", \"Biotechnology\", \"Big Data\", \"Analytics\", \"Internet of Things\", \"Apps\", \"Security\", \"Content\", \"Automotive\", \"Enterprise Software\", \"Education\", \"Enterprise Software\", \"Biotechnology\", \"Email\", \"Health Care\", \"Compliance\", \"E-Learning\", \"Ad Network\", \"Information Technology\", \"Artificial Intelligence\", \"Home Services\", \"Environmental Consulting\", \"Cloud Data Services\", \"E-Commerce\", \"Biotechnology\", \"Artificial Intelligence\", \"FinTech\", \"E-Commerce\", \"Fitness\", \"Information Technology\", \"Advertising\", \"E-Commerce\", \"Broadcasting\", \"Advanced Materials\", \"Food and Beverage\", \"Biopharma\", \"Analytics\", \"Big Data\", \"Advice\", \"Biotechnology\", \"Artificial Intelligence\", \"Retail\", \"Food and Beverage\", \"Hardware\", \"Biotechnology\", \"Health Care\", \"Email\", \"Aerospace\", \"Computer\", \"Artificial Intelligence\", \"Coffee\", \"Consumer Electronics\", \"Collaboration\", \"Automotive\", \"Internet of Things\", \"Biotechnology\", \"Artificial Intelligence\", \"B2B\", \"Consumer Electronics\", \"E-Commerce\", \"Gaming\", \"Business Development\", \"Advertising\", \"Analytics\", \"Consumer Electronics\", \"GPS\", \"Software\", \"Apps\", \"Air Transportation\", \"Energy Storage\", \"Crowdsourcing\", \"Recruiting\", \"Association\", \"Artificial Intelligence\", \"Analytics\", \"Analytics\", \"Developer Tools\", \"Biotechnology\", \"Fitness\", \"CleanTech\", \"Artificial Intelligence\", \"Autonomous Vehicles\", \"Automotive\", \"Biopharma\", \"Finance\", \"Health Care\", \"Artificial Intelligence\", \"Artificial Intelligence\", \"E-Learning\", \"Apps\", \"Fashion\", \"Artificial Intelligence\", \"Computer\", \"Apps\", \"Biotechnology\", \"Computer Vision\", \"Collaboration\", \"Lifestyle\", \"Financial Services\", \"Enterprise Software\", \"Electronic Design Automation (EDA)\", \"Dietary Supplements\", \"Health Care\", \"Cloud Computing\", \"Energy\", \"Food and Beverage\", \"Financial Services\", \"Biotechnology\", \"Beauty\", \"Automotive\", \"Advanced Materials\", \"Cyber Security\", \"Information Technology\", \"Biotechnology\", \"Artificial Intelligence\", \"Financial Services\", \"Android\", \"Industrial Automation\", \"E-Commerce\", \"EdTech\", \"Automotive\", \"Analytics\", \"Agriculture\", \"B2B\", \"Health Care\", \"Construction\", \"Clinical Trials\", \"Energy\", \"Property Management\", \"Consumer\", \"B2B\", \"Internet\", \"Biotechnology\", \"Advertising\", \"Finance\", \"Consulting\", \"Battery\", \"Health Care\", \"Artificial Intelligence\", \"Accounting\", \"Coupons\", \"Health Care\", \"Broadcasting\", \"Ad Targeting\", \"Cyber Security\", \"Ediscovery\", \"Analytics\", \"EdTech\", \"Health Diagnostics\", \"Health Care\", \"Ad Targeting\", \"Apps\", \"Biotechnology\", \"Analytics\", \"Analytics\", \"Fitness\", \"Biotechnology\", \"Automotive\", \"Digital Media\", \"Art\", \"B2B\", \"Apps\", \"Artificial Intelligence\", \"Android\", \"Internet\", \"Artificial Intelligence\", \"Artificial Intelligence\", \"Enterprise Software\", \"Financial Services\", \"Cyber Security\", \"Health Care\", \"Event Management\", \"Artificial Intelligence\", \"Biotechnology\", \"Consumer Electronics\", \"Biotechnology\", \"Artificial Intelligence\", \"Finance\", \"Cloud Computing\", \"Analytics\", \"Bioinformatics\", \"Business Intelligence\", \"E-Commerce\", \"Biopharma\", \"Cloud Computing\", \"Cyber Security\", \"Artificial Intelligence\", \"Biopharma\", \"B2B\", \"Food and Beverage\", \"Artificial Intelligence\", \"Advanced Materials\", \"Biotechnology\", \"Biotechnology\", \"Apps\", \"Data Center\", \"Health Care\", \"Electric Vehicle\", \"Artificial Intelligence\", \"Enterprise Software\", \"Analytics\", \"E-Learning\", \"Bioinformatics\", \"Biotechnology\", \"Analytics\", \"Biotechnology\", \"Cloud Security\", \"Biopharma\", \"Apps\", \"Biotechnology\", \"Apps\", \"Information Technology\", \"Ad Retargeting\", \"Home Improvement\", \"Consumer\", \"Advice\", \"E-Commerce\", \"Augmented Reality\", \"Manufacturing\", \"3D Technology\", \"Information Technology\", \"Information Technology\", \"Analytics\", \"Biotechnology\", \"Apps\", \"Biotechnology\", \"Analytics\", \"Analytics\", \"E-Commerce\", \"Internet of Things\", \"Consumer Goods\", \"Customer Service\", \"Information Services\", \"Health Care\", \"Marketing\", \"Dating\", \"Big Data\", \"Enterprise Software\", \"Employee Benefits\", \"Automotive\", \"Concerts\", \"Artificial Intelligence\", \"Image Recognition\", \"Air Transportation\", \"Biotechnology\", \"Information Services\", \"Analytics\", \"Industrial Automation\", \"Analytics\", \"Asset Management\", \"Education\", \"Biotechnology\", \"Marketing Automation\", \"Analytics\", \"Artificial Intelligence\", \"Health Care\", \"Apps\", \"Electronics\", \"E-Commerce\", \"Beauty\", \"Agriculture\", \"Financial Services\", \"Artificial Intelligence\", \"Health Care\", \"Health Care\", \"Finance\", \"Biotechnology\", \"Agriculture\", \"Biotechnology\", \"Biometrics\", \"Aerospace\", \"Blockchain\", \"Electronic Health Record (EHR)\", \"Financial Services\", \"Charity\", \"Content Delivery Network\", \"Biotechnology\", \"Information Technology\", \"E-Commerce Platforms\", \"Aerospace\", \"Internet\", \"E-Commerce\", \"Health Care\", \"Finance\", \"Industrial Engineering\", \"Automotive\", \"Advertising\", \"Health Care\", \"Information Technology\", \"Customer Service\", \"Local\", \"Biotechnology\", \"Cloud Computing\", \"Bitcoin\", \"Artificial Intelligence\", \"Augmented Reality\", \"Business Intelligence\", \"E-Commerce\", \"Cloud Computing\", \"Analytics\", \"Health Care\", \"Digital Entertainment\", \"Biotechnology\", \"Health Care\", \"Analytics\", \"Automotive\", \"Apps\", \"Analytics\", \"Bitcoin\", \"Collaboration\", \"Collaboration\", \"Analytics\", \"Developer Platform\", \"Cloud Computing\", \"Financial Services\", \"3D Technology\", \"Construction\", \"Health Care\", \"Artificial Intelligence\", \"Consumer Goods\", \"Big Data\", \"Apps\", \"Enterprise Software\", \"Biotechnology\", \"Employment\", \"Cloud Computing\", \"Delivery\", \"Financial Services\", \"Analytics\", \"Biotechnology\", \"Analytics\", \"Industrial Automation\", \"Application Performance Management\", \"Fashion\", \"Automotive\", \"Agriculture\", \"Biotechnology\", \"Finance\", \"Diabetes\", \"Analytics\", \"Delivery\", \"Biotechnology\", \"Computer\", \"Advertising\", \"Computer\", \"Content\", \"Computer\", \"Biotechnology\", \"Clean Energy\", \"Analytics\", \"Beauty\", \"Marketplace\", \"SaaS\", \"Analytics\", \"Advertising Platforms\", \"Medical\", \"Artificial Intelligence\", \"Auto Insurance\", \"E-Commerce\", \"Consumer\", \"Automotive\", \"E-Commerce\", \"Biotechnology\", \"Consumer\", \"Artificial Intelligence\", \"Internet\", \"Air Transportation\", \"Art\", \"Artificial Intelligence\", \"Biotechnology\", \"Accounting\", \"Energy\", \"Cyber Security\", \"Finance\", \"Content\", \"Consumer\", \"Analytics\", \"Developer Tools\", \"Apps\", \"Finance\", \"EdTech\", \"Biotechnology\", \"Analytics\", \"Internet\", \"Hardware\", \"Financial Services\", \"Credit Cards\", \"CRM\", \"B2B\", \"Artificial Intelligence\", \"Analytics\", \"Biotechnology\", \"Chemical Engineering\", \"Developer APIs\", \"E-Commerce\", \"Automotive\", \"Hardware\", \"Biopharma\", \"Energy\", \"Automotive\", \"Courier Service\", \"Finance\", \"E-Learning\", \"Food and Beverage\", \"Artificial Intelligence\", \"Analytics\", \"Analytics\", \"Cloud Security\", \"Alternative Medicine\", \"Content Delivery Network\", \"Quantum Computing\", \"Energy\", \"Agriculture\", \"Digital Media\", \"Advertising\", \"Analytics\", \"Infrastructure\", \"E-Commerce\", \"Analytics\", \"Biopharma\", \"Finance\", \"Biotechnology\", \"E-Commerce\", \"Construction\", \"Consumer Goods\", \"3D Technology\", \"Financial Services\", \"Biotechnology\", \"Accounting\", \"Consumer Electronics\", \"Enterprise Software\", \"Aerospace\", \"Analytics\", \"Consumer\", \"CRM\", \"Biotechnology\", \"Internet\", \"Cloud Computing\", \"Advertising\", \"Biotechnology\", \"eSports\", \"Content\", \"Automotive\", \"Commercial Lending\", \"Consumer Lending\", \"E-Learning\", \"Cyber Security\", \"Biotechnology\", \"Consumer Electronics\", \"Consumer Electronics\", \"Advertising Platforms\", \"Consumer Goods\", \"Collaboration\", \"Food and Beverage\", \"Enterprise Software\", \"Electric Vehicle\", \"Biopharma\", \"E-Commerce\", \"3D Technology\", \"Biotechnology\", \"Cooking\", \"Advertising\", \"Retail Technology\", \"Health Care\", \"Artificial Intelligence\", \"Cyber Security\", \"Biotechnology\", \"Air Transportation\", \"Advertising\", \"Online Portals\", \"E-Commerce\", \"Commercial Real Estate\", \"Artificial Intelligence\", \"Financial Services\", \"Banking\", \"Compliance\", \"Advertising\", \"Hardware\", \"Information Technology\", \"Apps\", \"Consulting\", \"Artificial Intelligence\", \"Energy\", \"Artificial Intelligence\", \"Artificial Intelligence\", \"Air Transportation\", \"Biometrics\", \"Cloud Data Services\", \"CleanTech\", \"Aerospace\", \"Finance\", \"Financial Services\", \"Analytics\", \"Food and Beverage\", \"Cloud Computing\", \"Cyber Security\", \"Consumer\", \"Analytics\", \"Consulting\", \"IaaS\", \"Fashion\", \"E-Learning\", \"Mobile Apps\", \"Developer Tools\", \"3D Technology\", \"Analytics\", \"Developer APIs\", \"Advertising\", \"E-Commerce\", \"Jewelry\", \"Elder Care\", \"Clean Energy\", \"Event Management\", \"Health Care\", \"E-Learning\", \"Advertising\", \"Agriculture\", \"Finance\", \"E-Commerce\", \"Biopharma\", \"Artificial Intelligence\", \"B2B\", \"Aerospace\", \"Beauty\", \"Biotechnology\", \"Crowdfunding\", \"Analytics\", \"Application Performance Management\", \"Analytics\", \"Health Care\", \"Artificial Intelligence\", \"Local\", \"Hardware\", \"Enterprise Software\", \"Artificial Intelligence\", \"Credit\", \"Analytics\", \"Automotive\", \"Biotechnology\", \"Assistive Technology\", \"Marketing\", \"Cloud Computing\", \"Electronics\", \"Advertising\", \"Biotechnology\", \"Biotechnology\", \"Artificial Intelligence\", \"Bitcoin\", \"Consumer Electronics\", \"Communities\", \"Enterprise Software\", \"Banking\", \"Big Data\", \"Cyber Security\", \"Biotechnology\", \"Biotechnology\", \"Financial Services\", \"Food and Beverage\", \"Lead Management\", \"SaaS\", \"Health Care\", \"Artificial Intelligence\", \"Blockchain\", \"Consumer Electronics\", \"Software\", \"AgTech\", \"Agriculture\", \"Brand Marketing\", \"Advertising\", \"Biotechnology\", \"Analytics\", \"Analytics\", \"Audio\", \"Cloud Computing\", \"Biopharma\", \"E-Commerce\", \"Health Care\", \"Health Care\", \"Automotive\", \"Information Technology\", \"AgTech\", \"Biotechnology\", \"Fitness\", \"Automotive\", \"Agriculture\", \"Advertising\", \"Accounting\", \"Internet of Things\", \"Document Management\", \"Brand Marketing\", \"E-Commerce\", \"Biopharma\", \"Biopharma\", \"Analytics\", \"Analytics\", \"Accounting\", \"Information Technology\", \"Digital Entertainment\", \"Health Care\", \"Electronics\", \"Product Design\", \"Biotechnology\", \"Artificial Intelligence\", \"Apps\", \"Biotechnology\", \"Developer Tools\", \"Analytics\", \"Cryptocurrency\", \"Emergency Medicine\", \"Biotechnology\", \"Elder Care\", \"Apps\", \"Apps\", \"Local\", \"Financial Services\", \"B2B\", \"Artificial Intelligence\", \"Analytics\", \"Aerospace\", \"Computer\", \"Biotechnology\", \"Accounting\", \"E-Commerce\", \"Food and Beverage\", \"Hardware\", \"Private Social Networking\", \"Android\", \"Apps\", \"Consulting\", \"Cloud Security\", \"Biotechnology\", \"Analytics\", \"Apps\", \"Analytics\", \"Biometrics\", \"Energy\", \"Automotive\", \"Artificial Intelligence\", \"Artificial Intelligence\", \"3D Printing\", \"Animation\", \"Real Estate\", \"Delivery\", \"Analytics\", \"Automotive\", \"Apps\", \"Financial Services\", \"Leisure\", \"Apps\", \"3D Printing\", \"Artificial Intelligence\", \"Automotive\", \"Consumer Software\", \"Cyber Security\", \"Consumer Lending\", \"Augmented Reality\", \"Enterprise Software\", \"Auto Insurance\", \"Biotechnology\", \"Biotechnology\", \"E-Commerce\", \"Cloud Computing\", \"Information Services\", \"Information Technology\", \"E-Commerce\", \"Enterprise Software\", \"Auctions\", \"Consumer Goods\", \"Aerospace\", \"Apps\", \"Banking\", \"Bitcoin\", \"Automotive\", \"Artificial Intelligence\", \"Fitness\", \"Brand Marketing\", \"Consumer Goods\", \"Content\", \"Analytics\", \"Electric Vehicle\", \"Biotechnology\", \"Automotive\", \"Enterprise Software\", \"Enterprise Software\", \"Apps\", \"Health Care\", \"Biotechnology\", \"Artificial Intelligence\", \"Apps\", \"Health Care\", \"Cloud Computing\", \"Financial Services\", \"Finance\", \"Fleet Management\", \"Biotechnology\", \"3D Technology\", \"Electronics\", \"3D Printing\", \"Information Technology\", \"Health Care\", \"Analytics\", \"Analytics\", \"Artificial Intelligence\", \"Cloud Data Services\", \"Farming\", \"Security\", \"E-Commerce\", \"Beauty\", \"Analytics\", \"Employee Benefits\", \"Information Technology\", \"Advertising\", \"Blockchain\", \"E-Commerce\", \"E-Commerce\", \"Communities\", \"Customer Service\", \"Electric Vehicle\", \"Delivery\", \"EdTech\", \"Biotechnology\", \"Artificial Intelligence\", \"Biotechnology\", \"Advertising\", \"Consumer\", \"Health Care\", \"Apps\", \"Architecture\", \"Android\", \"Electronics\", \"Cloud Computing\", \"Apps\", \"Analytics\", \"Consumer Electronics\", \"Apps\", \"Artificial Intelligence\", \"Crowdfunding\", \"Biotechnology\", \"Communication Hardware\", \"Biotechnology\", \"Consumer Goods\", \"Analytics\", \"Biotechnology\", \"Analytics\", \"Artificial Intelligence\", \"Computer\", \"Apps\", \"Collaboration\", \"Content\", \"Advertising Platforms\", \"Biotechnology\", \"Finance\", \"Autonomous Vehicles\", \"Health Care\", \"Analytics\", \"Apps\", \"Finance\", \"Analytics\", \"Artificial Intelligence\", \"Analytics\", \"Artificial Intelligence\", \"Biotechnology\", \"Bitcoin\", \"Health Care\", \"Analytics\", \"Enterprise Software\", \"Biotechnology\", \"Developer Tools\", \"Consumer Electronics\", \"Child Care\", \"Apps\", \"Augmented Reality\", \"Analytics\", \"Analytics\", \"Artificial Intelligence\", \"Freelance\", \"Android\", \"Human Resources\", \"Logistics\", \"Brand Marketing\", \"Big Data\", \"Energy\", \"Electronics\", \"Biotechnology\", \"Commercial Real Estate\", \"Agriculture\", \"Health Care\", \"Cyber Security\", \"Gaming\", \"Agriculture\", \"Biopharma\", \"Biotechnology\", \"Farmers Market\", \"Cloud Data Services\", \"Artificial Intelligence\", \"E-Commerce\", \"CleanTech\", \"Banking\", \"Health Care\", \"Artificial Intelligence\", \"Biotechnology\", \"Apps\", \"Aerospace\", \"Agriculture\", \"Audio\", \"Banking\", \"Corporate Training\", \"Computer\", \"E-Learning\", \"Apps\", \"Artificial Intelligence\", \"Cloud Security\", \"Biotechnology\", \"Health Care\", \"A/B Testing\", \"Elderly\", \"B2B\", \"Biotechnology\", \"Information Services\", \"Cloud Data Services\"], \"xaxis\": \"x\", \"yaxis\": \"y\"}],\n",
              "                        {\"barmode\": \"relative\", \"legend\": {\"tracegroupgap\": 0}, \"margin\": {\"t\": 60}, \"template\": {\"data\": {\"bar\": [{\"error_x\": {\"color\": \"#2a3f5f\"}, \"error_y\": {\"color\": \"#2a3f5f\"}, \"marker\": {\"line\": {\"color\": \"#E5ECF6\", \"width\": 0.5}}, \"type\": \"bar\"}], \"barpolar\": [{\"marker\": {\"line\": {\"color\": \"#E5ECF6\", \"width\": 0.5}}, \"type\": \"barpolar\"}], \"carpet\": [{\"aaxis\": {\"endlinecolor\": \"#2a3f5f\", \"gridcolor\": \"white\", \"linecolor\": \"white\", \"minorgridcolor\": \"white\", \"startlinecolor\": \"#2a3f5f\"}, \"baxis\": {\"endlinecolor\": \"#2a3f5f\", \"gridcolor\": \"white\", \"linecolor\": \"white\", \"minorgridcolor\": \"white\", \"startlinecolor\": \"#2a3f5f\"}, \"type\": \"carpet\"}], \"choropleth\": [{\"colorbar\": {\"outlinewidth\": 0, \"ticks\": \"\"}, \"type\": \"choropleth\"}], \"contour\": [{\"colorbar\": {\"outlinewidth\": 0, \"ticks\": \"\"}, \"colorscale\": [[0.0, \"#0d0887\"], [0.1111111111111111, \"#46039f\"], [0.2222222222222222, \"#7201a8\"], [0.3333333333333333, \"#9c179e\"], [0.4444444444444444, \"#bd3786\"], [0.5555555555555556, \"#d8576b\"], [0.6666666666666666, \"#ed7953\"], [0.7777777777777778, \"#fb9f3a\"], [0.8888888888888888, \"#fdca26\"], [1.0, \"#f0f921\"]], \"type\": \"contour\"}], \"contourcarpet\": [{\"colorbar\": {\"outlinewidth\": 0, \"ticks\": \"\"}, \"type\": \"contourcarpet\"}], \"heatmap\": [{\"colorbar\": {\"outlinewidth\": 0, \"ticks\": \"\"}, \"colorscale\": [[0.0, \"#0d0887\"], [0.1111111111111111, \"#46039f\"], [0.2222222222222222, \"#7201a8\"], [0.3333333333333333, \"#9c179e\"], [0.4444444444444444, \"#bd3786\"], [0.5555555555555556, \"#d8576b\"], [0.6666666666666666, \"#ed7953\"], [0.7777777777777778, \"#fb9f3a\"], [0.8888888888888888, \"#fdca26\"], [1.0, \"#f0f921\"]], \"type\": \"heatmap\"}], \"heatmapgl\": [{\"colorbar\": {\"outlinewidth\": 0, \"ticks\": \"\"}, \"colorscale\": [[0.0, \"#0d0887\"], [0.1111111111111111, \"#46039f\"], [0.2222222222222222, \"#7201a8\"], [0.3333333333333333, \"#9c179e\"], [0.4444444444444444, \"#bd3786\"], [0.5555555555555556, \"#d8576b\"], [0.6666666666666666, \"#ed7953\"], [0.7777777777777778, \"#fb9f3a\"], [0.8888888888888888, \"#fdca26\"], [1.0, \"#f0f921\"]], \"type\": \"heatmapgl\"}], \"histogram\": [{\"marker\": {\"colorbar\": {\"outlinewidth\": 0, \"ticks\": \"\"}}, \"type\": \"histogram\"}], \"histogram2d\": [{\"colorbar\": {\"outlinewidth\": 0, \"ticks\": \"\"}, \"colorscale\": [[0.0, \"#0d0887\"], [0.1111111111111111, \"#46039f\"], [0.2222222222222222, \"#7201a8\"], [0.3333333333333333, \"#9c179e\"], [0.4444444444444444, \"#bd3786\"], [0.5555555555555556, \"#d8576b\"], [0.6666666666666666, \"#ed7953\"], [0.7777777777777778, \"#fb9f3a\"], [0.8888888888888888, \"#fdca26\"], [1.0, \"#f0f921\"]], \"type\": \"histogram2d\"}], \"histogram2dcontour\": [{\"colorbar\": {\"outlinewidth\": 0, \"ticks\": \"\"}, \"colorscale\": [[0.0, \"#0d0887\"], [0.1111111111111111, \"#46039f\"], [0.2222222222222222, \"#7201a8\"], [0.3333333333333333, \"#9c179e\"], [0.4444444444444444, \"#bd3786\"], [0.5555555555555556, \"#d8576b\"], [0.6666666666666666, \"#ed7953\"], [0.7777777777777778, \"#fb9f3a\"], [0.8888888888888888, \"#fdca26\"], [1.0, \"#f0f921\"]], \"type\": \"histogram2dcontour\"}], \"mesh3d\": [{\"colorbar\": {\"outlinewidth\": 0, \"ticks\": \"\"}, \"type\": \"mesh3d\"}], \"parcoords\": [{\"line\": {\"colorbar\": {\"outlinewidth\": 0, \"ticks\": \"\"}}, \"type\": \"parcoords\"}], \"pie\": [{\"automargin\": true, \"type\": \"pie\"}], \"scatter\": [{\"marker\": {\"colorbar\": {\"outlinewidth\": 0, \"ticks\": \"\"}}, \"type\": \"scatter\"}], \"scatter3d\": [{\"line\": {\"colorbar\": {\"outlinewidth\": 0, \"ticks\": \"\"}}, \"marker\": {\"colorbar\": {\"outlinewidth\": 0, \"ticks\": \"\"}}, \"type\": \"scatter3d\"}], \"scattercarpet\": [{\"marker\": {\"colorbar\": {\"outlinewidth\": 0, \"ticks\": \"\"}}, \"type\": \"scattercarpet\"}], \"scattergeo\": [{\"marker\": {\"colorbar\": {\"outlinewidth\": 0, \"ticks\": \"\"}}, \"type\": \"scattergeo\"}], \"scattergl\": [{\"marker\": {\"colorbar\": {\"outlinewidth\": 0, \"ticks\": \"\"}}, \"type\": \"scattergl\"}], \"scattermapbox\": [{\"marker\": {\"colorbar\": {\"outlinewidth\": 0, \"ticks\": \"\"}}, \"type\": \"scattermapbox\"}], \"scatterpolar\": [{\"marker\": {\"colorbar\": {\"outlinewidth\": 0, \"ticks\": \"\"}}, \"type\": \"scatterpolar\"}], \"scatterpolargl\": [{\"marker\": {\"colorbar\": {\"outlinewidth\": 0, \"ticks\": \"\"}}, \"type\": \"scatterpolargl\"}], \"scatterternary\": [{\"marker\": {\"colorbar\": {\"outlinewidth\": 0, \"ticks\": \"\"}}, \"type\": \"scatterternary\"}], \"surface\": [{\"colorbar\": {\"outlinewidth\": 0, \"ticks\": \"\"}, \"colorscale\": [[0.0, \"#0d0887\"], [0.1111111111111111, \"#46039f\"], [0.2222222222222222, \"#7201a8\"], [0.3333333333333333, \"#9c179e\"], [0.4444444444444444, \"#bd3786\"], [0.5555555555555556, \"#d8576b\"], [0.6666666666666666, \"#ed7953\"], [0.7777777777777778, \"#fb9f3a\"], [0.8888888888888888, \"#fdca26\"], [1.0, \"#f0f921\"]], \"type\": \"surface\"}], \"table\": [{\"cells\": {\"fill\": {\"color\": \"#EBF0F8\"}, \"line\": {\"color\": \"white\"}}, \"header\": {\"fill\": {\"color\": \"#C8D4E3\"}, \"line\": {\"color\": \"white\"}}, \"type\": \"table\"}]}, \"layout\": {\"annotationdefaults\": {\"arrowcolor\": \"#2a3f5f\", \"arrowhead\": 0, \"arrowwidth\": 1}, \"coloraxis\": {\"colorbar\": {\"outlinewidth\": 0, \"ticks\": \"\"}}, \"colorscale\": {\"diverging\": [[0, \"#8e0152\"], [0.1, \"#c51b7d\"], [0.2, \"#de77ae\"], [0.3, \"#f1b6da\"], [0.4, \"#fde0ef\"], [0.5, \"#f7f7f7\"], [0.6, \"#e6f5d0\"], [0.7, \"#b8e186\"], [0.8, \"#7fbc41\"], [0.9, \"#4d9221\"], [1, \"#276419\"]], \"sequential\": [[0.0, \"#0d0887\"], [0.1111111111111111, \"#46039f\"], [0.2222222222222222, \"#7201a8\"], [0.3333333333333333, \"#9c179e\"], [0.4444444444444444, \"#bd3786\"], [0.5555555555555556, \"#d8576b\"], [0.6666666666666666, \"#ed7953\"], [0.7777777777777778, \"#fb9f3a\"], [0.8888888888888888, \"#fdca26\"], [1.0, \"#f0f921\"]], \"sequentialminus\": [[0.0, \"#0d0887\"], [0.1111111111111111, \"#46039f\"], [0.2222222222222222, \"#7201a8\"], [0.3333333333333333, \"#9c179e\"], [0.4444444444444444, \"#bd3786\"], [0.5555555555555556, \"#d8576b\"], [0.6666666666666666, \"#ed7953\"], [0.7777777777777778, \"#fb9f3a\"], [0.8888888888888888, \"#fdca26\"], [1.0, \"#f0f921\"]]}, \"colorway\": [\"#636efa\", \"#EF553B\", \"#00cc96\", \"#ab63fa\", \"#FFA15A\", \"#19d3f3\", \"#FF6692\", \"#B6E880\", \"#FF97FF\", \"#FECB52\"], \"font\": {\"color\": \"#2a3f5f\"}, \"geo\": {\"bgcolor\": \"white\", \"lakecolor\": \"white\", \"landcolor\": \"#E5ECF6\", \"showlakes\": true, \"showland\": true, \"subunitcolor\": \"white\"}, \"hoverlabel\": {\"align\": \"left\"}, \"hovermode\": \"closest\", \"mapbox\": {\"style\": \"light\"}, \"paper_bgcolor\": \"white\", \"plot_bgcolor\": \"#E5ECF6\", \"polar\": {\"angularaxis\": {\"gridcolor\": \"white\", \"linecolor\": \"white\", \"ticks\": \"\"}, \"bgcolor\": \"#E5ECF6\", \"radialaxis\": {\"gridcolor\": \"white\", \"linecolor\": \"white\", \"ticks\": \"\"}}, \"scene\": {\"xaxis\": {\"backgroundcolor\": \"#E5ECF6\", \"gridcolor\": \"white\", \"gridwidth\": 2, \"linecolor\": \"white\", \"showbackground\": true, \"ticks\": \"\", \"zerolinecolor\": \"white\"}, \"yaxis\": {\"backgroundcolor\": \"#E5ECF6\", \"gridcolor\": \"white\", \"gridwidth\": 2, \"linecolor\": \"white\", \"showbackground\": true, \"ticks\": \"\", \"zerolinecolor\": \"white\"}, \"zaxis\": {\"backgroundcolor\": \"#E5ECF6\", \"gridcolor\": \"white\", \"gridwidth\": 2, \"linecolor\": \"white\", \"showbackground\": true, \"ticks\": \"\", \"zerolinecolor\": \"white\"}}, \"shapedefaults\": {\"line\": {\"color\": \"#2a3f5f\"}}, \"ternary\": {\"aaxis\": {\"gridcolor\": \"white\", \"linecolor\": \"white\", \"ticks\": \"\"}, \"baxis\": {\"gridcolor\": \"white\", \"linecolor\": \"white\", \"ticks\": \"\"}, \"bgcolor\": \"#E5ECF6\", \"caxis\": {\"gridcolor\": \"white\", \"linecolor\": \"white\", \"ticks\": \"\"}}, \"title\": {\"x\": 0.05}, \"xaxis\": {\"automargin\": true, \"gridcolor\": \"white\", \"linecolor\": \"white\", \"ticks\": \"\", \"title\": {\"standoff\": 15}, \"zerolinecolor\": \"white\", \"zerolinewidth\": 2}, \"yaxis\": {\"automargin\": true, \"gridcolor\": \"white\", \"linecolor\": \"white\", \"ticks\": \"\", \"title\": {\"standoff\": 15}, \"zerolinecolor\": \"white\", \"zerolinewidth\": 2}}}, \"xaxis\": {\"anchor\": \"y\", \"domain\": [0.0, 1.0], \"title\": {\"text\": \"Industries\"}}, \"yaxis\": {\"anchor\": \"x\", \"domain\": [0.0, 1.0]}},\n",
              "                        {\"responsive\": true}\n",
              "                    ).then(function(){\n",
              "                            \n",
              "var gd = document.getElementById('48a5a53c-9600-41ff-8873-717d502d39c9');\n",
              "var x = new MutationObserver(function (mutations, observer) {{\n",
              "        var display = window.getComputedStyle(gd).display;\n",
              "        if (!display || display === 'none') {{\n",
              "            console.log([gd, 'removed!']);\n",
              "            Plotly.purge(gd);\n",
              "            observer.disconnect();\n",
              "        }}\n",
              "}});\n",
              "\n",
              "// Listen for the removal of the full notebook cells\n",
              "var notebookContainer = gd.closest('#notebook-container');\n",
              "if (notebookContainer) {{\n",
              "    x.observe(notebookContainer, {childList: true});\n",
              "}}\n",
              "\n",
              "// Listen for the clearing of the current output cell\n",
              "var outputEl = gd.closest('.output');\n",
              "if (outputEl) {{\n",
              "    x.observe(outputEl, {childList: true});\n",
              "}}\n",
              "\n",
              "                        })\n",
              "                };\n",
              "                \n",
              "            </script>\n",
              "        </div>\n",
              "</body>\n",
              "</html>"
            ]
          },
          "metadata": {
            "tags": []
          }
        }
      ]
    },
    {
      "cell_type": "markdown",
      "metadata": {
        "id": "MICq2giRqCxc"
      },
      "source": [
        "Let us also check the distribution of data to prevent any biases in Model. We ould prefer the data to be equaly divided or somewhere closer. in our case the data counts for the two types (Tech or Non-Tech) is close enough and comparable. In this case, furthur normalization is thus not needed."
      ]
    },
    {
      "cell_type": "code",
      "metadata": {
        "colab": {
          "base_uri": "https://localhost:8080/",
          "height": 410
        },
        "id": "MOBrYTlvpFtQ",
        "outputId": "8f1f5627-7757-46d2-e6fd-128c7a2ebf13"
      },
      "source": [
        "fig = plt.figure(figsize = (10, 5))\n",
        "ax = df['is_tech'].value_counts().plot(kind='bar',\n",
        "                                    figsize=(9,6),\n",
        "                                    title=\"Count of Companies tech vs Non tech\")\n",
        "ax.set_xlabel(\"1 = Tech | 0 = Non-tech\")\n",
        "ax.set_ylabel(\"Count\")\n",
        "plt.show()"
      ],
      "execution_count": null,
      "outputs": [
        {
          "output_type": "display_data",
          "data": {
            "image/png": "[encoded data removed]",
            "text/plain": [
              "<Figure size 648x432 with 1 Axes>"
            ]
          },
          "metadata": {
            "tags": [],
            "needs_background": "light"
          }
        }
      ]
    },
    {
      "cell_type": "markdown",
      "metadata": {
        "id": "_lH7lcZr_Ii6"
      },
      "source": [
        "Let us now take a look at how well the data correlates with each other and try to visualize it using a heatmap."
      ]
    },
    {
      "cell_type": "code",
      "metadata": {
        "colab": {
          "base_uri": "https://localhost:8080/",
          "height": 823
        },
        "id": "vIYVIAjYsQHr",
        "outputId": "a81b9827-435c-48b3-f26b-6a5afefa25db"
      },
      "source": [
        "df2=df\n",
        "df2 = df2.drop(columns = ['OrganizationName','Industries','HeadquartersLocation','Ind_type'])\n",
        "plt.figure(figsize = (14,12))\n",
        "sn.heatmap(df2.corr(),annot=True, vmin=-1.0, cmap='mako')"
      ],
      "execution_count": null,
      "outputs": [
        {
          "output_type": "execute_result",
          "data": {
            "text/plain": [
              "<matplotlib.axes._subplots.AxesSubplot at 0x7f810c5d0210>"
            ]
          },
          "metadata": {
            "tags": []
          },
          "execution_count": 12
        },
        {
          "output_type": "display_data",
          "data": {
            "image/png": "[encoded data removed]",
            "text/plain": [
              "<Figure size 1008x864 with 2 Axes>"
            ]
          },
          "metadata": {
            "tags": [],
            "needs_background": "light"
          }
        }
      ]
    },
    {
      "cell_type": "markdown",
      "metadata": {
        "id": "yuhxt-OUq0br"
      },
      "source": [
        "We can also try and consider visualizing  validity of CB Rank. Below we can not that there is a negative correlation of CB Rank with almost every factor. ie Lower the CB rank - higher the factores (ie No of Article, No of Investors, Patents, Trademarks etc)"
      ]
    },
    {
      "cell_type": "code",
      "metadata": {
        "colab": {
          "base_uri": "https://localhost:8080/",
          "height": 636
        },
        "id": "FQvVr5Ph1waX",
        "outputId": "cd85ccff-186c-4571-bc5b-65ab2f9bbecf"
      },
      "source": [
        "#CORRELATION WITH CBRANKS\n",
        "dummy = df2.copy().drop(columns = ['CBRank'])\n",
        "\n",
        "dummy.corrwith(df2.CBRank).plot.bar(figsize = (8,8),\n",
        "                                      title = 'Correlation with CB Rank',\n",
        "                                      fontsize = 15, rot = 45,\n",
        "                                      grid = True)"
      ],
      "execution_count": null,
      "outputs": [
        {
          "output_type": "execute_result",
          "data": {
            "text/plain": [
              "<matplotlib.axes._subplots.AxesSubplot at 0x7f8103787bd0>"
            ]
          },
          "metadata": {
            "tags": []
          },
          "execution_count": 13
        },
        {
          "output_type": "display_data",
          "data": {
            "image/png": "[encoded data removed]",
            "text/plain": [
              "<Figure size 576x576 with 1 Axes>"
            ]
          },
          "metadata": {
            "tags": [],
            "needs_background": "light"
          }
        }
      ]
    },
    {
      "cell_type": "code",
      "metadata": {
        "colab": {
          "base_uri": "https://localhost:8080/",
          "height": 419
        },
        "id": "B6WtoBynrQOB",
        "outputId": "cbe2dae7-a8ae-49da-851c-b7a42f9b3f99"
      },
      "source": [
        "df2"
      ],
      "execution_count": null,
      "outputs": [
        {
          "output_type": "execute_result",
          "data": {
            "text/html": [
              "<div>\n",
              "<style scoped>\n",
              "    .dataframe tbody tr th:only-of-type {\n",
              "        vertical-align: middle;\n",
              "    }\n",
              "\n",
              "    .dataframe tbody tr th {\n",
              "        vertical-align: top;\n",
              "    }\n",
              "\n",
              "    .dataframe thead th {\n",
              "        text-align: right;\n",
              "    }\n",
              "</style>\n",
              "<table border=\"1\" class=\"dataframe\">\n",
              "  <thead>\n",
              "    <tr style=\"text-align: right;\">\n",
              "      <th></th>\n",
              "      <th>CBRank</th>\n",
              "      <th>NumberofArticles</th>\n",
              "      <th>CompanyType</th>\n",
              "      <th>NumberofInvestors</th>\n",
              "      <th>PatentsGranted</th>\n",
              "      <th>TrademarksRegistered</th>\n",
              "      <th>ActiveTechCount</th>\n",
              "      <th>TrendScore</th>\n",
              "      <th>is_tech</th>\n",
              "    </tr>\n",
              "  </thead>\n",
              "  <tbody>\n",
              "    <tr>\n",
              "      <th>0</th>\n",
              "      <td>1</td>\n",
              "      <td>8068.0</td>\n",
              "      <td>For Profit</td>\n",
              "      <td>1.0</td>\n",
              "      <td>246.0</td>\n",
              "      <td>68.0</td>\n",
              "      <td>94.0</td>\n",
              "      <td>1.2</td>\n",
              "      <td>0.0</td>\n",
              "    </tr>\n",
              "    <tr>\n",
              "      <th>1</th>\n",
              "      <td>2</td>\n",
              "      <td>219.0</td>\n",
              "      <td>For Profit</td>\n",
              "      <td>32.0</td>\n",
              "      <td>0.0</td>\n",
              "      <td>7.0</td>\n",
              "      <td>87.0</td>\n",
              "      <td>5.1</td>\n",
              "      <td>1.0</td>\n",
              "    </tr>\n",
              "    <tr>\n",
              "      <th>2</th>\n",
              "      <td>3</td>\n",
              "      <td>1280.0</td>\n",
              "      <td>For Profit</td>\n",
              "      <td>9.0</td>\n",
              "      <td>0.0</td>\n",
              "      <td>3.0</td>\n",
              "      <td>30.0</td>\n",
              "      <td>-0.4</td>\n",
              "      <td>0.0</td>\n",
              "    </tr>\n",
              "    <tr>\n",
              "      <th>3</th>\n",
              "      <td>4</td>\n",
              "      <td>2890.0</td>\n",
              "      <td>For Profit</td>\n",
              "      <td>18.0</td>\n",
              "      <td>8.0</td>\n",
              "      <td>11.0</td>\n",
              "      <td>71.0</td>\n",
              "      <td>2.3</td>\n",
              "      <td>0.0</td>\n",
              "    </tr>\n",
              "    <tr>\n",
              "      <th>5</th>\n",
              "      <td>6</td>\n",
              "      <td>37.0</td>\n",
              "      <td>For Profit</td>\n",
              "      <td>3.0</td>\n",
              "      <td>0.0</td>\n",
              "      <td>2.0</td>\n",
              "      <td>45.0</td>\n",
              "      <td>9.3</td>\n",
              "      <td>1.0</td>\n",
              "    </tr>\n",
              "    <tr>\n",
              "      <th>...</th>\n",
              "      <td>...</td>\n",
              "      <td>...</td>\n",
              "      <td>...</td>\n",
              "      <td>...</td>\n",
              "      <td>...</td>\n",
              "      <td>...</td>\n",
              "      <td>...</td>\n",
              "      <td>...</td>\n",
              "      <td>...</td>\n",
              "    </tr>\n",
              "    <tr>\n",
              "      <th>9990</th>\n",
              "      <td>9992</td>\n",
              "      <td>27.0</td>\n",
              "      <td>For Profit</td>\n",
              "      <td>8.0</td>\n",
              "      <td>0.0</td>\n",
              "      <td>1.0</td>\n",
              "      <td>71.0</td>\n",
              "      <td>-0.1</td>\n",
              "      <td>0.0</td>\n",
              "    </tr>\n",
              "    <tr>\n",
              "      <th>9991</th>\n",
              "      <td>9993</td>\n",
              "      <td>1.0</td>\n",
              "      <td>For Profit</td>\n",
              "      <td>7.0</td>\n",
              "      <td>7.0</td>\n",
              "      <td>0.0</td>\n",
              "      <td>41.0</td>\n",
              "      <td>-0.3</td>\n",
              "      <td>0.0</td>\n",
              "    </tr>\n",
              "    <tr>\n",
              "      <th>9992</th>\n",
              "      <td>9994</td>\n",
              "      <td>181.0</td>\n",
              "      <td>For Profit</td>\n",
              "      <td>2.0</td>\n",
              "      <td>317.0</td>\n",
              "      <td>31.0</td>\n",
              "      <td>38.0</td>\n",
              "      <td>-4.7</td>\n",
              "      <td>1.0</td>\n",
              "    </tr>\n",
              "    <tr>\n",
              "      <th>9993</th>\n",
              "      <td>9995</td>\n",
              "      <td>3.0</td>\n",
              "      <td>For Profit</td>\n",
              "      <td>3.0</td>\n",
              "      <td>0.0</td>\n",
              "      <td>2.0</td>\n",
              "      <td>40.0</td>\n",
              "      <td>-0.7</td>\n",
              "      <td>1.0</td>\n",
              "    </tr>\n",
              "    <tr>\n",
              "      <th>9998</th>\n",
              "      <td>10000</td>\n",
              "      <td>3.0</td>\n",
              "      <td>For Profit</td>\n",
              "      <td>5.0</td>\n",
              "      <td>1.0</td>\n",
              "      <td>2.0</td>\n",
              "      <td>55.0</td>\n",
              "      <td>6.3</td>\n",
              "      <td>1.0</td>\n",
              "    </tr>\n",
              "  </tbody>\n",
              "</table>\n",
              "<p>5956 rows × 9 columns</p>\n",
              "</div>"
            ],
            "text/plain": [
              "      CBRank  NumberofArticles  ... TrendScore  is_tech\n",
              "0          1            8068.0  ...        1.2      0.0\n",
              "1          2             219.0  ...        5.1      1.0\n",
              "2          3            1280.0  ...       -0.4      0.0\n",
              "3          4            2890.0  ...        2.3      0.0\n",
              "5          6              37.0  ...        9.3      1.0\n",
              "...      ...               ...  ...        ...      ...\n",
              "9990    9992              27.0  ...       -0.1      0.0\n",
              "9991    9993               1.0  ...       -0.3      0.0\n",
              "9992    9994             181.0  ...       -4.7      1.0\n",
              "9993    9995               3.0  ...       -0.7      1.0\n",
              "9998   10000               3.0  ...        6.3      1.0\n",
              "\n",
              "[5956 rows x 9 columns]"
            ]
          },
          "metadata": {
            "tags": []
          },
          "execution_count": 14
        }
      ]
    },
    {
      "cell_type": "markdown",
      "metadata": {
        "id": "eMfa6WaiBQUy"
      },
      "source": [
        "This is how our cleaned dataset looks so far ;) <br> Now let us try and explore possible relationships or how well do these parametrs explain the designation of these companies as Tech or Non-Tech in the dataframe using ML algorithms we learnt in DMAP. In a way we are asking the computer to mimic the human brain that wa sinvolved in designating these companies as Tech or Non-Tech to develop a model for future designations."
      ]
    },
    {
      "cell_type": "markdown",
      "metadata": {
        "id": "AVqckiHyDUkD"
      },
      "source": [
        "# Data Analysis"
      ]
    },
    {
      "cell_type": "code",
      "metadata": {
        "colab": {
          "base_uri": "https://localhost:8080/",
          "height": 419
        },
        "id": "vUYQlGzE5Tjy",
        "outputId": "651e174f-1612-4983-9918-3206f0ec926a"
      },
      "source": [
        "# Define the x and y axis\n",
        "df_clean=df2\n",
        "y = df_clean.is_tech\n",
        "cols = [\"CBRank\",\"NumberofArticles\",\"NumberofInvestors\",\"PatentsGranted\",\"TrademarksRegistered\",\"ActiveTechCount\",\"TrendScore\"] \n",
        "x=df_clean[cols]\n",
        "x"
      ],
      "execution_count": null,
      "outputs": [
        {
          "output_type": "execute_result",
          "data": {
            "text/html": [
              "<div>\n",
              "<style scoped>\n",
              "    .dataframe tbody tr th:only-of-type {\n",
              "        vertical-align: middle;\n",
              "    }\n",
              "\n",
              "    .dataframe tbody tr th {\n",
              "        vertical-align: top;\n",
              "    }\n",
              "\n",
              "    .dataframe thead th {\n",
              "        text-align: right;\n",
              "    }\n",
              "</style>\n",
              "<table border=\"1\" class=\"dataframe\">\n",
              "  <thead>\n",
              "    <tr style=\"text-align: right;\">\n",
              "      <th></th>\n",
              "      <th>CBRank</th>\n",
              "      <th>NumberofArticles</th>\n",
              "      <th>NumberofInvestors</th>\n",
              "      <th>PatentsGranted</th>\n",
              "      <th>TrademarksRegistered</th>\n",
              "      <th>ActiveTechCount</th>\n",
              "      <th>TrendScore</th>\n",
              "    </tr>\n",
              "  </thead>\n",
              "  <tbody>\n",
              "    <tr>\n",
              "      <th>0</th>\n",
              "      <td>1</td>\n",
              "      <td>8068.0</td>\n",
              "      <td>1.0</td>\n",
              "      <td>246.0</td>\n",
              "      <td>68.0</td>\n",
              "      <td>94.0</td>\n",
              "      <td>1.2</td>\n",
              "    </tr>\n",
              "    <tr>\n",
              "      <th>1</th>\n",
              "      <td>2</td>\n",
              "      <td>219.0</td>\n",
              "      <td>32.0</td>\n",
              "      <td>0.0</td>\n",
              "      <td>7.0</td>\n",
              "      <td>87.0</td>\n",
              "      <td>5.1</td>\n",
              "    </tr>\n",
              "    <tr>\n",
              "      <th>2</th>\n",
              "      <td>3</td>\n",
              "      <td>1280.0</td>\n",
              "      <td>9.0</td>\n",
              "      <td>0.0</td>\n",
              "      <td>3.0</td>\n",
              "      <td>30.0</td>\n",
              "      <td>-0.4</td>\n",
              "    </tr>\n",
              "    <tr>\n",
              "      <th>3</th>\n",
              "      <td>4</td>\n",
              "      <td>2890.0</td>\n",
              "      <td>18.0</td>\n",
              "      <td>8.0</td>\n",
              "      <td>11.0</td>\n",
              "      <td>71.0</td>\n",
              "      <td>2.3</td>\n",
              "    </tr>\n",
              "    <tr>\n",
              "      <th>5</th>\n",
              "      <td>6</td>\n",
              "      <td>37.0</td>\n",
              "      <td>3.0</td>\n",
              "      <td>0.0</td>\n",
              "      <td>2.0</td>\n",
              "      <td>45.0</td>\n",
              "      <td>9.3</td>\n",
              "    </tr>\n",
              "    <tr>\n",
              "      <th>...</th>\n",
              "      <td>...</td>\n",
              "      <td>...</td>\n",
              "      <td>...</td>\n",
              "      <td>...</td>\n",
              "      <td>...</td>\n",
              "      <td>...</td>\n",
              "      <td>...</td>\n",
              "    </tr>\n",
              "    <tr>\n",
              "      <th>9990</th>\n",
              "      <td>9992</td>\n",
              "      <td>27.0</td>\n",
              "      <td>8.0</td>\n",
              "      <td>0.0</td>\n",
              "      <td>1.0</td>\n",
              "      <td>71.0</td>\n",
              "      <td>-0.1</td>\n",
              "    </tr>\n",
              "    <tr>\n",
              "      <th>9991</th>\n",
              "      <td>9993</td>\n",
              "      <td>1.0</td>\n",
              "      <td>7.0</td>\n",
              "      <td>7.0</td>\n",
              "      <td>0.0</td>\n",
              "      <td>41.0</td>\n",
              "      <td>-0.3</td>\n",
              "    </tr>\n",
              "    <tr>\n",
              "      <th>9992</th>\n",
              "      <td>9994</td>\n",
              "      <td>181.0</td>\n",
              "      <td>2.0</td>\n",
              "      <td>317.0</td>\n",
              "      <td>31.0</td>\n",
              "      <td>38.0</td>\n",
              "      <td>-4.7</td>\n",
              "    </tr>\n",
              "    <tr>\n",
              "      <th>9993</th>\n",
              "      <td>9995</td>\n",
              "      <td>3.0</td>\n",
              "      <td>3.0</td>\n",
              "      <td>0.0</td>\n",
              "      <td>2.0</td>\n",
              "      <td>40.0</td>\n",
              "      <td>-0.7</td>\n",
              "    </tr>\n",
              "    <tr>\n",
              "      <th>9998</th>\n",
              "      <td>10000</td>\n",
              "      <td>3.0</td>\n",
              "      <td>5.0</td>\n",
              "      <td>1.0</td>\n",
              "      <td>2.0</td>\n",
              "      <td>55.0</td>\n",
              "      <td>6.3</td>\n",
              "    </tr>\n",
              "  </tbody>\n",
              "</table>\n",
              "<p>5956 rows × 7 columns</p>\n",
              "</div>"
            ],
            "text/plain": [
              "      CBRank  NumberofArticles  ...  ActiveTechCount  TrendScore\n",
              "0          1            8068.0  ...             94.0         1.2\n",
              "1          2             219.0  ...             87.0         5.1\n",
              "2          3            1280.0  ...             30.0        -0.4\n",
              "3          4            2890.0  ...             71.0         2.3\n",
              "5          6              37.0  ...             45.0         9.3\n",
              "...      ...               ...  ...              ...         ...\n",
              "9990    9992              27.0  ...             71.0        -0.1\n",
              "9991    9993               1.0  ...             41.0        -0.3\n",
              "9992    9994             181.0  ...             38.0        -4.7\n",
              "9993    9995               3.0  ...             40.0        -0.7\n",
              "9998   10000               3.0  ...             55.0         6.3\n",
              "\n",
              "[5956 rows x 7 columns]"
            ]
          },
          "metadata": {
            "tags": []
          },
          "execution_count": 15
        }
      ]
    },
    {
      "cell_type": "markdown",
      "metadata": {
        "id": "bJUDWn-Vr-q4"
      },
      "source": [
        "In order to split the data into testing and training sets, I used the TraintestSplit method of scikit learn. Split arrays or matrices into random train and test subsets\n",
        "It is a quick utility that wraps input validation and and application to input data into a single call for splitting (and optionally subsampling) data in a oneliner."
      ]
    },
    {
      "cell_type": "code",
      "metadata": {
        "id": "ueCck65R5dHd"
      },
      "source": [
        "warnings.filterwarnings(\"ignore\")\n",
        "X_train, X_test, y_train, y_test = train_test_split(x, y, test_size=0.2, random_state=2)"
      ],
      "execution_count": null,
      "outputs": []
    },
    {
      "cell_type": "markdown",
      "metadata": {
        "id": "puhKCpPasXhD"
      },
      "source": [
        "# Running ML Processes\n",
        "In this analysis seven algorithms would be tested for performance with dataset.\n",
        "These are-\n",
        "\n",
        "\n",
        "*   [Logistic Regression](https://en.wikipedia.org/wiki/Logistic_regression)\n",
        "*   [Decision Trees](https://en.wikipedia.org/wiki/Decision_tree)\n",
        "*   [Random Forest](https://en.wikipedia.org/wiki/Random_forest)\n",
        "*   [k-nearest neighbors](https://en.wikipedia.org/wiki/K-nearest_neighbors_algorithm)\n",
        "*   [Support Vector Machine (SVM)](https://en.wikipedia.org/wiki/Support-vector_machine)\n",
        "*   [Gradient Boosting](https://en.wikipedia.org/wiki/Gradient_boosting)\n",
        "*   [XGboost](https://en.wikipedia.org/wiki/XGBoost)\n",
        "\n",
        "\n",
        "\n",
        "\n",
        "\n",
        "\n",
        "\n"
      ]
    },
    {
      "cell_type": "code",
      "metadata": {
        "colab": {
          "base_uri": "https://localhost:8080/"
        },
        "id": "YeDsrIdpf_hJ",
        "outputId": "2d785406-2a9d-4d2f-90eb-45213465c2c4"
      },
      "source": [
        "# check classification scores of logistic regression\n",
        "logreg = LogisticRegression()\n",
        "logreg.fit(X_train, y_train)\n",
        "lr = logreg.predict(X_test)\n",
        "y_valid=logreg.predict(X_train)\n",
        "print('Train/Test split results:')\n",
        "print(logreg.__class__.__name__+\" accuracy is %2.3f\" % accuracy_score(y_test, lr))\n",
        "print(\"\\n\")\n",
        "\n",
        "# check classification scores of DecisionTreeClassifier\n",
        "dtmodel = tree.DecisionTreeClassifier()\n",
        "dtmodel.fit(X_train, y_train)\n",
        "dt = dtmodel.predict(X_test)\n",
        "print('Train/Test split results:')\n",
        "print(dtmodel.__class__.__name__+\" accuracy is %2.3f\" % accuracy_score(y_test, dt))\n",
        "print(\"\\n\")\n",
        "\n",
        "# check classification scores of RandomForestClassifier\n",
        "rfmodel = RandomForestClassifier(max_depth = 8, random_state = 42)\n",
        "rfmodel.fit(X_train, y_train)\n",
        "rf = rfmodel.predict(X_test)\n",
        "print('Train/Test split results:')\n",
        "print(rfmodel.__class__.__name__+\" accuracy is %2.3f\" % accuracy_score(y_test, rf))\n",
        "print(\"\\n\")\n",
        "\n",
        "# check classification scores of KNeighborsClassifier\n",
        "knnmodel=KNeighborsClassifier(n_neighbors=3) #this examines 3 neighbours for putting the new data into a class\n",
        "knnmodel.fit(X_train, y_train)\n",
        "knn = knnmodel.predict(X_test)\n",
        "print('Train/Test split results:')\n",
        "print(knnmodel.__class__.__name__+\" accuracy is %2.3f\" % accuracy_score(y_test, knn))\n",
        "print(\"\\n\")\n",
        "\n",
        "# check classification scores of SVM\n",
        "from sklearn import svm\n",
        "svmmodel=svm.SVC()\n",
        "svmmodel.fit(X_train, y_train)\n",
        "svm= svmmodel.predict(X_test)\n",
        "print('Train/Test split results:')\n",
        "print(\"SVM accuracy is %2.3f\" % accuracy_score(y_test, svm))\n",
        "print(\"\\n\")\n",
        "\n",
        "#Gradient boosting classifier\n",
        "gbmodel = GradientBoostingClassifier(random_state = 0)\n",
        "gbmodel.fit(X_train, y_train)\n",
        "gbr = gbmodel.predict(X_test)\n",
        "print('Train/Test split results:')\n",
        "print(gbmodel.__class__.__name__+\" accuracy is %2.3f\" % accuracy_score(y_test, gbr))\n",
        "print(\"\\n\")\n",
        "\n",
        "#XGBoost\n",
        "import xgboost as xgb\n",
        "xgbmodel = xgb.XGBRegressor(objective = 'reg:logistic', random_state = 42)\n",
        "xgbmodel.fit(X_train, y_train)\n",
        "xgb = xgbmodel.predict(X_test)\n",
        "for i in range(len(xgb)):\n",
        "  if xgb[i] >= 0.5:\n",
        "    xgb[i]=1\n",
        "  else:\n",
        "    xgb[i]=0\n",
        "print('Train/Test split results:')\n",
        "print(xgbmodel.__class__.__name__+\" accuracy is %2.3f\" % accuracy_score(y_test, xgb))"
      ],
      "execution_count": null,
      "outputs": [
        {
          "output_type": "stream",
          "text": [
            "Train/Test split results:\n",
            "LogisticRegression accuracy is 0.534\n",
            "\n",
            "\n",
            "Train/Test split results:\n",
            "DecisionTreeClassifier accuracy is 0.507\n",
            "\n",
            "\n",
            "Train/Test split results:\n",
            "RandomForestClassifier accuracy is 0.552\n",
            "\n",
            "\n",
            "Train/Test split results:\n",
            "KNeighborsClassifier accuracy is 0.515\n",
            "\n",
            "\n",
            "Train/Test split results:\n",
            "SVM accuracy is 0.535\n",
            "\n",
            "\n",
            "Train/Test split results:\n",
            "GradientBoostingClassifier accuracy is 0.544\n",
            "\n",
            "\n",
            "Train/Test split results:\n",
            "XGBRegressor accuracy is 0.541\n"
          ],
          "name": "stdout"
        }
      ]
    },
    {
      "cell_type": "markdown",
      "metadata": {
        "id": "LbJHhXoCty18"
      },
      "source": [
        "Let us organize the results and use metrics to compare the algorithms in a table."
      ]
    },
    {
      "cell_type": "code",
      "metadata": {
        "colab": {
          "base_uri": "https://localhost:8080/",
          "height": 80
        },
        "id": "B-0-MOVi72es",
        "outputId": "472bdbb9-7b8e-4d51-a9bb-2eda3f081825"
      },
      "source": [
        "# results for Logistic regression\n",
        "\n",
        "ac = accuracy_score(y_test, lr)\n",
        "f1 = f1_score(y_test, lr)\n",
        "ps = precision_score(y_test, lr)\n",
        "rs = recall_score(y_test, lr)\n",
        "\n",
        "results = pd.DataFrame([['Logistic regression', ac, f1, ps, rs ]], columns = ['Model', 'Accuracy', 'F1 score', 'Precision', 'Recall score'])\n",
        "results"
      ],
      "execution_count": null,
      "outputs": [
        {
          "output_type": "execute_result",
          "data": {
            "text/html": [
              "<div>\n",
              "<style scoped>\n",
              "    .dataframe tbody tr th:only-of-type {\n",
              "        vertical-align: middle;\n",
              "    }\n",
              "\n",
              "    .dataframe tbody tr th {\n",
              "        vertical-align: top;\n",
              "    }\n",
              "\n",
              "    .dataframe thead th {\n",
              "        text-align: right;\n",
              "    }\n",
              "</style>\n",
              "<table border=\"1\" class=\"dataframe\">\n",
              "  <thead>\n",
              "    <tr style=\"text-align: right;\">\n",
              "      <th></th>\n",
              "      <th>Model</th>\n",
              "      <th>Accuracy</th>\n",
              "      <th>F1 score</th>\n",
              "      <th>Precision</th>\n",
              "      <th>Recall score</th>\n",
              "    </tr>\n",
              "  </thead>\n",
              "  <tbody>\n",
              "    <tr>\n",
              "      <th>0</th>\n",
              "      <td>Logistic regression</td>\n",
              "      <td>0.533557</td>\n",
              "      <td>0.695509</td>\n",
              "      <td>0.533165</td>\n",
              "      <td>1.0</td>\n",
              "    </tr>\n",
              "  </tbody>\n",
              "</table>\n",
              "</div>"
            ],
            "text/plain": [
              "                 Model  Accuracy  F1 score  Precision  Recall score\n",
              "0  Logistic regression  0.533557  0.695509   0.533165           1.0"
            ]
          },
          "metadata": {
            "tags": []
          },
          "execution_count": 18
        }
      ]
    },
    {
      "cell_type": "code",
      "metadata": {
        "colab": {
          "base_uri": "https://localhost:8080/",
          "height": 266
        },
        "id": "BKQ6sNh78CDu",
        "outputId": "b4c8f227-6242-42c9-c143-b57c37389ce3"
      },
      "source": [
        "models = [dt, rf, knn,svm, gbr, xgb]\n",
        "model_names = ['Decision tree', 'Random forest', 'K-NearestNeighbours','SVM', 'Gradient boost', 'XG boost']\n",
        "index = 0\n",
        "\n",
        "for model in models:\n",
        "    ac = accuracy_score(y_test, model)\n",
        "    f1 = f1_score(y_test, model)\n",
        "    ps = precision_score(y_test, model)\n",
        "    rs = recall_score(y_test, model)\n",
        "    temp_results = pd.DataFrame([[model_names[index], ac, f1, ps, rs]], columns = ['Model', 'Accuracy', 'F1 score', 'Precision', 'Recall score'])\n",
        "    results = results.append(temp_results, ignore_index = True)\n",
        "    index = index + 1\n",
        "results"
      ],
      "execution_count": null,
      "outputs": [
        {
          "output_type": "execute_result",
          "data": {
            "text/html": [
              "<div>\n",
              "<style scoped>\n",
              "    .dataframe tbody tr th:only-of-type {\n",
              "        vertical-align: middle;\n",
              "    }\n",
              "\n",
              "    .dataframe tbody tr th {\n",
              "        vertical-align: top;\n",
              "    }\n",
              "\n",
              "    .dataframe thead th {\n",
              "        text-align: right;\n",
              "    }\n",
              "</style>\n",
              "<table border=\"1\" class=\"dataframe\">\n",
              "  <thead>\n",
              "    <tr style=\"text-align: right;\">\n",
              "      <th></th>\n",
              "      <th>Model</th>\n",
              "      <th>Accuracy</th>\n",
              "      <th>F1 score</th>\n",
              "      <th>Precision</th>\n",
              "      <th>Recall score</th>\n",
              "    </tr>\n",
              "  </thead>\n",
              "  <tbody>\n",
              "    <tr>\n",
              "      <th>0</th>\n",
              "      <td>Logistic regression</td>\n",
              "      <td>0.533557</td>\n",
              "      <td>0.695509</td>\n",
              "      <td>0.533165</td>\n",
              "      <td>1.000000</td>\n",
              "    </tr>\n",
              "    <tr>\n",
              "      <th>1</th>\n",
              "      <td>Decision tree</td>\n",
              "      <td>0.506711</td>\n",
              "      <td>0.532591</td>\n",
              "      <td>0.537721</td>\n",
              "      <td>0.527559</td>\n",
              "    </tr>\n",
              "    <tr>\n",
              "      <th>2</th>\n",
              "      <td>Random forest</td>\n",
              "      <td>0.552013</td>\n",
              "      <td>0.677146</td>\n",
              "      <td>0.549558</td>\n",
              "      <td>0.881890</td>\n",
              "    </tr>\n",
              "    <tr>\n",
              "      <th>3</th>\n",
              "      <td>K-NearestNeighbours</td>\n",
              "      <td>0.515101</td>\n",
              "      <td>0.568012</td>\n",
              "      <td>0.540541</td>\n",
              "      <td>0.598425</td>\n",
              "    </tr>\n",
              "    <tr>\n",
              "      <th>4</th>\n",
              "      <td>SVM</td>\n",
              "      <td>0.535235</td>\n",
              "      <td>0.695604</td>\n",
              "      <td>0.534177</td>\n",
              "      <td>0.996850</td>\n",
              "    </tr>\n",
              "    <tr>\n",
              "      <th>5</th>\n",
              "      <td>Gradient boost</td>\n",
              "      <td>0.543624</td>\n",
              "      <td>0.657862</td>\n",
              "      <td>0.547644</td>\n",
              "      <td>0.823622</td>\n",
              "    </tr>\n",
              "    <tr>\n",
              "      <th>6</th>\n",
              "      <td>XG boost</td>\n",
              "      <td>0.541107</td>\n",
              "      <td>0.650925</td>\n",
              "      <td>0.547210</td>\n",
              "      <td>0.803150</td>\n",
              "    </tr>\n",
              "  </tbody>\n",
              "</table>\n",
              "</div>"
            ],
            "text/plain": [
              "                 Model  Accuracy  F1 score  Precision  Recall score\n",
              "0  Logistic regression  0.533557  0.695509   0.533165      1.000000\n",
              "1        Decision tree  0.506711  0.532591   0.537721      0.527559\n",
              "2        Random forest  0.552013  0.677146   0.549558      0.881890\n",
              "3  K-NearestNeighbours  0.515101  0.568012   0.540541      0.598425\n",
              "4                  SVM  0.535235  0.695604   0.534177      0.996850\n",
              "5       Gradient boost  0.543624  0.657862   0.547644      0.823622\n",
              "6             XG boost  0.541107  0.650925   0.547210      0.803150"
            ]
          },
          "metadata": {
            "tags": []
          },
          "execution_count": 19
        }
      ]
    },
    {
      "cell_type": "markdown",
      "metadata": {
        "id": "OqwTuRxcuAmi"
      },
      "source": [
        "We can see above that the Accuracy in almost every algorithm is almost same, however in case of Random Forest the Accuracy is highest at 55.2% followed by XGboost at 54.3%"
      ]
    },
    {
      "cell_type": "markdown",
      "metadata": {
        "id": "NAAhxCwJ1Wng"
      },
      "source": [
        "# Interactive Plot for displaying Results and Confusion matrix"
      ]
    },
    {
      "cell_type": "code",
      "metadata": {
        "colab": {
          "base_uri": "https://localhost:8080/",
          "height": 405,
          "referenced_widgets": [
            "a52a089459cf47a8a822453cb2e51ba5",
            "e362c99306b74ab3922933e2e903be1f",
            "240b24cbacfc4c79be6c1aae7a4e66a4",
            "18ef2f7edb6b4a24bd97f66b7d8619d6",
            "85a07e7e223948998d8dcae7a1b84969",
            "c22da36cbe914e2b96ad443e4946bd75",
            "c046259d44574aba8c323bee8d582650"
          ]
        },
        "id": "TGKjnzvIvXyN",
        "outputId": "c6b53f14-181b-4a76-fa75-708190c9268a"
      },
      "source": [
        "lrcm = confusion_matrix(y_test, lr)\n",
        "dtcm = confusion_matrix(y_test, dt)\n",
        "rfcm = confusion_matrix(y_test, rf)\n",
        "svmcm = confusion_matrix(y_test, svm)\n",
        "gbcm = confusion_matrix(y_test, gbr)\n",
        "xgbcm = confusion_matrix(y_test, xgb)\n",
        "knncm= confusion_matrix(y_test, knn)\n",
        "\n",
        "def f(Model='Random forest'):\n",
        "    if Model == 'Logistic regression':\n",
        "      cl=lrcm\n",
        "    elif Model == 'Decision tree':\n",
        "      cl=dtcm\n",
        "    elif Model == 'Random forest':\n",
        "      cl=rfcm\n",
        "    elif Model == 'K-NearestNeighbours':\n",
        "      cl=knncm\n",
        "    elif Model == 'SVM':\n",
        "      cl=svmcm\n",
        "    elif Model == 'Gradient boost':\n",
        "      cl=gbcm\n",
        "    elif Model == 'XGBoost':\n",
        "      cl=xgbcm\n",
        "      \n",
        "    %matplotlib inline\n",
        "    row = 0\n",
        "    df_cm = pd.DataFrame(cl, index = (0,1), columns = (0,1))\n",
        "    plt.figure(figsize = (6,4))\n",
        "    sn.set(font_scale = 1.4)\n",
        "    sn.heatmap(df_cm, annot = True, fmt = 'g')\n",
        "    plt.title(Model)\n",
        "    row = row+1\n",
        "    display(results.loc[results['Model'] == Model])\n",
        "print(\"Please select a Model from the dropdown below\")\n",
        "interactive_plot = interactive(f, Model=['Logistic regression', 'Decision tree', 'Random forest','K-NearestNeighbours', 'SVM', 'Gradient boost', 'XGBoost'])\n",
        "output = interactive_plot.children[-1]\n",
        "\n",
        "interactive_plot"
      ],
      "execution_count": null,
      "outputs": [
        {
          "output_type": "stream",
          "text": [
            "Please select a Model from the dropdown below\n"
          ],
          "name": "stdout"
        },
        {
          "output_type": "display_data",
          "data": {
            "application/vnd.jupyter.widget-view+json": {
              "model_id": "a52a089459cf47a8a822453cb2e51ba5",
              "version_minor": 0,
              "version_major": 2
            },
            "text/plain": [
              "interactive(children=(Dropdown(description='Model', index=2, options=('Logistic regression', 'Decision tree', …"
            ]
          },
          "metadata": {
            "tags": []
          }
        }
      ]
    },
    {
      "cell_type": "markdown",
      "metadata": {
        "id": "QHgmmT2XDXSu"
      },
      "source": [
        "# Conclusion\n",
        "Although the accuracy of the models is not great but this exercise helped to understand implementation of ML algorithms on any datasets. We can use this analysis to make simple models for our day to day research project to identify trends and patterns in datasets."
      ]
    },
    {
      "cell_type": "code",
      "metadata": {
        "colab": {
          "base_uri": "https://localhost:8080/",
          "height": 266
        },
        "id": "h08VWjKYrn-F",
        "outputId": "557d3cf6-f903-4a98-e320-fce1800a705d"
      },
      "source": [
        "results"
      ],
      "execution_count": null,
      "outputs": [
        {
          "output_type": "execute_result",
          "data": {
            "text/html": [
              "<div>\n",
              "<style scoped>\n",
              "    .dataframe tbody tr th:only-of-type {\n",
              "        vertical-align: middle;\n",
              "    }\n",
              "\n",
              "    .dataframe tbody tr th {\n",
              "        vertical-align: top;\n",
              "    }\n",
              "\n",
              "    .dataframe thead th {\n",
              "        text-align: right;\n",
              "    }\n",
              "</style>\n",
              "<table border=\"1\" class=\"dataframe\">\n",
              "  <thead>\n",
              "    <tr style=\"text-align: right;\">\n",
              "      <th></th>\n",
              "      <th>Model</th>\n",
              "      <th>Accuracy</th>\n",
              "      <th>F1 score</th>\n",
              "      <th>Precision</th>\n",
              "      <th>Recall score</th>\n",
              "    </tr>\n",
              "  </thead>\n",
              "  <tbody>\n",
              "    <tr>\n",
              "      <th>0</th>\n",
              "      <td>Logistic regression</td>\n",
              "      <td>0.533557</td>\n",
              "      <td>0.695509</td>\n",
              "      <td>0.533165</td>\n",
              "      <td>1.000000</td>\n",
              "    </tr>\n",
              "    <tr>\n",
              "      <th>1</th>\n",
              "      <td>Decision tree</td>\n",
              "      <td>0.506711</td>\n",
              "      <td>0.532591</td>\n",
              "      <td>0.537721</td>\n",
              "      <td>0.527559</td>\n",
              "    </tr>\n",
              "    <tr>\n",
              "      <th>2</th>\n",
              "      <td>Random forest</td>\n",
              "      <td>0.552013</td>\n",
              "      <td>0.677146</td>\n",
              "      <td>0.549558</td>\n",
              "      <td>0.881890</td>\n",
              "    </tr>\n",
              "    <tr>\n",
              "      <th>3</th>\n",
              "      <td>K-NearestNeighbours</td>\n",
              "      <td>0.515101</td>\n",
              "      <td>0.568012</td>\n",
              "      <td>0.540541</td>\n",
              "      <td>0.598425</td>\n",
              "    </tr>\n",
              "    <tr>\n",
              "      <th>4</th>\n",
              "      <td>SVM</td>\n",
              "      <td>0.535235</td>\n",
              "      <td>0.695604</td>\n",
              "      <td>0.534177</td>\n",
              "      <td>0.996850</td>\n",
              "    </tr>\n",
              "    <tr>\n",
              "      <th>5</th>\n",
              "      <td>Gradient boost</td>\n",
              "      <td>0.543624</td>\n",
              "      <td>0.657862</td>\n",
              "      <td>0.547644</td>\n",
              "      <td>0.823622</td>\n",
              "    </tr>\n",
              "    <tr>\n",
              "      <th>6</th>\n",
              "      <td>XG boost</td>\n",
              "      <td>0.541107</td>\n",
              "      <td>0.650925</td>\n",
              "      <td>0.547210</td>\n",
              "      <td>0.803150</td>\n",
              "    </tr>\n",
              "  </tbody>\n",
              "</table>\n",
              "</div>"
            ],
            "text/plain": [
              "                 Model  Accuracy  F1 score  Precision  Recall score\n",
              "0  Logistic regression  0.533557  0.695509   0.533165      1.000000\n",
              "1        Decision tree  0.506711  0.532591   0.537721      0.527559\n",
              "2        Random forest  0.552013  0.677146   0.549558      0.881890\n",
              "3  K-NearestNeighbours  0.515101  0.568012   0.540541      0.598425\n",
              "4                  SVM  0.535235  0.695604   0.534177      0.996850\n",
              "5       Gradient boost  0.543624  0.657862   0.547644      0.823622\n",
              "6             XG boost  0.541107  0.650925   0.547210      0.803150"
            ]
          },
          "metadata": {
            "tags": []
          },
          "execution_count": 21
        }
      ]
    },
    {
      "cell_type": "markdown",
      "metadata": {
        "id": "7pl2wqTtSBiJ"
      },
      "source": [
        "**Accuracy**\n",
        "Accuracy is the basic metric to evaluate classification models and measures the percentage of correctly predicted data against the total data. This is a metric that is best used for a balanced data set. In order to find out the accuracy, we should have a confusion matrix.\n",
        "\n",
        "**Precision**\n",
        "Precision is a metric that quantifies the number of correct positive predictions made. This is a metric that can be used for an unbalanced data set. In essence, It is calculated as the ratio of correctly predicted positive examples divided by the total number of positive examples that were predicted\n",
        "\n",
        "**Recall / Sensitivity**\n",
        "Recall is calculated as the number of true positives divided by the total number of true positives and false negatives. This is a metric that can be used for an unbalanced data set.\n",
        "\n",
        "**F1 Score**\n",
        "F1 Score measure provides a way to combine both precision and recall into a single measure that captures both properties.\n",
        "As mentioned before, precision is a metric to minimize false positive rate (model too ‘confident’ labels data as ‘positive’). On the other hand, recall is a metric to minimize false positive rate (the model fails to detect data that is actually ‘positive’)."
      ]
    },
    {
      "cell_type": "markdown",
      "metadata": {
        "id": "v7ywUxdIssi7"
      },
      "source": [
        "#Predictions\n",
        "Let us use our model to make predictions and make a simple application to predict if a company is Tech company or Not!"
      ]
    },
    {
      "cell_type": "code",
      "metadata": {
        "colab": {
          "base_uri": "https://localhost:8080/"
        },
        "id": "rUnjT6XQ7gtw",
        "outputId": "3676d34a-c7ec-4693-fbaf-dbe8ef60a865"
      },
      "source": [
        "tech_bol= (svmmodel.predict([[15,4346,45,35,23,12,2]]))\n",
        "class color:\n",
        "   BOLD = '\\033[1m'\n",
        "   END = '\\033[0m'\n",
        "if tech_bol==1:\n",
        "  print(color.BOLD + \"The company is probabaly a Tech Company!\" + color.END)\n",
        "elif tech_bol==0:\n",
        "  print(color.BOLD+ \"The company is probabaly NOT a Tech Company!\"+ color.END)"
      ],
      "execution_count": null,
      "outputs": [
        {
          "output_type": "stream",
          "text": [
            "\u001b[1mThe company is probabaly a Tech Company!\u001b[0m\n"
          ],
          "name": "stdout"
        }
      ]
    },
    {
      "cell_type": "code",
      "metadata": {
        "colab": {
          "base_uri": "https://localhost:8080/"
        },
        "id": "pl8F6xOh19vP",
        "outputId": "92eb5e5b-7997-4c64-ed73-e39ea3fe4d6a"
      },
      "source": [
        "cbrank = input('Enter the CB-Rank: ')\n",
        "articles = input('Enter the NumberofArticles: ')\n",
        "investors = input('Enter the Number of Investors: ')\n",
        "patents = input('Enter the No of Patents: ')\n",
        "trademarks = input('Enter the No of TrademarksRegistered: ')\n",
        "activetech = input('Enter the ActiveTechCount: ')\n",
        "trend = input('Enter the TrendScore: ')\n",
        "tech_bol= (svmmodel.predict([[cbrank,articles,investors,patents,trademarks,activetech,trend]]))\n",
        "class color:\n",
        "   BOLD = '\\033[1m'\n",
        "   END = '\\033[0m'\n",
        "if tech_bol==1:\n",
        "  print(color.BOLD + \"The company is probabaly a Tech Company!\" + color.END)\n",
        "elif tech_bol==0:\n",
        "  print(color.BOLD+ \"The company is probabaly NOT a Tech Company!\"+ color.END)\n",
        "else:\n",
        "  print(\"oops!Something wrong happend, give it another try!\")"
      ],
      "execution_count": null,
      "outputs": [
        {
          "output_type": "stream",
          "text": [
            "Enter the CB-Rank: 45\n",
            "Enter the NumberofArticles: 45\n",
            "Enter the Number of Investors: 3534\n",
            "Enter the No of Patents: 3535\n",
            "Enter the No of TrademarksRegistered: 5345\n",
            "Enter the ActiveTechCount: 45\n",
            "Enter the TrendScore: 45\n",
            "\u001b[1mThe company is probabaly a Tech Company!\u001b[0m\n"
          ],
          "name": "stdout"
        }
      ]
    }
  ]
}